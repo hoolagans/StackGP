{
 "cells": [
  {
   "cell_type": "code",
   "execution_count": 11,
   "metadata": {},
   "outputs": [],
   "source": [
    "from StackGP import *\n",
    "import sympy as sym\n",
    "import pandas as pd\n",
    "import numpy as np"
   ]
  },
  {
   "cell_type": "code",
   "execution_count": 3,
   "metadata": {},
   "outputs": [],
   "source": [
    "data=pd.read_csv('/Users/nathanhaut/Downloads/pmlb/datasets/195_auto_price/195_auto_price.csv')"
   ]
  },
  {
   "cell_type": "code",
   "execution_count": 10,
   "metadata": {},
   "outputs": [],
   "source": [
    "trainSize=np.floor(len(data)*0.7)\n",
    "testSize=len(data)-trainSize"
   ]
  },
  {
   "cell_type": "code",
   "execution_count": null,
   "metadata": {},
   "outputs": [],
   "source": [
    "def ComputeSymbolicHess(model,vars):\n",
    "    printedModel=sym.simplify(printGPModel(model))\n",
    "    if type(printedModel)==float:\n",
    "        return sym.matrices.dense.MutableDenseMatrix(np.zeros((vars,vars)))\n",
    "    hess=sym.hessian(printedModel, [symbols('x'+str(i)) for i in range(vars)])\n",
    "    return hess\n",
    "\n",
    "def EvaluateHess(hess,vars,values):\n",
    "    numHess=hess.subs({symbols('x'+str(j)):values[j] for j in range(vars)})\n",
    "    hessN = np.array(numHess).astype(float)\n",
    "    rankN=np.linalg.matrix_rank(hessN,tol=0.0001*0.0001*10)\n",
    "    return rankN\n",
    "\n",
    "def Approx2Deriv(model,values,diff1,diff2,positions): #maybe diff should be relative to the variation of each feature\n",
    "    term1=[values[i]+diff1 if i == positions[0] else values[i] for i in range(len(values))]\n",
    "    term1=[term1[i]+diff2 if i == positions[1] else term1[i] for i in range(len(term1))]\n",
    "    term2=[values[i]-diff1 if i == positions[0] else values[i] for i in range(len(values))]\n",
    "    term2=[term2[i]+diff2 if i == positions[1] else term2[i] for i in range(len(term2))]\n",
    "    term3=[values[i]+diff1 if i == positions[0] else values[i] for i in range(len(values))]\n",
    "    term3=[term3[i]-diff2 if i == positions[1] else term3[i] for i in range(len(term3))]\n",
    "    term4=[values[i]-diff1 if i == positions[0] else values[i] for i in range(len(values))]\n",
    "    term4=[term4[i]-diff2 if i == positions[1] else term4[i] for i in range(len(term4))]\n",
    "    return ((evaluateGPModel(model,term1)-evaluateGPModel(model,term2))/((2*diff1))\n",
    "            -(evaluateGPModel(model,term3)-evaluateGPModel(model,term4))/((2*diff1)))/(2*diff2)\n",
    "\n",
    "def ApproxHessRank(model,vars,values,diff1=0.001,diff2=0.001):\n",
    "    hess=[[Approx2Deriv(model,values,diff1,diff2,[i,j]) for i in range(vars)] for j in range(vars)]\n",
    "    hessN = np.array(hess).astype(float)\n",
    "    rankN=np.linalg.matrix_rank(hessN,tol=0.0001*0.0001*10)\n",
    "    return rankN"
   ]
  },
  {
   "cell_type": "code",
   "execution_count": null,
   "metadata": {},
   "outputs": [],
   "source": [
    "def runExperiment(file,targetID,IDrange,name):\n",
    "    #Import data file\n",
    "    data=pd.read_csv(file)#\"/Users/nathanhaut/Downloads/pmlb/datasets/195_auto_price/195_auto_price.csv\")\n",
    "    \n",
    "    #Extract data from file\n",
    "    vars=data.columns\n",
    "\n",
    "\n",
    "    #Split train and test data\n",
    "    trainSize=np.floor(len(data)*0.7)\n",
    "    testSize=len(data)-trainSize\n",
    "\n",
    "    trainIndices=np.random.choice(len(data),int(trainSize),replace=False)\n",
    "    testIndices=np.setdiff1d(np.arange(len(data)),trainIndices)\n",
    "\n",
    "    trainData=data.iloc[trainIndices]\n",
    "    testData=data.iloc[testIndices]\n",
    "\n",
    "    #Extract input and response data\n",
    "    trainInput=np.array(trainData.T)[:-1]\n",
    "    trainResponse=np.array(trainData.T)[-1]\n",
    "    testInput=np.array(testData.T)[:-1]\n",
    "    testResponse=np.array(testData.T)[-1]\n",
    "\n",
    "    #Create target basis set function\n",
    "    func=basisFunctionComplexityDiff(targetID,IDrange)\n",
    "\n",
    "    #Evolve models using three approaches: ID-informed, complexity-informed, and standard tournament\n",
    "    IDmodels=evolve(trainInput,trainResponse,modelEvaluationMetrics=[fitness,func],tourneySize=20,generations=100,align=False,elitismRate=10,popSize=300)\n",
    "    ID3Omodels=evolve(trainInput,trainResponse,modelEvaluationMetrics=[fitness,stackGPModelComplexity,func],tourneySize=40,generations=100,align=False,elitismRate=10,popSize=300)\n",
    "    compModels=evolve(trainInput,trainResponse,tourneySize=20,generations=100,align=False,elitismRate=10,popSize=300)\n",
    "    tourneyModels=evolve(trainInput,trainResponse,modelEvaluationMetrics=[fitness],tourneySize=5,generations=100,align=False,elitismRate=10,popSize=300)\n",
    "\n",
    "    #Select target models from approaches\n",
    "    IDmodel=IDmodels[0]\n",
    "    ID3Omodel=ID3Omodels[0]\n",
    "    compModel=compModels[0]\n",
    "    tourneyModel=tourneyModels[0]\n",
    "\n",
    "    #Align models\n",
    "    IDmodel=alignGPModel(IDmodel,trainInput,trainResponse)\n",
    "    ID3Omodel=alignGPModel(ID3Omodel,trainInput,trainResponse)\n",
    "    compModel=alignGPModel(compModel,trainInput,trainResponse)\n",
    "    tourneyModel=alignGPModel(tourneyModel,trainInput,trainResponse)\n",
    "\n",
    "    #Evaluate models on test data\n",
    "    IDfitness=fitness(IDmodel,testInput,testResponse)\n",
    "    ID3Ofitness=fitness(ID3Omodel,testInput,testResponse)\n",
    "    compFitness=fitness(compModel,testInput,testResponse)\n",
    "    tourneyFitness=fitness(tourneyModel,testInput,testResponse)\n",
    "\n",
    "    IDRMSE=np.linalg.norm(evaluateGPModel(IDmodel,testInput)-testResponse)\n",
    "    ID3ORMSE=np.linalg.norm(evaluateGPModel(ID3Omodel,testInput)-testResponse)\n",
    "    compRMSE=np.linalg.norm(evaluateGPModel(compModel,testInput)-testResponse)\n",
    "    tourneyRMSE=np.linalg.norm(evaluateGPModel(tourneyModel,testInput)-testResponse)\n",
    "\n",
    "    #Save results\n",
    "    results=pd.DataFrame({'ID':[printGPModel(IDmodel),IDfitness,IDRMSE],'ID3O':[printGPModel(ID3Omodel),ID3Ofitness,ID3ORMSE],'Complexity':[printGPModel(compModel),compFitness,compRMSE],'Tourney':[printGPModel(tourneyModel),tourneyFitness,tourneyRMSE]})\n",
    "    results.to_csv('Results/'+name+'.csv')\n",
    "\n",
    "\n",
    "    #Return target models and fitnesses on test data\n",
    "    return results\n"
   ]
  },
  {
   "cell_type": "code",
   "execution_count": null,
   "metadata": {},
   "outputs": [],
   "source": []
  },
  {
   "cell_type": "code",
   "execution_count": null,
   "metadata": {},
   "outputs": [],
   "source": [
    "def runTrials(file, count):\n",
    "    #Create variables to store output\n",
    "\n",
    "    #Loop through trials\n",
    "    for i in range(count):\n",
    "        #Run experiments\n",
    "        runExperiment()\n",
    "\n",
    "    #Compute statistics\n",
    "\n",
    "    #Save data to file\n",
    "\n",
    "    #Return results\n",
    "\n",
    "\n",
    "def loadData():\n",
    "    #Load statistics from results file\n",
    "\n",
    "\n"
   ]
  }
 ],
 "metadata": {
  "kernelspec": {
   "display_name": "Python 3",
   "language": "python",
   "name": "python3"
  },
  "language_info": {
   "codemirror_mode": {
    "name": "ipython",
    "version": 3
   },
   "file_extension": ".py",
   "mimetype": "text/x-python",
   "name": "python",
   "nbconvert_exporter": "python",
   "pygments_lexer": "ipython3",
   "version": "3.9.13"
  }
 },
 "nbformat": 4,
 "nbformat_minor": 2
}
