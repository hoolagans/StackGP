{
 "cells": [
  {
   "cell_type": "code",
   "execution_count": null,
   "metadata": {},
   "outputs": [],
   "source": [
    "from StackGP import *"
   ]
  },
  {
   "cell_type": "code",
   "execution_count": null,
   "metadata": {},
   "outputs": [],
   "source": [
    "def runExperiment(file,targetID,IDrange):\n",
    "    #Import data file\n",
    "    data=pd.read_csv(file)#\"/Users/nathanhaut/Downloads/pmlb/datasets/195_auto_price/195_auto_price.csv\")\n",
    "    \n",
    "    #Extract data from file\n",
    "    vars=data.columns\n",
    "    inputData=np.array(data.T)[:-1]\n",
    "    response=np.array(data.T)[-1]\n",
    "\n",
    "    #Split train and test data\n",
    "\n",
    "    \n",
    "\n",
    "    #Create target basis set function\n",
    "    func=basisFunctionComplexityDiff(targetID,IDrange)\n",
    "\n",
    "    #Evolve models using three approaches: ID-informed, complexity-informed, and standard tournament\n",
    "    IDmodels=evolve(inputData,response,modelEvaluationMetrics=[fitness,func],tourneySize=20,generations=100,align=False,elitismRate=10,popSize=300)\n",
    "    compModels=evolve(inputData,response,tourneySize=20,generations=100,align=False,elitismRate=10,popSize=300)\n",
    "    tourneyModels=evolve(inputData,response,modelEvaluationMetrics=[fitness],tourneySize=5,generations=100,align=False,elitismRate=10,popSize=300)\n",
    "\n",
    "    #Select target models from approaches\n",
    "\n",
    "\n",
    "\n",
    "    #Return target models and fitnesses on test data"
   ]
  }
 ],
 "metadata": {
  "language_info": {
   "name": "python"
  }
 },
 "nbformat": 4,
 "nbformat_minor": 2
}
