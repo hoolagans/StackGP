{
 "cells": [
  {
   "cell_type": "code",
   "execution_count": 2,
   "id": "d33fb3db",
   "metadata": {},
   "outputs": [],
   "source": [
    "from StackGP import *\n",
    "import numpy as np"
   ]
  },
  {
   "cell_type": "code",
   "execution_count": 44,
   "id": "4c2e9282",
   "metadata": {},
   "outputs": [],
   "source": [
    "def binaryError(model, input, response):\n",
    "    prediction= evaluateGPModel(model, input)\n",
    "    error = np.mean(np.abs(prediction - response))\n",
    "    if np.isnan(error) or np.isinf(error) or error > 1 or error < 0: \n",
    "        return 0.5\n",
    "    return min(error, 1 - error)"
   ]
  },
  {
   "cell_type": "code",
   "execution_count": 29,
   "id": "62c78802",
   "metadata": {},
   "outputs": [],
   "source": [
    "def and1(a,b):\n",
    "    return np.logical_and(a, b)\n",
    "def or1(a,b):\n",
    "    return np.logical_or(a, b)\n",
    "def xor1(a,b):\n",
    "    return np.logical_xor(a, b)\n",
    "def nand1(a,b):\n",
    "    return np.logical_not(np.logical_and(a, b))\n",
    "def nor1(a,b):\n",
    "    return np.logical_not(np.logical_or(a, b))\n",
    "def xnor1(a,b):\n",
    "    return np.logical_not(np.logical_xor(a, b))  \n",
    "def not1(a):\n",
    "    return np.logical_not(a)\n",
    "binaryOps = [and1, or1, xor1, nand1, nor1, xnor1, not1,\"pop\",\"pop\",\"pop\",\"pop\",\"pop\",\"pop\"]"
   ]
  },
  {
   "cell_type": "code",
   "execution_count": 69,
   "id": "88447dae",
   "metadata": {},
   "outputs": [],
   "source": [
    "data= np.array([[0,1,0,0,0,0],[1,0,1,1,0,0]])\n",
    "response=np.array([1,1,1,1,0,1])"
   ]
  },
  {
   "cell_type": "code",
   "execution_count": 40,
   "id": "16ff3a0c",
   "metadata": {},
   "outputs": [
    {
     "data": {
      "text/plain": [
       "[array([<function xor1 at 0x32cd5eca0>], dtype=object), [1, 0], []]"
      ]
     },
     "execution_count": 40,
     "metadata": {},
     "output_type": "execute_result"
    }
   ],
   "source": [
    "sampleModel=initializeGPModels(2,ops=binaryOps,const=[0,1])[0]\n",
    "sampleModel"
   ]
  },
  {
   "cell_type": "code",
   "execution_count": 41,
   "id": "bf6ae934",
   "metadata": {},
   "outputs": [
    {
     "data": {
      "text/plain": [
       "array([ True,  True,  True,  True])"
      ]
     },
     "execution_count": 41,
     "metadata": {},
     "output_type": "execute_result"
    }
   ],
   "source": [
    "evaluateGPModel(sampleModel, data)"
   ]
  },
  {
   "cell_type": "code",
   "execution_count": 70,
   "id": "b1c8f136",
   "metadata": {},
   "outputs": [
    {
     "data": {
      "image/png": "[encoded data removed]",
      "text/plain": [
       "<Figure size 640x480 with 1 Axes>"
      ]
     },
     "metadata": {},
     "output_type": "display_data"
    }
   ],
   "source": [
    "models=evolve(data,response,ops=binaryOps,const=[0,1],modelEvaluationMetrics=[binaryError,stackGPModelComplexity],tracking=True,align=False)"
   ]
  },
  {
   "cell_type": "code",
   "execution_count": 71,
   "id": "c53624f8",
   "metadata": {},
   "outputs": [
    {
     "data": {
      "text/plain": [
       "[array(['pop'], dtype=object),\n",
       " [-0.16566702203615846],\n",
       " [0.0009996446305081674, 1]]"
      ]
     },
     "execution_count": 71,
     "metadata": {},
     "output_type": "execute_result"
    }
   ],
   "source": [
    "models[0]"
   ]
  },
  {
   "cell_type": "code",
   "execution_count": 72,
   "id": "27f9deab",
   "metadata": {},
   "outputs": [
    {
     "data": {
      "text/plain": [
       "array([-0.16566702, -0.16566702, -0.16566702, -0.16566702, -0.16566702,\n",
       "       -0.16566702])"
      ]
     },
     "execution_count": 72,
     "metadata": {},
     "output_type": "execute_result"
    }
   ],
   "source": [
    "evaluateGPModel(models[0], data)"
   ]
  },
  {
   "cell_type": "code",
   "execution_count": 73,
   "id": "f2641a29",
   "metadata": {},
   "outputs": [
    {
     "data": {
      "text/plain": [
       "0.0009996446305081674"
      ]
     },
     "execution_count": 73,
     "metadata": {},
     "output_type": "execute_result"
    }
   ],
   "source": [
    "binaryError(models[0], data, response)"
   ]
  },
  {
   "cell_type": "code",
   "execution_count": 74,
   "id": "bfb56197",
   "metadata": {},
   "outputs": [
    {
     "data": {
      "text/plain": [
       "0.9990003553694918"
      ]
     },
     "execution_count": 74,
     "metadata": {},
     "output_type": "execute_result"
    }
   ],
   "source": [
    "out=evaluateGPModel(models[0], data)\n",
    "np.mean(np.abs(out-response))"
   ]
  },
  {
   "cell_type": "code",
   "execution_count": null,
   "id": "1dbe72bd",
   "metadata": {},
   "outputs": [],
   "source": []
  }
 ],
 "metadata": {
  "kernelspec": {
   "display_name": "base",
   "language": "python",
   "name": "python3"
  },
  "language_info": {
   "codemirror_mode": {
    "name": "ipython",
    "version": 3
   },
   "file_extension": ".py",
   "mimetype": "text/x-python",
   "name": "python",
   "nbconvert_exporter": "python",
   "pygments_lexer": "ipython3",
   "version": "3.12.7"
  }
 },
 "nbformat": 4,
 "nbformat_minor": 5
}
