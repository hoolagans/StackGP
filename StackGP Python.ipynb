{
 "cells": [
  {
   "cell_type": "markdown",
   "id": "c822f7f3",
   "metadata": {},
   "source": [
    "# StackGP System in Python\n",
    "## By: Nathan Haut\n",
    "\n",
    "### Implementation Notes\n",
    "\n",
    "This implementation evolves models of the form model = [operator Stack, Variable Constant Stack, ..., [QualityMetrics]].\n"
   ]
  },
  {
   "cell_type": "code",
   "execution_count": 10,
   "id": "b09dd8a1",
   "metadata": {},
   "outputs": [],
   "source": [
    "import random\n",
    "import matplotlib.pyplot as plt\n",
    "import numpy as np\n",
    "import math\n",
    "import copy\n",
    "from scipy.stats import pearsonr # for computing correlation\n",
    "from functools import reduce #for flattening lists\n",
    "from operator import concat  #for flattening lists\n",
    "import warnings\n",
    "import time\n",
    "from sklearn.cluster import KMeans #for clustering in ensemble definition\n",
    "warnings.filterwarnings('ignore', '.*invalid value.*' )\n",
    "warnings.filterwarnings('ignore', '.*overflow.*' )\n",
    "warnings.filterwarnings('ignore', '.*divide by.*' )\n",
    "warnings.filterwarnings('ignore', '.*is constant.*' )\n",
    "warnings.filterwarnings('ignore', '.*nearly constant.*' )\n",
    "warnings.filterwarnings('ignore', '.*Polyfit may be.*' )\n",
    "def protectDiv(a,b):\n",
    "    \n",
    "    if (type(b)==int or type(b)==float or type(b)==np.float64) and b==0:\n",
    "        return a/math.nan\n",
    "    if (type(b)==np.ndarray) and (0 in b):\n",
    "        return a/np.where(b==0,math.nan,b)\n",
    "    return a/b\n",
    "def add(a,b):\n",
    "    return a+b\n",
    "def sub(a,b):\n",
    "    return a-b\n",
    "def mult(a,b):\n",
    "    return a*b\n",
    "def exp(a):\n",
    "    return np.exp(a)\n",
    "# def sine(a,b):\n",
    "#     return np.sin(a)\n",
    "def power(a,b):\n",
    "    return a**b\n",
    "def sqrt(a):\n",
    "    return np.sqrt(a)\n",
    "def sqrd(a):\n",
    "    return a**2\n",
    "def inv(a):\n",
    "    return np.array(a).astype(float)**(-1)\n",
    "def sin(a):\n",
    "    return np.sin(a)\n",
    "def cos(a):\n",
    "    return np.cos(a)\n",
    "def tan(a):\n",
    "    return np.tan(a)\n",
    "def arccos(a):\n",
    "    return np.arccos(a)\n",
    "def arcsin(a):\n",
    "    return np.arcsin(a)\n",
    "def arctan(a):\n",
    "    return np.arctan(a)\n",
    "def tanh(a):\n",
    "    return np.tanh(a)\n",
    "def log(a):\n",
    "    return np.log(a)\n",
    "\n",
    "\n",
    "\n",
    "\n",
    "\n",
    "def defaultOps():\n",
    "    return [protectDiv,add,sub,mult,exp,sqrd,sqrt,inv,\"pop\",\"pop\",\"pop\",\"pop\",\"pop\",\"pop\"]\n",
    "def allOps():\n",
    "    return [protectDiv,add,sub,mult,exp,sqrd,sqrt,inv,cos,sin,tan,arccos,arcsin,arctan,tanh,log,\"pop\",\"pop\",\"pop\",\"pop\",\"pop\",\"pop\",\"pop\",\"pop\",\"pop\",\"pop\"]\n",
    "def randomInt(a=-3,b=3):\n",
    "    return random.randint(a,b)\n",
    "def defaultConst():\n",
    "    return [np.pi, np.e, randomInt,ranReal ]\n",
    "def ranReal(a=20,b=-10):\n",
    "    return random.random()*a-b"
   ]
  },
  {
   "cell_type": "code",
   "execution_count": 11,
   "id": "71449c83-0dc2-45ef-9cf0-d971172b9e85",
   "metadata": {},
   "outputs": [],
   "source": [
    "import inspect\n",
    "def getArity(func): #Returns the arity of a function: used for model evaluations\n",
    "    if func==\"pop\":\n",
    "        return 1\n",
    "    return len(inspect.signature(func).parameters)\n",
    "\n",
    "getArity.__doc__ = \"getArity(func) takes a function and returns the function arity\"\n",
    "\n",
    "def modelArity(model): #Returns the total arity of a model\n",
    "    return 1+sum([getArity(i)-1 for i in model[0]])\n",
    "\n",
    "modelArity.__doc__ = \"modelArity(model) returns the total arity of a model\"\n",
    "\n",
    "def listArity(data): #Returns arity of evaluating a list of operators\n",
    "    if len(data)==0:\n",
    "        return 0\n",
    "    return 1+sum([getArity(i)-1 for i in data])\n",
    "\n",
    "listArity.__doc__ = \"listArity(list) returns the arity of evaluating a list of operators\"\n",
    "\n",
    "def buildEmptyModel(): # Generates an empty model\n",
    "    return [[],[],[]]\n",
    "\n",
    "buildEmptyModel.__doc__ = \"buildEmptyModel() takes no inputs and generates an empty GP model\"\n",
    "\n",
    "def variableSelect(num): #Function that creates a function to select a specific variable\n",
    "    return lambda variables: variables[num]\n",
    "\n",
    "variableSelect.__doc__ = \"variableSelect(n) is a function that creates a function to select the nth variable\"\n"
   ]
  },
  {
   "cell_type": "code",
   "execution_count": 12,
   "id": "649ffb92",
   "metadata": {},
   "outputs": [],
   "source": [
    "def generateRandomModel(variables,ops,const,maxLength):  #Generates a random GP model\n",
    "    prog = buildEmptyModel()                             #Generate an empty model with correct structure\n",
    "    varChoices=[variableSelect(i) for i in range(variables)]+const                           #All variable and constants choices\n",
    "    prog[0]=np.array(np.random.choice(ops,random.randint(1,maxLength)),dtype=object) #Choose random operators\n",
    "    countVars=modelArity(prog)    #Count how many variables/constants are needed\n",
    "    prog[1]=np.random.choice(varChoices,countVars)       #Choose random variables/constants\n",
    "    prog[1]=[i() if (callable(i) and i.__name__!='<lambda>' )else i for i in prog[1]] #If function then evaluate\n",
    "    return prog\n",
    "\n",
    "generateRandomModel.__doc__ = \"generateRandomModel() takes as input the variables, operators, constants, and max program length and returns a random program\"\n",
    "\n",
    "def initializeGPModels(variables,ops=defaultOps(),const=defaultConst(),numberOfModels=100,maxLength=10): # generate random linear program\n",
    "    prog=[[],[],[]]\n",
    "    # prog stores [Operators, VarConst, QualityMetrics]\n",
    "    \n",
    "    models=[generateRandomModel(variables,ops,const,maxLength) for i in range(numberOfModels)] #Generate models\n",
    "    \n",
    "    return models\n",
    "\n",
    "initializeGPModels.__doc__ = \"initializeGPModels(countOfVariables, operators, constants, numberOfModels=100, maxLength=10) returns a set of randomly generated models\"\n",
    "\n"
   ]
  },
  {
   "cell_type": "code",
   "execution_count": 13,
   "id": "869756cb-4b4d-42be-8146-0789e9211507",
   "metadata": {},
   "outputs": [],
   "source": [
    "def reverseList(data): #Returns a list reversed\n",
    "    return [i for i in reversed(data)]\n",
    "reverseList.__doc__ = \"reverseList(data) returns the data list reversed\"\n",
    "\n",
    "def varReplace(data,variables): #Replaces variable references with data during model evaluation\n",
    "    return [i(variables) if callable(i) else i for i in data]\n",
    "varReplace.__doc__ = \"varReplace(data,variables) replaces references to variables in data with actual values\"\n",
    "\n",
    "def inputLen(data): #Returns the number of data records in a data set\n",
    "    el1=data[0]\n",
    "    if type(el1)==list or type(el1)==np.ndarray:\n",
    "        return len(el1)\n",
    "    else:\n",
    "        return 1\n",
    "inputLen.__doc__ = \"inputLen(data) determines the number of data records in a data set\"\n",
    "\n",
    "def varCount(data): #Returns the number of variables in a data set\n",
    "    return len(data)\n",
    "varCount.__doc__ = \"varCount(data) determines the number of variables in a data set\"\n",
    "\n",
    "def evaluateGPModel(model,inputData): #Evaluates a model numerically\n",
    "    response=evModHelper(model[1],model[0],[],np.array(inputData).astype(float))[2][0]\n",
    "    if not type(response)==np.ndarray and inputLen(inputData)>1:\n",
    "        response=np.array([response for i in range(inputLen(inputData))])\n",
    "    return response\n",
    "evaluateGPModel.__doc__ = \"evaluateGPModel(model,data) numerically evaluates a model using the data stored in inputData\"\n",
    "\n",
    "def evModHelper(varStack,opStack,tempStack,data): #Recursive helper function for evaluateGPModel\n",
    "    stack1=varStack\n",
    "    stack2=opStack\n",
    "    stack3=tempStack\n",
    "    \n",
    "    if len(stack2)==0:\n",
    "        return [stack3,stack2,stack1]\n",
    "    op=stack2[0]\n",
    "    stack2=stack2[1:]\n",
    "    \n",
    "    if callable(op):\n",
    "        \n",
    "        patt=getArity(op)\n",
    "        while patt>len(stack3):\n",
    "            stack3=[stack1[0]]+stack3\n",
    "            stack1=stack1[1:]\n",
    "        temp=op(*varReplace(reverseList(stack3[:patt]),data))\n",
    "        stack3=stack3[patt:]\n",
    "        stack3=[temp]+stack3\n",
    "        \n",
    "    else:\n",
    "        if len(stack1)>0:\n",
    "            stack3=varReplace([stack1[0]],data)+stack3\n",
    "            stack1=stack1[1:]\n",
    "    if len(stack2)>0:\n",
    "        stack1,stack2,stack3=evModHelper(stack1,stack2,stack3,data)\n",
    "        \n",
    "    return [stack1,stack2,stack3]\n",
    "evModHelper.__doc__ = \"evModHelper(varStack,opStack,tempStack,data) is a helper function for evaluateGPModel\"\n",
    "\n",
    "def fitness(prog,data,response): # Fitness function using correlation\n",
    "    predicted=evaluateGPModel(prog,np.array(data))\n",
    "    if type(predicted)!=list and type(predicted)!=np.ndarray:\n",
    "        predicted=np.array([predicted for i in range(inputLen(data))])\n",
    "    if np.isnan(predicted).any() or np.isinf(predicted).any():\n",
    "        return np.nan\n",
    "    if (not all(np.isfinite(np.array(predicted,dtype=np.float32)))) or np.all(predicted==predicted[0]):\n",
    "        return np.nan\n",
    "    fit=1-pearsonr(predicted,np.array(response))[0]**2  # 1-R^2\n",
    "    if math.isnan(fit):\n",
    "        return 1 # If nan return 1 as fitness\n",
    "    return fit   # Else return actual fitness 1-R^2\n",
    "\n",
    "fitness.__doc__ = \"fitness(program,data,response) returns the 1-R^2 value of a model\"\n",
    "\n",
    "def stackGPModelComplexity(model,*args):\n",
    "    return len(model[0])+len(model[1])-model[0].tolist().count(\"pop\")\n",
    "\n",
    "stackGPModelComplexity.__doc__ = \"stackGPModelComplexity(model) returns the complexity of the model\"\n",
    "\n",
    "def setModelQuality(model,inputData,response,modelEvaluationMetrics=[fitness,stackGPModelComplexity]):\n",
    "    model[2]=[i(model,inputData,response) for i in modelEvaluationMetrics]\n",
    "    \n",
    "setModelQuality.__doc__ = \"setModelQuality(model, inputdata, response, metrics=[r2,size]) is an inplace operator that sets a models quality\"\n",
    "\n",
    "def stackPass(model,pt):\n",
    "    i=0\n",
    "    t=0\n",
    "    p=0\n",
    "    s=model[0]\n",
    "    if i <pt:\n",
    "        t+=1\n",
    "    while i<pt:\n",
    "        if s[i]==\"pop\":\n",
    "            t+=1\n",
    "            p+=1\n",
    "        else:\n",
    "            p+=max(0,getArity(s[i])-t)\n",
    "            t=max(1,t-getArity(s[i])+1)\n",
    "        i+=1\n",
    "    stack1=model[1][p:]\n",
    "    stack2=reverseList(model[1][:p])[:t+1]\n",
    "    return [stack1,stack2]\n",
    "\n",
    "def stackGrab(stack1, stack2, num):\n",
    "    tStack1=copy.deepcopy(stack1)\n",
    "    tStack2=copy.deepcopy(stack2)\n",
    "    newStack=[]\n",
    "    if len(stack2)<num:\n",
    "        newStack=stack2+stack1[:(num-len(stack2))]\n",
    "        tStack1=tStack1[num-len(tStack2):]\n",
    "        tStack2=[]\n",
    "    else:\n",
    "        newStack=stack2[:num]\n",
    "        tStack2=tStack2[num:]\n",
    "    return [newStack,tStack1,tStack2]\n",
    "\n",
    "def fragmentVariables(model,pts):\n",
    "    stack1,stack2=stackPass(model,pts[0])\n",
    "    opStack=model[0]\n",
    "    newStack=[]\n",
    "    i=pts[0]\n",
    "    while i<=pts[1]:\n",
    "        if opStack[i]==\"pop\" and len(stack1)>0:\n",
    "            stack2=[stack1[0]]+stack2\n",
    "            stack1=stack1[1:]\n",
    "        else:\n",
    "            if len(newStack)==0 and pts[0]==0:\n",
    "                tStack,stack1,stack2=stackGrab(stack1,stack2,getArity(opStack[i]))\n",
    "            else:\n",
    "                tStack,stack1,stack2=stackGrab(stack1,stack2,getArity(opStack[i])-1)\n",
    "            newStack=newStack+tStack\n",
    "        i+=1\n",
    "    return newStack\n",
    "                                            \n",
    "\n",
    "def recombination2pt(model1,model2): #2 point recombination\n",
    "    pts1=np.sort(random.sample(range(0,len(model1[0])+1),2))\n",
    "    pts2=np.sort(random.sample(range(0,len(model2[0])+1),2))\n",
    "    #pts1=[4,5]\n",
    "    #pts2=[2,4]\n",
    "    #pts1=[0,3]\n",
    "    #pts2=[1,3]\n",
    "    #print(pts1,pts2)\n",
    "    child1=buildEmptyModel()\n",
    "    child2=buildEmptyModel()\n",
    "    \n",
    "    parent1=copy.deepcopy(model1)\n",
    "    parent2=copy.deepcopy(model2)\n",
    "    parent1[0]=np.array(parent1[0],dtype=object).tolist()\n",
    "    parent2[0]=np.array(parent2[0],dtype=object).tolist()\n",
    "    \n",
    "    child1[0]=np.array(parent1[0][0:pts1[0]]+parent2[0][pts2[0]:pts2[1]]+parent1[0][pts1[1]:],dtype=object)\n",
    "    child2[0]=np.array(parent2[0][0:pts2[0]]+parent1[0][pts1[0]:pts1[1]]+parent2[0][pts2[1]:],dtype=object)\n",
    "        \n",
    "    varPts1=[listArity(parent1[0][:(pts1[0])])+0,listArity(parent2[0][:(pts2[0])])+0,listArity(parent2[0][pts2[0]:pts2[1]]),listArity(parent1[0][pts1[0]:pts1[1]])]\n",
    "    if pts1[0]==0:\n",
    "        varPts1[0]+=1\n",
    "    if pts2[0]==0:\n",
    "        varPts1[1]+=1\n",
    "    child1[1]=parent1[1][:varPts1[0]]+parent2[1][varPts1[1]:(varPts1[1]+varPts1[2]-1)]+parent1[1][(varPts1[0]+varPts1[3]-1):]\n",
    "    \n",
    "    varPts2=[listArity(parent2[0][:(pts2[0])])+0,listArity(parent1[0][:(pts1[0])])+0,listArity(parent1[0][pts1[0]:pts1[1]]),listArity(parent2[0][pts2[0]:pts2[1]])]\n",
    "    if pts1[0]==0:\n",
    "        varPts2[1]+=1\n",
    "    if pts2[0]==0:\n",
    "        varPts2[0]+=1\n",
    "    child2[1]=parent2[1][:varPts2[0]]+parent1[1][varPts2[1]:(varPts2[1]+varPts2[2]-1)]+parent2[1][(varPts2[0]+varPts2[3]-1):]\n",
    "    #print(varPts1,varPts2)\n",
    "    \n",
    "    return [child1,child2]\n",
    "\n",
    "recombination2pt.__doc__ = \"recombination2pt(model1,model2) does 2 point crossover and returns two children models\"\n",
    "\n",
    "def mutate(model,variables,ops=defaultOps(),const=defaultConst(),maxLength=10):\n",
    "    newModel=copy.deepcopy(model)\n",
    "    \n",
    "    mutationType=random.randint(0,4)\n",
    "    varChoices=[variableSelect(i) for i in range(variables)]+const\n",
    "    opChoice=0\n",
    "    varChoice=0\n",
    "    \n",
    "    tmp=0\n",
    "    \n",
    "    if mutationType==0:\n",
    "        opChoice=random.randint(0,len(newModel[0])-1)\n",
    "        if len(newModel[0])>0:\n",
    "            newModel[0][opChoice]=np.random.choice([i for i in ops if getArity(i)==getArity(newModel[0][opChoice])])\n",
    "               \n",
    "    elif mutationType==1:\n",
    "        varChoice=np.random.choice(varChoices)\n",
    "        if callable(varChoice) and varChoice.__name__!='<lambda>':\n",
    "            varChoice=varChoice()\n",
    "        newModel[1][random.randint(0,len(newModel[1])-1)]=varChoice\n",
    "        \n",
    "    elif mutationType==2:\n",
    "        if len(newModel[0])>1:\n",
    "            opChoice=random.randint(1,len(newModel[0])-1)\n",
    "            newModel[0]=newModel[0][:opChoice]\n",
    "            newModel[1]=newModel[1][:listArity(newModel[0])]\n",
    "            \n",
    "    elif mutationType==3:\n",
    "        opChoice=np.random.choice([i for i in ops if getArity(i)==1])\n",
    "        newModel[0]=np.insert(newModel[0],random.randint(0,len(newModel[0])),opChoice)\n",
    "        \n",
    "    elif mutationType==4:\n",
    "        newModel=recombination2pt(newModel,generateRandomModel(variables,ops,const,maxLength))[0]\n",
    "            \n",
    "    newModel[0]=np.array(newModel[0],dtype=object)\n",
    "    return newModel\n",
    "    \n",
    "mutate.__doc__ = \"mutate(model,variableCount,ops,constants,maxLength) mutates a model\"\n",
    "\n",
    "def paretoFront(fitValues): #Returns Boolean list of Pareto front elements\n",
    "    onFront = np.ones(fitValues.shape[0], dtype = bool)\n",
    "    for i, j in enumerate(fitValues):\n",
    "        if onFront[i]:\n",
    "            onFront[onFront] = np.any(fitValues[onFront]<j, axis=1)  \n",
    "            onFront[i] = True  \n",
    "    return onFront\n",
    "def paretoTournament(pop): # selects the Pareto front of a model set\n",
    "    fitnessValues=np.array([mod[2] for mod in pop])\n",
    "    return (np.array(pop,dtype=object)[paretoFront(fitnessValues)]).tolist()\n",
    "\n",
    "def tournamentModelSelection(models, popSize=100,tourneySize=5):\n",
    "    selectedModels=[]\n",
    "    selectionSize=popSize\n",
    "    while len(selectedModels)<popSize:\n",
    "        tournament=random.sample(models,tourneySize)\n",
    "        winners=paretoTournament(tournament)\n",
    "        selectedModels=selectedModels+winners\n",
    "    \n",
    "    return selectedModels\n",
    "\n",
    "paretoTournament.__doc__ = \"paretoTournament(models, inputData, responseData) returns the Pareto front of a model set\"\n",
    "\n",
    "def modelSameQ(model1,model2): #Checks if two models are the same\n",
    "    return len(model1[0])==len(model2[0]) and len(model1[1]) == len(model2[1]) and all(model1[0]==model2[0]) and model1[1]==model2[1]\n",
    "\n",
    "modelSameQ.__doc__ = \"modelSameQ(model1,model2) checks if model1 and model2 are the same and returns True if so, else False\"\n",
    "\n",
    "\n",
    "def deleteDuplicateModels(models): #Removes any models that are the same, does not consider simplified form\n",
    "    uniqueMods = [models[0]]\n",
    "     \n",
    "    for mod in models:\n",
    "        test=False\n",
    "        for checkMod in uniqueMods:\n",
    "            if modelSameQ(mod,checkMod):\n",
    "                test=True\n",
    "        if not test:\n",
    "            uniqueMods.append(mod)\n",
    "    \n",
    "    return uniqueMods\n",
    "\n",
    "deleteDuplicateModels.__doc__ = \"deleteDuplicateModels(models) deletes models that have the same form without simplifying\"\n",
    "\n",
    "def removeIndeterminateModels(models): #Removes models from the population that evaluate to nonreal values\n",
    "    return [i for i in models if (not any(np.isnan(i[2]))) and all(np.isfinite(np.isnan(i[2])))]\n",
    "\n",
    "removeIndeterminateModels.__doc__ = \"removeIndeterminateModels(models) removes models that have a fitness that results from inf or nan values\"\n",
    "\n",
    "def sortModels(models):\n",
    "    return sorted(models, key=lambda m:m[2])\n",
    "\n",
    "def stackVarUsage(opStack): #Counts how many variables are used by the operator stack\n",
    "    pos=getArity(opStack[0])\n",
    "    for j in range(1,len(opStack)):\n",
    "        pos+=getArity(opStack[j])-1\n",
    "        if opStack[j]=='pop':\n",
    "            pos+=1\n",
    "    return pos\n",
    "\n",
    "def trimModel(mod): #Removes extra pop operators that do nothing\n",
    "    model=copy.deepcopy(mod)\n",
    "    i=0\n",
    "    varStack=len(mod[1])\n",
    "    tempStack=0\n",
    "    varStack-=getArity(model[0][i])\n",
    "    tempStack+=1\n",
    "    i+=1\n",
    "    while varStack>0:\n",
    "        if model[0][i]=='pop':\n",
    "            varStack-=1\n",
    "            tempStack+=1\n",
    "        else:\n",
    "            \n",
    "            take=getArity(model[0][i])-tempStack\n",
    "            if take>0:\n",
    "                varStack-=take\n",
    "                tempStack=1\n",
    "            else:\n",
    "                tempStack-=getArity(model[0][i])-1\n",
    "        i+=1\n",
    "    model[0]=np.array(model[0][:i].tolist()+[j for j in model[0][i:] if not j=='pop'],dtype=object)\n",
    "    return model\n",
    "\n",
    "def alignGPModel(model, data, response): #Aligns a model\n",
    "    prediction=evaluateGPModel(model,data)\n",
    "    if (not all(np.isfinite(np.array(prediction)))) or np.all(prediction==prediction[0]):\n",
    "        return model\n",
    "    if np.isnan(np.array(prediction)).any() or np.isnan(np.array(response)).any() or not np.isfinite(np.array(prediction,dtype=np.float32)).all():\n",
    "        return model\n",
    "    try:\n",
    "        align=np.round(np.polyfit(prediction,response,1,rcond=1e-16),decimals=14)\n",
    "    except np.linalg.LinAlgError:\n",
    "        print(\"Alignment failed for: \", model, \" with prediction: \", prediction, \"and reference data: \", response)\n",
    "        return model\n",
    "    newModel=trimModel(model)\n",
    "    newModel[0]=np.array(newModel[0].tolist()+[mult,add],dtype=object)\n",
    "    newModel[1]=newModel[1]+align.tolist()\n",
    "    setModelQuality(newModel,data,response)\n",
    "    return newModel\n",
    "\n",
    "def evolve(inputData, responseData, generations=100, ops=defaultOps(), const=defaultConst(), variableNames=[], mutationRate=79, crossoverRate=11, spawnRate=10, extinction=False,extinctionRate=40,elitismRate=50,popSize=100,maxComplexity=100,align=True,initialPop=[],timeLimit=300,capTime=False,tourneySize=5,tracking=False):\n",
    "    \n",
    "    fullInput,fullResponse=copy.deepcopy(inputData),copy.deepcopy(responseData)\n",
    "    inData=copy.deepcopy(fullInput)\n",
    "    resData=copy.deepcopy(fullResponse)\n",
    "    variableCount=varCount(inData)\n",
    "    models=initializeGPModels(variableCount,ops,const,popSize)\n",
    "    startTime=time.perf_counter()\n",
    "    bestFits=[]\n",
    "    for i in range(generations):\n",
    "        if capTime and time.perf_counter()-startTime>timeLimit:\n",
    "            break\n",
    "        for mods in models:\n",
    "            setModelQuality(mods,inData,resData)\n",
    "        \n",
    "        if tracking:\n",
    "            bestFits.append(min([mods[2][0] for mods in paretoTournament(models)])) \n",
    "       \n",
    "        paretoModels=paretoTournament(models)\n",
    "        if extinction and i%extinctionRate:\n",
    "            models=initializeGPModels(variableCount,ops,const,popSize)\n",
    "            for mods in models:\n",
    "                setModelQuality(mods,inData,resData)\n",
    "        \n",
    "        models=tournamentModelSelection(models,popSize,tourneySize)\n",
    "        \n",
    "        crossoverPairs=random.sample(models,round(crossoverRate/100*popSize))\n",
    "        toMutate=random.sample(models,round(mutationRate/100*popSize))\n",
    "        \n",
    "        childModels=paretoModels\n",
    "        \n",
    "        for j in range(round(len(crossoverPairs)/2)-1):\n",
    "            childModels=childModels+recombination2pt(crossoverPairs[j],crossoverPairs[j+round(len(crossoverPairs)/2)])\n",
    "        \n",
    "        for j in toMutate:\n",
    "            childModels=childModels+[mutate(j,variableCount,ops,const)]\n",
    "        \n",
    "        childModels=childModels+initializeGPModels(variableCount,ops,const,round(spawnRate/100*popSize))\n",
    "        \n",
    "        childModels=deleteDuplicateModels(childModels)\n",
    "        \n",
    "        for mods in childModels:\n",
    "            setModelQuality(mods,inData,resData)\n",
    "        childModels=removeIndeterminateModels(childModels)\n",
    "        \n",
    "        if len(childModels)<popSize:\n",
    "            childModels=childModels+initializeGPModels(variableCount,ops,const,popSize-len(childModels))\n",
    "        \n",
    "        models=copy.deepcopy(childModels)\n",
    "        \n",
    "    \n",
    "    for mods in models:\n",
    "        setModelQuality(mods,fullInput,fullResponse)\n",
    "\n",
    "    models=[trimModel(mod) for mod in models]\n",
    "    models=deleteDuplicateModels(models)\n",
    "    models=removeIndeterminateModels(models)\n",
    "\n",
    "    models=sortModels(models)\n",
    "    if align:\n",
    "        models=[alignGPModel(mods,fullInput,fullResponse) for mods in models]\n",
    "    \n",
    "    if tracking:\n",
    "        bestFits.append(min([mods[2][0] for mods in paretoTournament(models)])) \n",
    "        plt.figure()\n",
    "        plt.plot(bestFits)\n",
    "        plt.title(\"Fitness over Time\")\n",
    "        plt.xlabel(\"Generations\")\n",
    "        plt.ylabel(\"Fitness\")\n",
    "    \n",
    "    return models\n",
    "    "
   ]
  },
  {
   "cell_type": "code",
   "execution_count": 31,
   "id": "ac3e8919-9bec-4dbd-8bcf-6abe3dbfe46c",
   "metadata": {},
   "outputs": [],
   "source": [
    "def ensembleSelect(models, inputData, responseData, numberOfClusters=10):\n",
    "    data=np.transpose(inputData)\n",
    "    if len(data)<numberOfClusters:\n",
    "        numberOfClusters=len(data)\n",
    "    clusters=KMeans(n_clusters=numberOfClusters).fit_predict(data)\n",
    "    \n",
    "    dataParts=[]\n",
    "    partsResponse=[]\n",
    "    for i in range(numberOfClusters):\n",
    "        dataParts.append([])\n",
    "        partsResponse.append([])\n",
    "    \n",
    "    for i in range(len(clusters)):\n",
    "        dataParts[clusters[i]].append(data[i])\n",
    "        partsResponse[clusters[i]].append(responseData[i])\n",
    "        \n",
    "    modelResiduals=[]\n",
    "    \n",
    "    for i in range(len(models)):\n",
    "        modelResiduals.append([])\n",
    "    \n",
    "    for i in range(len(models)):\n",
    "        for j in range(numberOfClusters):\n",
    "            modelResiduals[i].append(fitness(models[i],np.transpose(dataParts[j]),partsResponse[j]))\n",
    "    \n",
    "    best=[]\n",
    "    for i in range(numberOfClusters):\n",
    "        ordering=np.argsort(modelResiduals[i])\n",
    "        j=0\n",
    "        while ordering[j] in best:\n",
    "            j+=1\n",
    "        best.append(ordering[j])\n",
    "\n",
    "    ensemble=[models[best[i]] for i in range(numberOfClusters)]\n",
    "\n",
    "    \n",
    "    return ensemble"
   ]
  },
  {
   "cell_type": "code",
   "execution_count": 15,
   "id": "8261487a-79b0-4485-bada-998dce875999",
   "metadata": {},
   "outputs": [],
   "source": [
    "models=evolve(testInput,testResponse)"
   ]
  },
  {
   "cell_type": "code",
   "execution_count": 30,
   "id": "1e508c85-5c7d-48f5-9bd4-425a1a417204",
   "metadata": {},
   "outputs": [
    {
     "name": "stdout",
     "output_type": "stream",
     "text": [
      "[6, 0, 2, 7, 8, 4, 3, 5, 9, 1]\n"
     ]
    }
   ],
   "source": [
    "ensemble=ensembleSelect(models,testInput,testResponse)"
   ]
  },
  {
   "cell_type": "code",
   "execution_count": 28,
   "id": "6f3924e9-a89f-47e7-a0f1-49d27260d355",
   "metadata": {},
   "outputs": [
    {
     "data": {
      "text/plain": [
       "[0.00016200098143803743,\n",
       " 0.12159137819960597,\n",
       " 0.0017966378235766411,\n",
       " 0.0003143171849068205,\n",
       " 0.00031431718490770866,\n",
       " 0.12159137819960575,\n",
       " 0.00031431718490770866,\n",
       " 0.12159137819960597,\n",
       " 9.25201737375092e-05,\n",
       " 0.00031431718490770866]"
      ]
     },
     "execution_count": 28,
     "metadata": {},
     "output_type": "execute_result"
    }
   ],
   "source": [
    "[fitness(i, testInput,testResponse) for i in ensemble]"
   ]
  },
  {
   "cell_type": "code",
   "execution_count": 8,
   "id": "6c60483a-97cb-4056-85cd-05c0fa1f86e5",
   "metadata": {},
   "outputs": [
    {
     "data": {
      "text/plain": [
       "array([2, 0, 1, 1, 0, 0, 2, 0, 0, 1, 0, 2, 2, 2, 1, 1, 2, 2, 2, 0, 1, 0,\n",
       "       2, 1, 2, 1, 2, 1, 2, 1, 1, 1, 1, 0, 0, 1, 2, 2, 1, 1, 2, 2, 1, 0,\n",
       "       0, 1, 0, 0, 1, 0, 1, 0, 2, 2, 1, 0, 0, 1, 1, 2, 1, 0, 0, 2, 2, 1,\n",
       "       0, 0, 2, 0, 1, 2, 1, 0, 1, 1, 1, 2, 1, 1, 2, 0, 1, 1, 1, 1, 2, 1,\n",
       "       0, 1, 1, 2, 2, 0, 2, 2, 2, 1, 2, 1], dtype=int32)"
      ]
     },
     "execution_count": 8,
     "metadata": {},
     "output_type": "execute_result"
    }
   ],
   "source": [
    "testInput=np.array([np.random.uniform(1,2,100),np.random.uniform(2,5,100),np.random.uniform(1,5,100)])\n",
    "testResponse=np.arcsin(testInput[0]/(testInput[1]*testInput[2]))\n",
    "KMeans(n_clusters=3).fit_predict(np.transpose(testInput))"
   ]
  },
  {
   "cell_type": "code",
   "execution_count": 15,
   "id": "9c9ac3d4-0336-44ea-bf27-4fb25f50bd3e",
   "metadata": {},
   "outputs": [],
   "source": [
    "inputData=np.array([np.random.uniform(1,3,3)])\n",
    "response=np.exp(-(inputData[0]**2)/2)/np.sqrt(2*np.pi)"
   ]
  },
  {
   "cell_type": "code",
   "execution_count": 14,
   "id": "d5671296-5a2a-4fcd-9ca4-a1bafe536783",
   "metadata": {},
   "outputs": [
    {
     "ename": "NameError",
     "evalue": "name 'inputData' is not defined",
     "output_type": "error",
     "traceback": [
      "\u001b[0;31m---------------------------------------------------------------------------\u001b[0m",
      "\u001b[0;31mNameError\u001b[0m                                 Traceback (most recent call last)",
      "\u001b[0;32m/var/folders/2p/7dh9_xc97631hpy5tktgs__00000gn/T/ipykernel_64034/1617407110.py\u001b[0m in \u001b[0;36m<module>\u001b[0;34m\u001b[0m\n\u001b[1;32m      1\u001b[0m \u001b[0mtestInput\u001b[0m\u001b[0;34m=\u001b[0m\u001b[0mnp\u001b[0m\u001b[0;34m.\u001b[0m\u001b[0marray\u001b[0m\u001b[0;34m(\u001b[0m\u001b[0;34m[\u001b[0m\u001b[0mnp\u001b[0m\u001b[0;34m.\u001b[0m\u001b[0mrandom\u001b[0m\u001b[0;34m.\u001b[0m\u001b[0muniform\u001b[0m\u001b[0;34m(\u001b[0m\u001b[0;36m1\u001b[0m\u001b[0;34m,\u001b[0m\u001b[0;36m3\u001b[0m\u001b[0;34m,\u001b[0m\u001b[0;36m3\u001b[0m\u001b[0;34m)\u001b[0m\u001b[0;34m]\u001b[0m\u001b[0;34m)\u001b[0m\u001b[0;34m\u001b[0m\u001b[0;34m\u001b[0m\u001b[0m\n\u001b[0;32m----> 2\u001b[0;31m \u001b[0mtestResponse\u001b[0m\u001b[0;34m=\u001b[0m\u001b[0mnp\u001b[0m\u001b[0;34m.\u001b[0m\u001b[0mexp\u001b[0m\u001b[0;34m(\u001b[0m\u001b[0;34m-\u001b[0m\u001b[0;34m(\u001b[0m\u001b[0minputData\u001b[0m\u001b[0;34m[\u001b[0m\u001b[0;36m0\u001b[0m\u001b[0;34m]\u001b[0m\u001b[0;34m**\u001b[0m\u001b[0;36m2\u001b[0m\u001b[0;34m)\u001b[0m\u001b[0;34m/\u001b[0m\u001b[0;36m2\u001b[0m\u001b[0;34m)\u001b[0m\u001b[0;34m/\u001b[0m\u001b[0mnp\u001b[0m\u001b[0;34m.\u001b[0m\u001b[0msqrt\u001b[0m\u001b[0;34m(\u001b[0m\u001b[0;36m2\u001b[0m\u001b[0;34m*\u001b[0m\u001b[0mnp\u001b[0m\u001b[0;34m.\u001b[0m\u001b[0mpi\u001b[0m\u001b[0;34m)\u001b[0m\u001b[0;34m\u001b[0m\u001b[0;34m\u001b[0m\u001b[0m\n\u001b[0m",
      "\u001b[0;31mNameError\u001b[0m: name 'inputData' is not defined"
     ]
    }
   ],
   "source": [
    "testInput=np.array([np.random.uniform(1,3,3)])\n",
    "testResponse=np.exp(-(inputData[0]**2)/2)/np.sqrt(2*np.pi)"
   ]
  },
  {
   "cell_type": "code",
   "execution_count": 599,
   "id": "ce5ed4f8-0391-4ce3-8c4f-bb001fe14830",
   "metadata": {},
   "outputs": [
    {
     "data": {
      "text/plain": [
       "[array([<function arccos at 0x7fa3f098a3a0>,\n",
       "        <function sub at 0x7fa3f098a430>, <function sub at 0x7fa3f098a430>,\n",
       "        'pop', <function sin at 0x7fa3f098a790>,\n",
       "        <function exp at 0x7fa3f098a9d0>], dtype=object),\n",
       " [2.718281828459045, 3.141592653589793, 3],\n",
       " []]"
      ]
     },
     "execution_count": 599,
     "metadata": {},
     "output_type": "execute_result"
    }
   ],
   "source": [
    "randomMods[10]"
   ]
  },
  {
   "cell_type": "code",
   "execution_count": 600,
   "id": "f3b366ca-59a8-473a-ae47-3e45c3c18159",
   "metadata": {},
   "outputs": [],
   "source": [
    "randomMods=initializeGPModels(3,ops=allOps())"
   ]
  },
  {
   "cell_type": "code",
   "execution_count": 620,
   "id": "39ab3a58-c60c-445f-a482-b691f592964d",
   "metadata": {},
   "outputs": [
    {
     "name": "stdout",
     "output_type": "stream",
     "text": [
      "120.29486166709103\n"
     ]
    },
    {
     "data": {
      "image/png": "[encoded data removed]",
      "text/plain": [
       "<Figure size 432x288 with 1 Axes>"
      ]
     },
     "metadata": {
      "needs_background": "light"
     },
     "output_type": "display_data"
    }
   ],
   "source": [
    "begin=time.perf_counter()\n",
    "evolvedMods=evolve(inputData,response,popSize=300,tracking=True,ops=allOps(),capTime=True,timeLimit=120,generations=100000)\n",
    "print(time.perf_counter()-begin)"
   ]
  },
  {
   "cell_type": "code",
   "execution_count": 622,
   "id": "2285672b-7ce9-4424-822b-c87d6fe4e64f",
   "metadata": {},
   "outputs": [
    {
     "data": {
      "text/plain": [
       "0.1623108282614847"
      ]
     },
     "execution_count": 622,
     "metadata": {},
     "output_type": "execute_result"
    }
   ],
   "source": [
    "np.sqrt(np.mean(np.abs(evaluateGPModel(paretoTournament(evolvedMods)[0],testInput)-testResponse)**2))"
   ]
  },
  {
   "cell_type": "code",
   "execution_count": 607,
   "id": "c749b154-39f6-4d45-bbb5-d05ab038d2a5",
   "metadata": {},
   "outputs": [
    {
     "data": {
      "text/plain": [
       "[array(['pop', 'pop', <function add at 0x7fa3f098a160>,\n",
       "        <function sin at 0x7fa3f098a790>, <function exp at 0x7fa3f098a9d0>,\n",
       "        'pop', <function sub at 0x7fa3f098a430>,\n",
       "        <function cos at 0x7fa3f098adc0>,\n",
       "        <function mult at 0x7fa3f098a280>,\n",
       "        <function mult at 0x7fa3f098a280>,\n",
       "        <function add at 0x7fa3f098a160>], dtype=object),\n",
       " [<function __main__.variableSelect.<locals>.<lambda>(variables)>,\n",
       "  -2,\n",
       "  12.538640202104032,\n",
       "  <function __main__.variableSelect.<locals>.<lambda>(variables)>,\n",
       "  1.2217735706095523,\n",
       "  -1.7307847566895709],\n",
       " [0.000310597503500154, 14]]"
      ]
     },
     "execution_count": 607,
     "metadata": {},
     "output_type": "execute_result"
    }
   ],
   "source": [
    "paretoTournament(evolvedMods)[0]"
   ]
  },
  {
   "cell_type": "code",
   "execution_count": 608,
   "id": "e7ac1a94-1ecf-4da7-aece-a5f52f152045",
   "metadata": {},
   "outputs": [
    {
     "data": {
      "text/plain": [
       "[[0.000310597503500154, 14],\n",
       " [0.0006426945113916505, 12],\n",
       " [0.0007531381141679949, 11],\n",
       " [0.0027844386624548134, 10],\n",
       " [0.0034518314136208206, 9],\n",
       " [0.023660027565680752, 8],\n",
       " [0.04832608311755926, 7],\n",
       " [0.09060939754432895, 6],\n",
       " [0.2975714360125694, 5],\n",
       " [1, 1]]"
      ]
     },
     "execution_count": 608,
     "metadata": {},
     "output_type": "execute_result"
    }
   ],
   "source": [
    "[i[2] for i in paretoTournament(evolvedMods)]"
   ]
  },
  {
   "cell_type": "markdown",
   "id": "0ca583e5-5e24-4225-b4e0-2aa06f2107a1",
   "metadata": {},
   "source": [
    "## Testing"
   ]
  },
  {
   "cell_type": "code",
   "execution_count": null,
   "id": "e659f0c8-85af-44bf-847c-c7d42a8a3f06",
   "metadata": {},
   "outputs": [
    {
     "name": "stdout",
     "output_type": "stream",
     "text": [
      "0 : 0.147010617942277\n",
      "1 : 2.1308167081879446e-17\n",
      "2 : 3.5476336089131648e-15\n",
      "3 : 0.1397940878540211\n",
      "4 : 0.13686418723526597\n",
      "5 : 1.2967586400260168e-14\n",
      "6 : 3.5408938311402802e-15\n",
      "7 : 7.26818255248192\n",
      "8 : 3.55605307834834e-15\n",
      "9 : 0.11898047495712154\n",
      "10 : 6.29158678387186e-15\n",
      "11 : 1.5662545344429946e-17\n",
      "12 : 6.66917324319287e-15\n",
      "13 : 0.12786300318693705\n",
      "14 : 0.12930685968577185\n",
      "15 : nan\n",
      "16 : 2.539104268996504e-17\n",
      "17 : 2.236111718612324e-17\n",
      "18 : 3.5550091419094926e-15\n",
      "19 : 2.4576813845745888e-17\n",
      "20 : 2.4907633033585074e-17\n",
      "21 : 2.319085890971129e-17\n",
      "22 : 3.5515377007964704e-15\n",
      "23 : 2.6477131637640696e-17\n",
      "24 : 3.0860530739108946e-17\n",
      "25 : 2.2798253085302506e-17\n",
      "26 : 0.9960785016061636\n",
      "27 : 0.14801473770071744\n",
      "28 : nan\n",
      "29 : 0.11164979820566409\n",
      "30 : 3.5539793948954526e-15\n",
      "31 : 0.0\n",
      "32 : 3.5463552756606122e-15\n",
      "33 : 3.553066365813665e-15\n",
      "34 : 1.8735013540549518e-17\n",
      "35 : 1.5578319064642537e-16\n",
      "36 : 0.07179464646607299\n",
      "37 : 2.53692736706835e-16\n"
     ]
    }
   ],
   "source": [
    "errors=[]\n",
    "for i in range(100):\n",
    "    inputData=np.array([np.random.uniform(1,2,3),np.random.uniform(2,5,3),np.random.uniform(1,5,3)])\n",
    "    response=np.arcsin(inputData[0]/(inputData[1]*inputData[2]))\n",
    "    testInput=np.array([np.random.uniform(1,2,200),np.random.uniform(2,5,200),np.random.uniform(1,5,200)])\n",
    "    testResponse=np.arcsin(testInput[0]/(testInput[1]*testInput[2]))\n",
    "    evolvedMods=evolve(inputData,response,popSize=300,tracking=False,ops=allOps(),capTime=True,timeLimit=120,generations=100000)\n",
    "    evolvedMods2=evolve(inputData,response,popSize=300,tracking=False,ops=allOps(),capTime=True,timeLimit=120,generations=100000)\n",
    "    evolvedMods=sortModels(evolvedMods+evolvedMods2)\n",
    "    error=np.sqrt(np.mean(np.abs(evaluateGPModel(paretoTournament(evolvedMods)[0],testInput)-testResponse)**2))\n",
    "    print(i,\":\",error)\n",
    "    errors.append(error)"
   ]
  },
  {
   "cell_type": "code",
   "execution_count": 21,
   "id": "a3b438f0-1ad2-445c-a8b0-2c9e096947d9",
   "metadata": {},
   "outputs": [
    {
     "name": "stdout",
     "output_type": "stream",
     "text": [
      "error\n"
     ]
    }
   ],
   "source": [
    "try:\n",
    "    raise(np.linalg.LinAlgError(\"No\"))\n",
    "except np.linalg.LinAlgError:\n",
    "    print(\"error\")"
   ]
  },
  {
   "cell_type": "code",
   "execution_count": 55,
   "id": "75d8d0ac-b7e1-48f0-a640-016467d6a49a",
   "metadata": {},
   "outputs": [
    {
     "data": {
      "text/plain": [
       "array([1., 0.])"
      ]
     },
     "execution_count": 55,
     "metadata": {},
     "output_type": "execute_result"
    }
   ],
   "source": [
    "np.round(np.polyfit(np.array([1,2,3]),np.array([1,2,3]),deg=1,rcond=1e-9),decimals=14)"
   ]
  },
  {
   "cell_type": "code",
   "execution_count": null,
   "id": "903c4f68-816f-492e-b6db-7cf10f0cb3ad",
   "metadata": {},
   "outputs": [],
   "source": [
    "plt.plot(errors)"
   ]
  },
  {
   "cell_type": "code",
   "execution_count": 12,
   "id": "81a78815-d099-4962-85c1-463ee98d4719",
   "metadata": {},
   "outputs": [
    {
     "data": {
      "text/plain": [
       "True"
      ]
     },
     "execution_count": 12,
     "metadata": {},
     "output_type": "execute_result"
    }
   ],
   "source": [
    "all(np.isfinite(np.array([0,0])))"
   ]
  },
  {
   "cell_type": "code",
   "execution_count": 649,
   "id": "29d84ab9-b9ee-449d-bc7f-44b3d824ea68",
   "metadata": {},
   "outputs": [],
   "source": [
    "er=[i for i in errors if np.isnan(i)==False]"
   ]
  },
  {
   "cell_type": "code",
   "execution_count": 650,
   "id": "d22af92d-2b91-483d-9f1d-6995c263d384",
   "metadata": {},
   "outputs": [
    {
     "data": {
      "text/plain": [
       "0.10085811750824164"
      ]
     },
     "execution_count": 650,
     "metadata": {},
     "output_type": "execute_result"
    }
   ],
   "source": [
    "np.median(er)"
   ]
  },
  {
   "cell_type": "code",
   "execution_count": 651,
   "id": "dc5e1c9f-f365-4310-8cbd-80baab4c517e",
   "metadata": {},
   "outputs": [
    {
     "data": {
      "text/plain": [
       "4.0365043452864036e-17"
      ]
     },
     "execution_count": 651,
     "metadata": {},
     "output_type": "execute_result"
    }
   ],
   "source": [
    "np.min(er)"
   ]
  },
  {
   "cell_type": "code",
   "execution_count": 371,
   "id": "279de0a3-ec2b-4425-aae9-da3bcf734a12",
   "metadata": {},
   "outputs": [],
   "source": [
    "def paretoFront(fitValues): #Returns Boolean list of Pareto front elements\n",
    "    onFront = np.ones(fitValues.shape[0], dtype = bool)\n",
    "    for i, j in enumerate(fitValues):\n",
    "        if onFront[i]:\n",
    "            onFront[onFront] = np.any(fitValues[onFront]<j, axis=1)  \n",
    "            onFront[i] = True  \n",
    "    return onFront\n",
    "def paretoTournament(pop): # selects the Pareto front of a model set\n",
    "    fitnessValues=np.array([mod[2] for mod in pop])\n",
    "    return pop[paretoFront(fitnessValues)]"
   ]
  },
  {
   "cell_type": "code",
   "execution_count": 440,
   "id": "719230f0-f5f5-433d-a227-69bf06c7b485",
   "metadata": {},
   "outputs": [
    {
     "name": "stdout",
     "output_type": "stream",
     "text": [
      "0 [1 2]\n",
      "[ True  True  True]\n",
      "[ True False  True]\n",
      "1 [2 3]\n",
      "2 [2 1]\n",
      "[ True  True]\n",
      "[ True False  True]\n"
     ]
    }
   ],
   "source": [
    "fitValues=np.array([[1,2],[2,3],[2,1]])\n",
    "onFront = np.ones(fitValues.shape[0], dtype=bool)\n",
    "for i,j in enumerate(fitValues):\n",
    "    print(i,j)\n",
    "    if onFront[i]:\n",
    "        print(onFront[onFront])\n",
    "        onFront[onFront]=np.any(fitValues[onFront]<j,axis=1)\n",
    "        onFront[i]= True\n",
    "        print(onFront)"
   ]
  }
 ],
 "metadata": {
  "kernelspec": {
   "display_name": "Python 3 (ipykernel)",
   "language": "python",
   "name": "python3"
  },
  "language_info": {
   "codemirror_mode": {
    "name": "ipython",
    "version": 3
   },
   "file_extension": ".py",
   "mimetype": "text/x-python",
   "name": "python",
   "nbconvert_exporter": "python",
   "pygments_lexer": "ipython3",
   "version": "3.8.12"
  }
 },
 "nbformat": 4,
 "nbformat_minor": 5
}
