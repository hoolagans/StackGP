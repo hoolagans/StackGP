{
 "cells": [
  {
   "cell_type": "markdown",
   "id": "4002789d",
   "metadata": {},
   "source": [
    "# StackGP System in Python\n",
    "## By: Nathan Haut\n",
    "\n",
    "### Implementation Notes\n",
    "\n",
    "This implementation evolves models of the form model = [operator Stack, Variable Constant Stack, ..., [QualityMetrics]].\n"
   ]
  },
  {
   "cell_type": "code",
   "execution_count": 11,
   "id": "1fcbe9cf",
   "metadata": {},
   "outputs": [],
   "source": [
    "import random\n",
    "import matplotlib.pyplot as plt \n",
    "import numpy as np\n",
    "import math\n",
    "import copy\n",
    "import sys\n",
    "from scipy.stats import pearsonr # for computing correlation\n",
    "from functools import reduce #for flattening lists\n",
    "from operator import concat  #for flattening lists\n",
    "from scipy.stats import trim_mean # for ensemble evaluation\n",
    "import warnings\n",
    "import time\n",
    "import dill\n",
    "import os\n",
    "from sklearn.cluster import KMeans #for clustering in ensemble definition\n",
    "from scipy.optimize import minimize #for uncertainty maximization\n",
    "from sympy import symbols\n",
    "warnings.filterwarnings('ignore', '.*invalid value.*' )\n",
    "warnings.filterwarnings('ignore', '.*overflow.*' )\n",
    "warnings.filterwarnings('ignore', '.*divide by.*' )\n",
    "warnings.filterwarnings('ignore', '.*is constant.*' )\n",
    "warnings.filterwarnings('ignore', '.*nearly constant.*' )\n",
    "warnings.filterwarnings('ignore', '.*Polyfit may be.*' )\n",
    "warnings.filterwarnings('ignore', '.*Number of.*')\n",
    "def protectDiv(a,b):\n",
    "    \n",
    "    if (type(b)==int or type(b)==float or type(b)==np.float64) and b==0:\n",
    "        return a/math.nan\n",
    "    if (type(b)==np.ndarray) and (0 in b):\n",
    "        return a/np.where(b==0,math.nan,b)\n",
    "    return a/b\n",
    "def add(a,b):\n",
    "    return a+b\n",
    "def sub(a,b):\n",
    "    return a-b\n",
    "def mult(a,b):\n",
    "    return a*b\n",
    "def exp(a):\n",
    "    return np.exp(a)\n",
    "# def sine(a,b):\n",
    "#     return np.sin(a)\n",
    "def power(a,b):\n",
    "    return a**b\n",
    "def sqrt(a):\n",
    "    return np.sqrt(a)\n",
    "def sqrd(a):\n",
    "    return a**2\n",
    "def inv(a):\n",
    "    return np.array(a).astype(float)**(-1)\n",
    "def sin(a):\n",
    "    return np.sin(a)\n",
    "def cos(a):\n",
    "    return np.cos(a)\n",
    "def tan(a):\n",
    "    return np.tan(a)\n",
    "def arccos(a):\n",
    "    return np.arccos(a)\n",
    "def arcsin(a):\n",
    "    return np.arcsin(a)\n",
    "def arctan(a):\n",
    "    return np.arctan(a)\n",
    "def tanh(a):\n",
    "    return np.tanh(a)\n",
    "def log(a):\n",
    "    return np.log(a)\n",
    "\n",
    "\n",
    "\n",
    "\n",
    "\n",
    "def defaultOps():\n",
    "    return [protectDiv,add,sub,mult,exp,sqrd,sqrt,inv,\"pop\",\"pop\",\"pop\",\"pop\",\"pop\",\"pop\"]\n",
    "def allOps():\n",
    "    return [protectDiv,add,sub,mult,exp,sqrd,sqrt,inv,cos,sin,tan,arccos,arcsin,arctan,tanh,log,\"pop\",\"pop\",\"pop\",\"pop\",\"pop\",\"pop\",\"pop\",\"pop\",\"pop\",\"pop\"]\n",
    "def randomInt(a=-3,b=3):\n",
    "    return random.randint(a,b)\n",
    "def defaultConst():\n",
    "    return [np.pi, np.e, randomInt,ranReal ]\n",
    "def ranReal(a=20,b=-10):\n",
    "    return random.random()*a-b"
   ]
  },
  {
   "cell_type": "code",
   "execution_count": 12,
   "id": "37aa5c40",
   "metadata": {},
   "outputs": [],
   "source": [
    "import inspect\n",
    "def getArity(func): #Returns the arity of a function: used for model evaluations\n",
    "    if func==\"pop\":\n",
    "        return 1\n",
    "    return len(inspect.signature(func).parameters)\n",
    "\n",
    "getArity.__doc__ = \"getArity(func) takes a function and returns the function arity\"\n",
    "\n",
    "def modelArity(model): #Returns the total arity of a model\n",
    "    return 1+sum([getArity(i)-1 for i in model[0]])\n",
    "\n",
    "modelArity.__doc__ = \"modelArity(model) returns the total arity of a model\"\n",
    "\n",
    "def listArity(data): #Returns arity of evaluating a list of operators\n",
    "    if len(data)==0:\n",
    "        return 0\n",
    "    return 1+sum([getArity(i)-1 for i in data])\n",
    "\n",
    "listArity.__doc__ = \"listArity(list) returns the arity of evaluating a list of operators\"\n",
    "\n",
    "def buildEmptyModel(): # Generates an empty model\n",
    "    return [[],[],[]]\n",
    "\n",
    "buildEmptyModel.__doc__ = \"buildEmptyModel() takes no inputs and generates an empty GP model\"\n",
    "\n",
    "def variableSelect(num): #Function that creates a function to select a specific variable\n",
    "    return lambda variables: variables[num]\n",
    "\n",
    "variableSelect.__doc__ = \"variableSelect(n) is a function that creates a function to select the nth variable\"\n",
    "\n",
    "\n",
    "def modelToListForm(model):\n",
    "    model[0]=model[0].tolist()\n",
    "def modelRestoreForm(model):\n",
    "    model[0]=np.array(model[0],dtype=object)\n"
   ]
  },
  {
   "cell_type": "code",
   "execution_count": 13,
   "id": "e8128efb",
   "metadata": {},
   "outputs": [],
   "source": [
    "def generateRandomModel(variables,ops,const,maxLength):  #Generates a random GP model\n",
    "    prog = buildEmptyModel()                             #Generate an empty model with correct structure\n",
    "    varChoices=[variableSelect(i) for i in range(variables)]+const                           #All variable and constants choices\n",
    "    prog[0]=np.array(np.random.choice(ops,random.randint(1,maxLength)),dtype=object) #Choose random operators\n",
    "    countVars=modelArity(prog)    #Count how many variables/constants are needed\n",
    "    prog[1]=np.random.choice(varChoices,countVars)       #Choose random variables/constants\n",
    "    prog[1]=[i() if (callable(i) and i.__name__!='<lambda>' )else i for i in prog[1]] #If function then evaluate\n",
    "    return prog\n",
    "\n",
    "generateRandomModel.__doc__ = \"generateRandomModel() takes as input the variables, operators, constants, and max program length and returns a random program\"\n",
    "\n",
    "def initializeGPModels(variables,ops=defaultOps(),const=defaultConst(),numberOfModels=100,maxLength=10): # generate random linear program\n",
    "    prog=[[],[],[]]\n",
    "    # prog stores [Operators, VarConst, QualityMetrics]\n",
    "    \n",
    "    models=[generateRandomModel(variables,ops,const,maxLength) for i in range(numberOfModels)] #Generate models\n",
    "    \n",
    "    return models\n",
    "\n",
    "initializeGPModels.__doc__ = \"initializeGPModels(countOfVariables, operators, constants, numberOfModels=100, maxLength=10) returns a set of randomly generated models\"\n",
    "\n"
   ]
  },
  {
   "cell_type": "code",
   "execution_count": 14,
   "id": "aa34e24b",
   "metadata": {},
   "outputs": [],
   "source": [
    "def reverseList(data): #Returns a list reversed\n",
    "    return [i for i in reversed(data)]\n",
    "reverseList.__doc__ = \"reverseList(data) returns the data list reversed\"\n",
    "\n",
    "def varReplace(data,variables): #Replaces variable references with data during model evaluation\n",
    "    return [i(variables) if callable(i) else i for i in data]\n",
    "varReplace.__doc__ = \"varReplace(data,variables) replaces references to variables in data with actual values\"\n",
    "\n",
    "def inputLen(data): #Returns the number of data records in a data set\n",
    "    el1=data[0]\n",
    "    if type(el1)==list or type(el1)==np.ndarray:\n",
    "        return len(el1)\n",
    "    else:\n",
    "        return 1\n",
    "inputLen.__doc__ = \"inputLen(data) determines the number of data records in a data set\"\n",
    "\n",
    "def varCount(data): #Returns the number of variables in a data set\n",
    "    return len(data)\n",
    "varCount.__doc__ = \"varCount(data) determines the number of variables in a data set\"\n",
    "\n",
    "def evaluateGPModel(model,inputData): #Evaluates a model numerically\n",
    "    response=evModHelper(model[1],model[0],[],np.array(inputData).astype(float))[2][0]\n",
    "    if not type(response)==np.ndarray and inputLen(inputData)>1:\n",
    "        response=np.array([response for i in range(inputLen(inputData))])\n",
    "    return response\n",
    "evaluateGPModel.__doc__ = \"evaluateGPModel(model,data) numerically evaluates a model using the data stored in inputData\"\n",
    "\n",
    "def evModHelper(varStack,opStack,tempStack,data): #Recursive helper function for evaluateGPModel\n",
    "    stack1=varStack\n",
    "    stack2=opStack\n",
    "    stack3=tempStack\n",
    "    \n",
    "    if len(stack2)==0:\n",
    "        return [stack3,stack2,stack1]\n",
    "    op=stack2[0]\n",
    "    stack2=stack2[1:]\n",
    "    \n",
    "    if callable(op):\n",
    "        \n",
    "        patt=getArity(op)\n",
    "        while patt>len(stack3):\n",
    "            stack3=[stack1[0]]+stack3\n",
    "            stack1=stack1[1:]\n",
    "        try:\n",
    "            temp=op(*varReplace(reverseList(stack3[:patt]),data))\n",
    "        except TypeError:\n",
    "            print(\"stack3: \", stack3, \" patt: \", patt, \" data: \", data)\n",
    "            temp=np.nan\n",
    "        except OverflowError:\n",
    "            temp=np.nan\n",
    "        stack3=stack3[patt:]\n",
    "        stack3=[temp]+stack3\n",
    "        \n",
    "    else:\n",
    "        if len(stack1)>0:\n",
    "            stack3=varReplace([stack1[0]],data)+stack3\n",
    "            stack1=stack1[1:]\n",
    "    if len(stack2)>0:\n",
    "        stack1,stack2,stack3=evModHelper(stack1,stack2,stack3,data)\n",
    "        \n",
    "    return [stack1,stack2,stack3]\n",
    "evModHelper.__doc__ = \"evModHelper(varStack,opStack,tempStack,data) is a helper function for evaluateGPModel\"\n",
    "\n",
    "\n",
    "\n",
    "def fitness(prog,data,response): # Fitness function using correlation\n",
    "    predicted=evaluateGPModel(prog,np.array(data))\n",
    "    if type(predicted)!=list and type(predicted)!=np.ndarray:\n",
    "        predicted=np.array([predicted for i in range(inputLen(data))])\n",
    "    try:    \n",
    "        if np.isnan(predicted).any() or np.isinf(predicted).any():\n",
    "            return np.nan\n",
    "    except TypeError:\n",
    "        #print(predicted)\n",
    "        return np.nan\n",
    "    except OverflowError:\n",
    "        return np.nan\n",
    "    if (not all(np.isfinite(np.array(predicted,dtype=np.float32)))) or np.all(predicted==predicted[0]):\n",
    "        return np.nan\n",
    "    fit=1-pearsonr(predicted,np.array(response))[0]**2  # 1-R^2\n",
    "    if math.isnan(fit):\n",
    "        return 1 # If nan return 1 as fitness\n",
    "    return fit   # Else return actual fitness 1-R^2\n",
    "\n",
    "fitness.__doc__ = \"fitness(program,data,response) returns the 1-R^2 value of a model\"\n",
    "\n",
    "def stackGPModelComplexity(model,*args):\n",
    "    return len(model[0])+len(model[1])-model[0].tolist().count(\"pop\")\n",
    "\n",
    "stackGPModelComplexity.__doc__ = \"stackGPModelComplexity(model) returns the complexity of the model\"\n",
    "\n",
    "def setModelQuality(model,inputData,response,modelEvaluationMetrics=[fitness,stackGPModelComplexity]):\n",
    "    model[2]=[i(model,inputData,response) for i in modelEvaluationMetrics]\n",
    "    \n",
    "setModelQuality.__doc__ = \"setModelQuality(model, inputdata, response, metrics=[r2,size]) is an inplace operator that sets a models quality\"\n",
    "\n",
    "def stackPass(model,pt):\n",
    "    i=0\n",
    "    t=0\n",
    "    p=0\n",
    "    s=model[0]\n",
    "    if i <pt:\n",
    "        t+=1\n",
    "    while i<pt:\n",
    "        if s[i]==\"pop\":\n",
    "            t+=1\n",
    "            p+=1\n",
    "        else:\n",
    "            p+=max(0,getArity(s[i])-t)\n",
    "            t=max(1,t-getArity(s[i])+1)\n",
    "        i+=1\n",
    "    stack1=model[1][p:]\n",
    "    stack2=reverseList(model[1][:p])[:t+1]\n",
    "    return [stack1,stack2]\n",
    "\n",
    "def stackGrab(stack1, stack2, num):\n",
    "    tStack1=copy.deepcopy(stack1)\n",
    "    tStack2=copy.deepcopy(stack2)\n",
    "    newStack=[]\n",
    "    if len(stack2)<num:\n",
    "        newStack=stack2+stack1[:(num-len(stack2))]\n",
    "        tStack1=tStack1[num-len(tStack2):]\n",
    "        tStack2=[]\n",
    "    else:\n",
    "        newStack=stack2[:num]\n",
    "        tStack2=tStack2[num:]\n",
    "    return [newStack,tStack1,tStack2]\n",
    "\n",
    "def fragmentVariables(model,pts):\n",
    "    stack1,stack2=stackPass(model,pts[0])\n",
    "    opStack=model[0]\n",
    "    newStack=[]\n",
    "    i=pts[0]\n",
    "    while i<=pts[1]:\n",
    "        if opStack[i]==\"pop\" and len(stack1)>0:\n",
    "            stack2=[stack1[0]]+stack2\n",
    "            stack1=stack1[1:]\n",
    "        else:\n",
    "            if len(newStack)==0 and pts[0]==0:\n",
    "                tStack,stack1,stack2=stackGrab(stack1,stack2,getArity(opStack[i]))\n",
    "            else:\n",
    "                tStack,stack1,stack2=stackGrab(stack1,stack2,getArity(opStack[i])-1)\n",
    "            newStack=newStack+tStack\n",
    "        i+=1\n",
    "    return newStack\n",
    "                                            \n",
    "\n",
    "def recombination2pt(model1,model2): #2 point recombination\n",
    "    pts1=np.sort(random.sample(range(0,len(model1[0])+1),2))\n",
    "    pts2=np.sort(random.sample(range(0,len(model2[0])+1),2))\n",
    "    #pts1=[4,5]\n",
    "    #pts2=[2,4]\n",
    "    #pts1=[0,3]\n",
    "    #pts2=[1,3]\n",
    "    #print(pts1,pts2)\n",
    "    child1=buildEmptyModel()\n",
    "    child2=buildEmptyModel()\n",
    "    \n",
    "    parent1=copy.deepcopy(model1)\n",
    "    parent2=copy.deepcopy(model2)\n",
    "    parent1[0]=np.array(parent1[0],dtype=object).tolist()\n",
    "    parent2[0]=np.array(parent2[0],dtype=object).tolist()\n",
    "    \n",
    "    child1[0]=np.array(parent1[0][0:pts1[0]]+parent2[0][pts2[0]:pts2[1]]+parent1[0][pts1[1]:],dtype=object)\n",
    "    child2[0]=np.array(parent2[0][0:pts2[0]]+parent1[0][pts1[0]:pts1[1]]+parent2[0][pts2[1]:],dtype=object)\n",
    "        \n",
    "    varPts1=[listArity(parent1[0][:(pts1[0])])+0,listArity(parent2[0][:(pts2[0])])+0,listArity(parent2[0][pts2[0]:pts2[1]]),listArity(parent1[0][pts1[0]:pts1[1]])]\n",
    "    if pts1[0]==0:\n",
    "        varPts1[0]+=1\n",
    "    if pts2[0]==0:\n",
    "        varPts1[1]+=1\n",
    "    child1[1]=parent1[1][:varPts1[0]]+parent2[1][varPts1[1]:(varPts1[1]+varPts1[2]-1)]+parent1[1][(varPts1[0]+varPts1[3]-1):]\n",
    "    \n",
    "    varPts2=[listArity(parent2[0][:(pts2[0])])+0,listArity(parent1[0][:(pts1[0])])+0,listArity(parent1[0][pts1[0]:pts1[1]]),listArity(parent2[0][pts2[0]:pts2[1]])]\n",
    "    if pts1[0]==0:\n",
    "        varPts2[1]+=1\n",
    "    if pts2[0]==0:\n",
    "        varPts2[0]+=1\n",
    "    child2[1]=parent2[1][:varPts2[0]]+parent1[1][varPts2[1]:(varPts2[1]+varPts2[2]-1)]+parent2[1][(varPts2[0]+varPts2[3]-1):]\n",
    "    #print(varPts1,varPts2)\n",
    "    \n",
    "    return [child1,child2]\n",
    "\n",
    "recombination2pt.__doc__ = \"recombination2pt(model1,model2) does 2 point crossover and returns two children models\"\n",
    "\n",
    "def mutate(model,variables,ops=defaultOps(),const=defaultConst(),maxLength=10):\n",
    "    newModel=copy.deepcopy(model)\n",
    "    newModel[0]=newModel[0].tolist()\n",
    "    mutationType=random.randint(0,6)\n",
    "    varChoices=[variableSelect(i) for i in range(variables)]+const\n",
    "    opChoice=0\n",
    "    varChoice=0\n",
    "    \n",
    "    tmp=0\n",
    "    \n",
    "    if mutationType==0:\n",
    "        opChoice=random.randint(0,len(newModel[0])-1)\n",
    "        if len(newModel[0])>0:\n",
    "            newModel[0][opChoice]=np.random.choice([i for i in ops] )\n",
    "               \n",
    "    elif mutationType==1:\n",
    "        varChoice=np.random.choice(varChoices)\n",
    "        if callable(varChoice) and varChoice.__name__!='<lambda>':\n",
    "            varChoice=varChoice()\n",
    "        newModel[1][random.randint(0,len(newModel[1])-1)]=varChoice\n",
    "    \n",
    "    elif mutationType==2:\n",
    "        opChoice=np.random.choice(ops)\n",
    "        newModel[0]=[opChoice]+newModel[0]\n",
    "        while modelArity(newModel)>len(newModel[1]):\n",
    "            varChoice=np.random.choice(varChoices)\n",
    "            if callable(varChoice) and varChoice.__name__!='<lambda>':\n",
    "                varChoice=varChoice()\n",
    "            newModel[1]=[varChoice]+newModel[1]\n",
    "        \n",
    "    elif mutationType==3:\n",
    "        if len(newModel[0])>1:\n",
    "            opChoice=random.randint(1,len(newModel[0])-1)\n",
    "            newModel[0]=newModel[0][-opChoice:]\n",
    "            newModel[1]=newModel[1][-listArity(newModel[0]):]\n",
    "            \n",
    "    elif mutationType==4:\n",
    "        opChoice=np.random.choice([i for i in ops])\n",
    "        newModel[0].append(opChoice)\n",
    "        \n",
    "    elif mutationType==5:\n",
    "        newModel=recombination2pt(newModel,generateRandomModel(variables,ops,const,maxLength))[0]\n",
    "            \n",
    "    elif mutationType==6: #single operator insertion mutation\n",
    "        singleOps=[op for op in ops if getArity(op)==1 and op!='pop']\n",
    "        singleOps.append('pop')\n",
    "        pos=random.randint(0,len(newModel[0])-1)\n",
    "        newModel[0].insert(pos,np.random.choice(singleOps))\n",
    "    \n",
    "    if modelArity(newModel)<len(newModel[1]):\n",
    "        newModel[1]=newModel[1][:modelArity(newModel)]\n",
    "    elif modelArity(newModel)>len(newModel[1]):\n",
    "        newModel[1]=newModel[1]+[np.random.choice(varChoices) for i in range(modelArity(newModel)-len(newModel[1]))]\n",
    "    newModel[1]=[varChoice() if callable(varChoice) and varChoice.__name__!='<lambda>' else varChoice for varChoice in newModel[1]]         \n",
    "    newModel[0]=np.array(newModel[0],dtype=object)\n",
    "    return newModel\n",
    "    \n",
    "mutate.__doc__ = \"mutate(model,variableCount,ops,constants,maxLength) mutates a model\"\n",
    "\n",
    "def paretoFront(fitValues): #Returns Boolean list of Pareto front elements\n",
    "    onFront = np.ones(fitValues.shape[0], dtype = bool)\n",
    "    for i, j in enumerate(fitValues):\n",
    "        if onFront[i]:\n",
    "            onFront[onFront] = np.any(fitValues[onFront]<j, axis=1)  \n",
    "            onFront[i] = True  \n",
    "    return onFront\n",
    "def paretoTournament(pop): # selects the Pareto front of a model set\n",
    "    fitnessValues=np.array([mod[2] for mod in pop])\n",
    "    return (np.array(pop,dtype=object)[paretoFront(fitnessValues)]).tolist()\n",
    "\n",
    "def tournamentModelSelection(models, popSize=100,tourneySize=5):\n",
    "    selectedModels=[]\n",
    "    selectionSize=popSize\n",
    "    while len(selectedModels)<popSize:\n",
    "        tournament=random.sample(models,tourneySize)\n",
    "        winners=paretoTournament(tournament)\n",
    "        selectedModels=selectedModels+winners\n",
    "    \n",
    "    return selectedModels\n",
    "\n",
    "paretoTournament.__doc__ = \"paretoTournament(models, inputData, responseData) returns the Pareto front of a model set\"\n",
    "\n",
    "def modelSameQ(model1,model2): #Checks if two models are the same\n",
    "    return len(model1[0])==len(model2[0]) and len(model1[1]) == len(model2[1]) and all(model1[0]==model2[0]) and model1[1]==model2[1]\n",
    "\n",
    "modelSameQ.__doc__ = \"modelSameQ(model1,model2) checks if model1 and model2 are the same and returns True if so, else False\"\n",
    "\n",
    "\n",
    "def deleteDuplicateModels(models): #Removes any models that are the same, does not consider simplified form\n",
    "    uniqueMods = [models[0]]\n",
    "     \n",
    "    for mod in models:\n",
    "        test=False\n",
    "        for checkMod in uniqueMods:\n",
    "            if modelSameQ(mod,checkMod):\n",
    "                test=True\n",
    "        if not test:\n",
    "            uniqueMods.append(mod)\n",
    "    \n",
    "    return uniqueMods\n",
    "\n",
    "deleteDuplicateModels.__doc__ = \"deleteDuplicateModels(models) deletes models that have the same form without simplifying\"\n",
    "\n",
    "def removeIndeterminateModels(models): #Removes models from the population that evaluate to nonreal values\n",
    "    return [i for i in models if (not any(np.isnan(i[2]))) and all(np.isfinite(np.isnan(i[2])))]\n",
    "\n",
    "removeIndeterminateModels.__doc__ = \"removeIndeterminateModels(models) removes models that have a fitness that results from inf or nan values\"\n",
    "\n",
    "def sortModels(models):\n",
    "    return sorted(models, key=lambda m:m[2])\n",
    "\n",
    "sortModels.__doc__ = \"sortModels(models) sorts a model population by the models' accuracies\"\n",
    "\n",
    "def selectModels(models, selectionSize=0.5):\n",
    "    tMods=copy.deepcopy(models)\n",
    "    [modelToListForm(mod) for mod in tMods]\n",
    "    paretoModels=[]\n",
    "    if selectionSize<=1:\n",
    "        selection=selectionSize*len(models)\n",
    "    else:\n",
    "        selection=selectionSize\n",
    "    \n",
    "    while len(paretoModels)<selection:\n",
    "        front=paretoTournament(tMods)\n",
    "        paretoModels=paretoModels+front\n",
    "        for i in front:\n",
    "            tMods.remove(i)\n",
    "    [modelRestoreForm(mod) for mod in paretoModels]\n",
    "    return paretoModels\n",
    "\n",
    "selectModels.__doc__ = \"selectModels(models, selectionSize=0.5) iteratively selects the Pareto front of a model population until n or n*popSize models are selected\"\n",
    "\n",
    "def stackVarUsage(opStack): #Counts how many variables are used by the operator stack\n",
    "    pos=getArity(opStack[0])\n",
    "    for j in range(1,len(opStack)):\n",
    "        pos+=getArity(opStack[j])-1\n",
    "        if opStack[j]=='pop':\n",
    "            pos+=1\n",
    "    return pos\n",
    "\n",
    "stackVarUsage.__doc__ = \"stackVarUsage(opStack) is a helper function that determines how many variables/constants are needed by the operator stack\"\n",
    "\n",
    "def trimModel(mod): #Removes extra pop operators that do nothing\n",
    "    model=copy.deepcopy(mod)\n",
    "    i=0\n",
    "    varStack=len(mod[1])\n",
    "    tempStack=0\n",
    "    varStack-=getArity(model[0][i])\n",
    "    tempStack+=1\n",
    "    i+=1\n",
    "    while varStack>0:\n",
    "        if model[0][i]=='pop':\n",
    "            varStack-=1\n",
    "            tempStack+=1\n",
    "        else:\n",
    "            \n",
    "            take=getArity(model[0][i])-tempStack\n",
    "            if take>0:\n",
    "                varStack-=take\n",
    "                tempStack=1\n",
    "            else:\n",
    "                tempStack-=getArity(model[0][i])-1\n",
    "        i+=1\n",
    "    model[0]=np.array(model[0][:i].tolist()+[j for j in model[0][i:] if not j=='pop'],dtype=object)\n",
    "    return model\n",
    "\n",
    "trimModel.__doc__ = \"trimModel(model) trims extra pop operators off the operator stack so that further modifications such as a model alignment aren't altered by those pop operators\"\n",
    "\n",
    "\n",
    "def alignGPModel(model, data, response): #Aligns a model\n",
    "    prediction=evaluateGPModel(model,data)\n",
    "    if (not all(np.isfinite(np.array(prediction)))) or np.all(prediction==prediction[0]):\n",
    "        return model\n",
    "    if np.isnan(np.array(prediction)).any() or np.isnan(np.array(response)).any() or not np.isfinite(np.array(prediction,dtype=np.float32)).all():\n",
    "        return model\n",
    "    try:\n",
    "        align=np.round(np.polyfit(prediction,response,1,rcond=1e-16),decimals=14)\n",
    "    except np.linalg.LinAlgError:\n",
    "        #print(\"Alignment failed for: \", model, \" with prediction: \", prediction, \"and reference data: \", response)\n",
    "        return model\n",
    "    newModel=trimModel(model)\n",
    "    newModel[0]=np.array(newModel[0].tolist()+[mult,add],dtype=object)\n",
    "    newModel[1]=newModel[1]+align.tolist()\n",
    "    setModelQuality(newModel,data,response)\n",
    "    return newModel\n",
    "\n",
    "alignGPModel.__doc__ = \"alignGPModel(model, input, response) aligns a model such that response-a*f(x)+b are minimized over a and b\"\n",
    "\n",
    "\n",
    "def evolve(inputData, responseData, generations=100, ops=defaultOps(), const=defaultConst(), variableNames=[], mutationRate=79, crossoverRate=11, spawnRate=10, extinction=False,extinctionRate=10,elitismRate=50,popSize=300,maxComplexity=100,align=True,initialPop=[],timeLimit=300,capTime=False,tourneySize=5,tracking=False):\n",
    "    \n",
    "    fullInput,fullResponse=copy.deepcopy(inputData),copy.deepcopy(responseData)\n",
    "    inData=copy.deepcopy(fullInput)\n",
    "    resData=copy.deepcopy(fullResponse)\n",
    "    variableCount=varCount(inData)\n",
    "    models=initializeGPModels(variableCount,ops,const,popSize)\n",
    "    models=models+initialPop\n",
    "    startTime=time.perf_counter()\n",
    "    bestFits=[]\n",
    "    for i in range(generations):\n",
    "        if capTime and time.perf_counter()-startTime>timeLimit:\n",
    "            break\n",
    "        for mods in models:\n",
    "            setModelQuality(mods,inData,resData)\n",
    "        \n",
    "        if tracking:\n",
    "            bestFits.append(min([mods[2][0] for mods in paretoTournament(models)])) \n",
    "       \n",
    "        #paretoModels=paretoTournament(models)\n",
    "        paretoModels=selectModels(models,elitismRate/100*popSize)\n",
    "        if extinction and i%extinctionRate:\n",
    "            models=initializeGPModels(variableCount,ops,const,popSize)\n",
    "            for mods in models:\n",
    "                setModelQuality(mods,inData,resData)\n",
    "        \n",
    "        models=tournamentModelSelection(models,popSize,tourneySize)\n",
    "        \n",
    "        crossoverPairs=random.sample(models,round(crossoverRate/100*popSize))\n",
    "        toMutate=random.sample(models,round(mutationRate/100*popSize))\n",
    "        \n",
    "        childModels=paretoModels\n",
    "        \n",
    "        for j in range(round(len(crossoverPairs)/2)-1):\n",
    "            childModels=childModels+recombination2pt(crossoverPairs[j],crossoverPairs[j+round(len(crossoverPairs)/2)])\n",
    "        \n",
    "        for j in toMutate:\n",
    "            childModels=childModels+[mutate(j,variableCount,ops,const)]\n",
    "        \n",
    "        childModels=childModels+initializeGPModels(variableCount,ops,const,round(spawnRate/100*popSize))\n",
    "        \n",
    "        childModels=deleteDuplicateModels(childModels)\n",
    "        \n",
    "        for mods in childModels:\n",
    "            setModelQuality(mods,inData,resData)\n",
    "        childModels=removeIndeterminateModels(childModels)\n",
    "        \n",
    "        if len(childModels)<popSize:\n",
    "            childModels=childModels+initializeGPModels(variableCount,ops,const,popSize-len(childModels))\n",
    "        \n",
    "        models=copy.deepcopy(childModels)\n",
    "        \n",
    "    \n",
    "    for mods in models:\n",
    "        setModelQuality(mods,fullInput,fullResponse)\n",
    "\n",
    "    models=[trimModel(mod) for mod in models]\n",
    "    models=deleteDuplicateModels(models)\n",
    "    models=removeIndeterminateModels(models)\n",
    "\n",
    "    models=sortModels(models)\n",
    "    if align:\n",
    "        models=[alignGPModel(mods,fullInput,fullResponse) for mods in models]\n",
    "    \n",
    "    if tracking:\n",
    "        bestFits.append(min([mods[2][0] for mods in paretoTournament(models)])) \n",
    "        plt.figure()\n",
    "        plt.plot(bestFits)\n",
    "        plt.title(\"Fitness over Time\")\n",
    "        plt.xlabel(\"Generations\")\n",
    "        plt.ylabel(\"Fitness\")\n",
    "    \n",
    "    return models\n",
    "    "
   ]
  },
  {
   "cell_type": "code",
   "execution_count": 15,
   "id": "149aa8e9",
   "metadata": {},
   "outputs": [],
   "source": [
    "def replaceFunc(stack,f1,f2):\n",
    "    return [i if i!=f1 else f2 for i in stack]\n",
    "def printGPModel(mod,inputData=symbols([\"x\"+str(i) for i in range(100)])): #Evaluates a model numerically\n",
    "    def inv1(a):\n",
    "        return a**(-1)\n",
    "    from sympy import tan as tan1, exp as exp1, sqrt as sqrt1, sin as sin1, cos as cos1, acos, asin, atan, tanh as tanh1, log as log1\n",
    "    def sqrt2(a):\n",
    "        return sqrt1(a)\n",
    "    def log2(a):\n",
    "        return log1(a)\n",
    "    model = copy.deepcopy(mod)\n",
    "    model[0] = replaceFunc(model[0],exp,exp1)\n",
    "    model[0] = replaceFunc(model[0],tan,tan1)\n",
    "    model[0] = replaceFunc(model[0],sqrt,sqrt2)\n",
    "    model[0] = replaceFunc(model[0],inv,inv1)\n",
    "    model[0] = replaceFunc(model[0],sin,sin1)\n",
    "    model[0] = replaceFunc(model[0],cos,cos1)\n",
    "    model[0] = replaceFunc(model[0],arccos,acos)\n",
    "    model[0] = replaceFunc(model[0],arcsin,asin)\n",
    "    model[0] = replaceFunc(model[0],arctan,atan)\n",
    "    model[0] = replaceFunc(model[0],tanh,tanh1)\n",
    "    model[0] = replaceFunc(model[0],log,log2)\n",
    "    response=evModHelper(model[1],model[0],[],np.array(inputData))[2][0]\n",
    "    return response"
   ]
  },
  {
   "cell_type": "code",
   "execution_count": 16,
   "id": "df156c6f",
   "metadata": {},
   "outputs": [],
   "source": [
    "def ensembleSelect(models, inputData, responseData, numberOfClusters=10): #Generates a model ensemble using input data partitions\n",
    "    data=np.transpose(inputData)\n",
    "    if len(data)<numberOfClusters:\n",
    "        numberOfClusters=len(data)\n",
    "    clusters=KMeans(n_clusters=numberOfClusters).fit_predict(data)\n",
    "    if numberOfClusters>len(set(clusters)):\n",
    "        numberOfClusters=len(set(clusters))\n",
    "        clusters=KMeans(n_clusters=numberOfClusters).fit_predict(data)\n",
    "    dataParts=[]\n",
    "    partsResponse=[]\n",
    "    for i in range(numberOfClusters):\n",
    "        dataParts.append([])\n",
    "        partsResponse.append([])\n",
    "    \n",
    "    for i in range(len(clusters)):\n",
    "        dataParts[clusters[i]].append(data[i])\n",
    "        partsResponse[clusters[i]].append(responseData[i])\n",
    "        \n",
    "    modelResiduals=[]\n",
    "    \n",
    "    for i in range(len(models)):\n",
    "        modelResiduals.append([])\n",
    "    for i in range(len(models)):\n",
    "        for j in range(numberOfClusters):\n",
    "            modelResiduals[i].append(fitness(models[i],np.transpose(dataParts[j]),partsResponse[j]))\n",
    "    \n",
    "    best=[]\n",
    "    for i in range(numberOfClusters):\n",
    "        ordering=np.argsort(modelResiduals[i])\n",
    "        j=0\n",
    "        while ordering[j] in best:\n",
    "            j+=1\n",
    "        best.append(ordering[j])\n",
    "\n",
    "    ensemble=[models[best[i]] for i in range(numberOfClusters)]\n",
    "\n",
    "    \n",
    "    return ensemble\n",
    "\n",
    "def uncertainty(data,trim=0.3):\n",
    "    sortData=np.sort(data)\n",
    "    trim=round(trim*len(data)/2)\n",
    "    if trim==0:\n",
    "        return np.std(data)\n",
    "    return np.std(data[trim:-trim])\n",
    "    \n",
    "\n",
    "def evaluateModelEnsemble(ensemble, inputData):\n",
    "    responses=[evaluateGPModel(mod, inputData) for mod in ensemble]\n",
    "    if type(responses[0])==np.ndarray:\n",
    "        responses=np.transpose(responses)\n",
    "        uncertainties=[uncertainty(res,0.3) for res in responses]\n",
    "        responses=[trim_mean(res,0.3) for res in responses]\n",
    "    else:\n",
    "        \n",
    "        uncertainties=[uncertainty(responses,0.3)]\n",
    "        responses=[trim_mean(responses,0.3)]\n",
    "    \n",
    "    return responses,uncertainties\n",
    "\n",
    "def relativeEnsembleUncertainty(ensemble,inputData):\n",
    "    output=evaluateModelEnsemble(ensemble,inputData)\n",
    "    return np.array(output[1])/abs(np.array(output[0]))\n",
    "    \n",
    "def createUncertaintyFunc(ensemble):\n",
    "    return lambda x: -relativeEnsembleUncertainty(ensemble,x)\n",
    "    \n",
    "def maximizeUncertainty(ensemble,varCount,bounds=[]): #Used to select a new point of maximum uncertainty\n",
    "    func=createUncertaintyFunc(ensemble)\n",
    "    x0=[1 for i in range(varCount)]\n",
    "    if bounds==[]:\n",
    "        pt=minimize(func,x0).x\n",
    "    else:\n",
    "        pt=minimize(func,x0,bounds=bounds).x\n",
    "    return pt\n",
    "\n",
    "def extendData(data,newPoint):\n",
    "    return np.concatenate((data.T,np.array([newPoint]))).T\n"
   ]
  },
  {
   "cell_type": "code",
   "execution_count": 17,
   "id": "2d55a336",
   "metadata": {},
   "outputs": [],
   "source": [
    "def activeLearningCheckpoint(eqNum,version,i,inputData,response,testInput,testResponse,errors,models,minerr):\n",
    "    path=os.path.join(str(eqNum),str(version))\n",
    "    file=open(path,\"wb+\")\n",
    "    dill.dump([i,inputData,response,testInput,testResponse,errors,models,minerr],file)\n",
    "    file.close()\n",
    "\n",
    "def activeLearningCheckpointLoad(eqNum,version,i,inputData,response,testInput,testResponse,errors,models,minerr):\n",
    "    path=os.path.join(str(eqNum),str(version))\n",
    "    try:\n",
    "        with open(path,'rb') as f:\n",
    "            i,inputData,response,testInput,testResponse,errors,models,minerr=dill.load(f)\n",
    "    except FileNotFoundError:\n",
    "        return i,inputData,response,testInput,testResponse,errors,models,minerr\n",
    "    return i,inputData,response,testInput,testResponse,errors,models,minerr\n",
    "\n",
    "def subSampleSpace(space):\n",
    "    newSpace=copy.deepcopy(space)\n",
    "    newSpace=list(newSpace)\n",
    "    for i in range(len(newSpace)):\n",
    "        pts=sorted([np.random.uniform(newSpace[i][0],newSpace[i][1]),np.random.uniform(newSpace[i][0],newSpace[i][1])])\n",
    "        newSpace[i]=tuple(pts)\n",
    "    return tuple(newSpace)"
   ]
  },
  {
   "cell_type": "code",
   "execution_count": 44,
   "id": "47e3929a",
   "metadata": {},
   "outputs": [],
   "source": [
    "def activeLearning(func, dims, ranges,rangesP,eqNum=1,version=1,iterations=100): #func should be a lamda function of form lambda data: f(data[0],data[1],...)\n",
    "    inputData=[]\n",
    "    testInput=[]\n",
    "    for i in range(dims):\n",
    "        inputData.append(np.random.uniform(ranges[i][0],ranges[i][1],3))\n",
    "        testInput.append(np.random.uniform(ranges[i][0],ranges[i][1],200))\n",
    "    inputData=np.array(inputData)\n",
    "    testInput=np.array(testInput)\n",
    "    response=func(inputData)\n",
    "    testResponse=func(testInput)\n",
    "    errors=[]\n",
    "    models=[]\n",
    "    minerr=1\n",
    "    for i in range(iterations):\n",
    "        print(\"input: \",inputData)\n",
    "        print(\"\\n response: \",response)\n",
    "        activeLearningCheckpointLoad(eqNum,version,i,inputData,response,testInput,testResponse,errors,models,minerr)\n",
    "            \n",
    "        models1=evolve(inputData,response,initialPop=models,generations=1000,tracking=False,popSize=300,ops=allOps(),timeLimit=120,capTime=True,align=False,elitismRate=10)\n",
    "        models2=evolve(inputData,response,initialPop=models,generations=1000,tracking=False,popSize=300,ops=allOps(),timeLimit=120,capTime=True,align=False,elitismRate=10)\n",
    "        models3=evolve(inputData,response,initialPop=models,generations=1000,tracking=False,popSize=300,ops=allOps(),timeLimit=120,capTime=True,align=False,elitismRate=10)\n",
    "        models4=evolve(inputData,response,initialPop=models,generations=1000,tracking=False,popSize=300,ops=allOps(),timeLimit=120,capTime=True,align=False,elitismRate=10)\n",
    "        models=models1+models2+models3+models4\n",
    "        models=selectModels(models,20)\n",
    "        alignedModels=[alignGPModel(mods,inputData,response) for mods in models]\n",
    "        ensemble=ensembleSelect(alignedModels,inputData,response)\n",
    "        out=maximizeUncertainty(ensemble,dims,rangesP)\n",
    "        while out in inputData.T:\n",
    "            out=maximizeUncertainty(ensemble,dims,subSampleSpace(rangesP))\n",
    "        inputData=extendData(inputData,out)\n",
    "        response=func(inputData)\n",
    "        errors.append(min([fitness(mod, testInput,testResponse) for mod in alignedModels]))\n",
    "        minerr=errors[-1]\n",
    "        if minerr<1e-14:\n",
    "            #print(\"Points needed in round\", j,\": \",3+i, \" Time needed: \", time.perf_counter()-roundTime)\n",
    "            if not os.path.exists(str(eqNum)):\n",
    "                os.makedirs(str(eqNum))\n",
    "            path=os.path.join(str(eqNum),str(version))\n",
    "            file=open(path,\"wb+\")\n",
    "            dill.dump([i,inputData,response,testInput,testResponse,errors,models,minerr],file)\n",
    "            file.close()\n",
    "            file=open(path+'.txt','w+')\n",
    "            file.write(str(i+3)+'\\n')\n",
    "            file.write(str(errors))\n",
    "            file.close()\n",
    "            return 3+i\n",
    "            found=True\n",
    "            ptsNeeded.append(3+i)\n",
    "            break\n",
    "        activeLearningCheckpoint(eqNum,version,i,inputData,response,testInput,testResponse,errors,models,minerr)\n",
    "    if found==False:\n",
    "        #print(\"Points needed in round\",j,\": NA (model not found)\")\n",
    "        path=os.path.join(str(eqNum),str(version))\n",
    "        file=open(path,\"wb\")\n",
    "        dill.dump([-1,inputData,response,testInput,testResponse,errors,models,minerr],file)\n",
    "        file.close()\n",
    "        file=open(path+'.txt',\"w+\")\n",
    "        file.write(str(i+3))\n",
    "        file.write(str(errors))\n",
    "        file.close()\n",
    "        return -1"
   ]
  },
  {
   "cell_type": "code",
   "execution_count": 43,
   "id": "a5a1a704",
   "metadata": {},
   "outputs": [
    {
     "data": {
      "text/plain": [
       "True"
      ]
     },
     "execution_count": 43,
     "metadata": {},
     "output_type": "execute_result"
    }
   ],
   "source": [
    "[1,3,4] in [[1,3,4],[1,2,2]]"
   ]
  },
  {
   "cell_type": "code",
   "execution_count": null,
   "id": "b9782ee0",
   "metadata": {},
   "outputs": [
    {
     "name": "stdout",
     "output_type": "stream",
     "text": [
      "input:  [[1.30252048 1.33683214 2.02464289]\n",
      " [1.06906015 1.58595264 1.22569942]\n",
      " [1.91936259 1.69762538 1.6801953 ]]\n",
      "\n",
      " response:  [0.20631954 0.23248345 0.21205668]\n"
     ]
    }
   ],
   "source": [
    "activeLearning(lambda data: (np.exp(-(((data[0]-data[1])/data[2])**2)/2)/(sqrt(2*np.pi)*data[2])),3,[[1,3],[1,3],[1,3]],((1,3),(1,3),(1,3)),eqNum=3,version=1,iterations=10)"
   ]
  },
  {
   "cell_type": "code",
   "execution_count": 39,
   "id": "35fbfe3b",
   "metadata": {},
   "outputs": [
    {
     "data": {
      "text/plain": [
       "((2.5301477333407623, 2.728418202384151), (1, 3), (1, 3))"
      ]
     },
     "execution_count": 39,
     "metadata": {},
     "output_type": "execute_result"
    }
   ],
   "source": [
    "space=((1,3),(1,3),(1,3))\n",
    "space=list(space)\n",
    "new=(np.random.uniform(space[0][0],space[0][1]),np.random.uniform(space[0][0],space[0][1]))\n",
    "new\n",
    "new=sorted(new)\n",
    "new\n",
    "space[0]=(new[0],new[1])\n",
    "space=tuple(space)\n",
    "space"
   ]
  },
  {
   "cell_type": "code",
   "execution_count": 42,
   "id": "c49301de",
   "metadata": {},
   "outputs": [
    {
     "data": {
      "text/plain": [
       "((1.3206913946691197, 1.8132138092608878),\n",
       " (1.3018127602990994, 1.7481037517507034),\n",
       " (2.4413436761418232, 2.9292572651215494))"
      ]
     },
     "execution_count": 42,
     "metadata": {},
     "output_type": "execute_result"
    }
   ],
   "source": [
    "\n",
    "subSampleSpace(((1,3),(1,3),(1,3)))"
   ]
  },
  {
   "cell_type": "code",
   "execution_count": 42,
   "id": "ad92b7a9",
   "metadata": {},
   "outputs": [
    {
     "name": "stdout",
     "output_type": "stream",
     "text": [
      "Points needed in round 0 :  3  Time needed:  373.80267229201854\n",
      "Points needed in round 1 :  4  Time needed:  758.9035540419864\n",
      "Points needed in round 2 :  4  Time needed:  750.6328847499972\n",
      "Points needed in round 3 :  3  Time needed:  372.9139214169991\n",
      "Points needed in round 4 :  3  Time needed:  371.2244557920203\n",
      "Points needed in round 5 :  4  Time needed:  743.936077499995\n",
      "Points needed in round 6 :  3  Time needed:  370.8234157920233\n",
      "Points needed in round 7 :  3  Time needed:  368.92875358398305\n",
      "Points needed in round 8 :  3  Time needed:  370.01724183297483\n",
      "Points needed in round 9 :  5  Time needed:  1119.9209554590052\n",
      "Points needed in round 10 :  3  Time needed:  373.6143811669899\n",
      "Points needed in round 11 :  4  Time needed:  755.115173541999\n",
      "Points needed in round 12 :  3  Time needed:  376.6653729159734\n",
      "Points needed in round 13 :  3  Time needed:  371.4537324590201\n",
      "Points needed in round 14 :  4  Time needed:  758.9077585420164\n",
      "Points needed in round 15 :  3  Time needed:  373.0278686659876\n",
      "Points needed in round 16 :  3  Time needed:  377.9438815420144\n",
      "Points needed in round 17 :  3  Time needed:  382.16122966699186\n",
      "Points needed in round 18 :  4  Time needed:  767.2299898749916\n",
      "Points needed in round 19 :  3  Time needed:  379.17777083301917\n",
      "Points needed in round 20 :  5  Time needed:  1209.3400422910054\n",
      "Points needed in round 21 :  3  Time needed:  480.9879198340059\n",
      "Points needed in round 22 :  4  Time needed:  961.8663288749813\n",
      "Points needed in round 23 :  3  Time needed:  480.92772983401665\n",
      "Points needed in round 24 :  3  Time needed:  480.75768566699116\n",
      "Points needed in round 25 :  3  Time needed:  480.89895266701933\n",
      "Points needed in round 26 :  3  Time needed:  474.1560296670068\n",
      "Points needed in round 27 :  3  Time needed:  378.1161466249905\n",
      "Points needed in round 28 :  3  Time needed:  371.0896085409913\n",
      "Points needed in round 29 :  3  Time needed:  369.05446004201076\n",
      "Points needed in round 30 :  3  Time needed:  369.23055954198935\n",
      "Points needed in round 31 :  3  Time needed:  370.7512404159934\n",
      "Points needed in round 32 :  3  Time needed:  372.35705849999795\n",
      "Points needed in round 33 :  3  Time needed:  370.9464429579966\n",
      "Points needed in round 34 :  3  Time needed:  369.1484687500051\n",
      "Points needed in round 35 :  3  Time needed:  370.23099820900825\n",
      "Points needed in round 36 :  3  Time needed:  364.21694262500387\n",
      "Points needed in round 37 :  3  Time needed:  368.56868812497123\n",
      "Points needed in round 38 :  3  Time needed:  371.58361591698485\n",
      "Points needed in round 39 :  3  Time needed:  373.14265445797355\n",
      "Points needed in round 40 :  3  Time needed:  370.63983262499096\n",
      "Points needed in round 41 :  3  Time needed:  370.60298462500214\n",
      "Points needed in round 42 :  3  Time needed:  372.4644175420108\n",
      "Points needed in round 43 :  4  Time needed:  741.9707550409948\n",
      "Points needed in round 44 :  3  Time needed:  374.37305641701096\n",
      "Points needed in round 45 :  4  Time needed:  745.3261197499814\n",
      "Points needed in round 46 :  4  Time needed:  742.0754041250038\n",
      "Points needed in round 47 :  4  Time needed:  744.9707123750122\n",
      "Points needed in round 48 :  4  Time needed:  747.2223110419873\n",
      "Points needed in round 49 :  3  Time needed:  370.55876095898566\n",
      "Points needed in round 50 :  3  Time needed:  374.19116979200044\n",
      "Points needed in round 51 :  3  Time needed:  372.6020553330018\n",
      "Points needed in round 52 :  3  Time needed:  369.946428833995\n",
      "Points needed in round 53 :  3  Time needed:  372.7483586250164\n",
      "Points needed in round 54 :  3  Time needed:  369.5846179170185\n",
      "Points needed in round 55 :  3  Time needed:  372.564010541013\n",
      "Points needed in round 56 :  4  Time needed:  746.2586399159918\n",
      "Points needed in round 57 :  3  Time needed:  372.72120866700425\n",
      "Points needed in round 58 :  4  Time needed:  748.0322987920081\n",
      "Points needed in round 59 :  3  Time needed:  374.2655108750041\n",
      "Points needed in round 60 :  3  Time needed:  372.9655344579951\n",
      "Points needed in round 61 :  3  Time needed:  373.627808833\n",
      "Points needed in round 62 :  3  Time needed:  373.2277630409808\n",
      "Points needed in round 63 :  4  Time needed:  745.4177616249945\n",
      "Points needed in round 64 :  3  Time needed:  371.61415562499315\n",
      "Points needed in round 65 :  4  Time needed:  748.3195765829878\n",
      "Points needed in round 66 :  3  Time needed:  369.4687845830049\n",
      "Points needed in round 67 :  3  Time needed:  369.0574790420069\n",
      "Points needed in round 68 :  3  Time needed:  370.73605712500284\n",
      "Points needed in round 69 :  3  Time needed:  373.4472213329864\n",
      "Points needed in round 70 :  3  Time needed:  373.53154900000663\n",
      "Points needed in round 71 :  4  Time needed:  743.8475585000124\n",
      "Points needed in round 72 :  3  Time needed:  371.186397958023\n",
      "Points needed in round 73 :  4  Time needed:  741.113647916005\n",
      "Points needed in round 74 :  3  Time needed:  370.170507584\n",
      "Points needed in round 75 :  3  Time needed:  370.1872469999944\n",
      "Points needed in round 76 :  3  Time needed:  371.23944170802133\n",
      "Points needed in round 77 :  4  Time needed:  738.5003846249892\n",
      "Points needed in round 78 :  3  Time needed:  370.1723827079986\n",
      "Points needed in round 79 :  3  Time needed:  371.54332562501077\n",
      "Points needed in round 80 :  4  Time needed:  744.6580925000017\n",
      "Points needed in round 81 :  3  Time needed:  371.4653612910188\n",
      "Points needed in round 82 :  4  Time needed:  742.7994981659867\n",
      "Points needed in round 83 :  4  Time needed:  743.5788092919975\n",
      "Points needed in round 84 :  3  Time needed:  367.5495475829812\n",
      "Points needed in round 85 :  3  Time needed:  373.4162782920175\n",
      "Points needed in round 86 :  3  Time needed:  375.02833691600244\n",
      "Points needed in round 87 :  3  Time needed:  371.24545179199777\n",
      "Points needed in round 88 :  4  Time needed:  743.1045279169921\n",
      "Points needed in round 89 :  3  Time needed:  369.32234462501947\n",
      "Points needed in round 90 :  3  Time needed:  373.0878515000222\n",
      "Points needed in round 91 :  5  Time needed:  1107.4382556249911\n",
      "Points needed in round 92 :  3  Time needed:  371.05147841598955\n",
      "Points needed in round 93 :  4  Time needed:  741.2712981670047\n",
      "Points needed in round 94 :  3  Time needed:  371.66870920802467\n",
      "Points needed in round 95 :  3  Time needed:  366.98356083399267\n",
      "Points needed in round 96 :  3  Time needed:  371.0613013750117\n",
      "Points needed in round 97 :  3  Time needed:  370.26912412498496\n",
      "Points needed in round 98 :  3  Time needed:  372.5291357919923\n",
      "Points needed in round 99 :  4  Time needed:  737.1904722499894\n",
      "Time:  49631.03290758302\n"
     ]
    }
   ],
   "source": [
    "ptsNeeded=[]\n",
    "start=time.perf_counter()\n",
    "for j in range(100):\n",
    "    found=False\n",
    "    inputData=np.array([np.random.uniform(1,2,3),np.random.uniform(2,5,3),np.random.uniform(1,5,3)])\n",
    "    response=np.arcsin(inputData[0]/(inputData[1]*inputData[2]))\n",
    "    testInput=np.array([np.random.uniform(1,2,200),np.random.uniform(2,5,200),np.random.uniform(1,5,200)])\n",
    "    testResponse=np.arcsin(testInput[0]/(testInput[1]*testInput[2]))\n",
    "    errors=[]\n",
    "    models=[]\n",
    "    roundTime=time.perf_counter()\n",
    "    for i in range(100):\n",
    "        models1=evolve(inputData,response,initialPop=models,generations=1000,tracking=False,popSize=300,ops=allOps(),timeLimit=120,capTime=True,align=False,elitismRate=10)\n",
    "        models2=evolve(inputData,response,initialPop=models,generations=1000,tracking=False,popSize=300,ops=allOps(),timeLimit=120,capTime=True,align=False,elitismRate=10)\n",
    "        models3=evolve(inputData,response,initialPop=models,generations=1000,tracking=False,popSize=300,ops=allOps(),timeLimit=120,capTime=True,align=False,elitismRate=10)\n",
    "        models4=evolve(inputData,response,initialPop=models,generations=1000,tracking=False,popSize=300,ops=allOps(),timeLimit=120,capTime=True,align=False,elitismRate=10)\n",
    "        models=models1+models2+models3+models4\n",
    "        models=sortModels(models)[:100]+paretoTournament(models)\n",
    "        alignedModels=[alignGPModel(mods,inputData,response) for mods in models]\n",
    "        ensemble=ensembleSelect(alignedModels,inputData,response)\n",
    "        out=maximizeUncertainty(ensemble,3,((1,2),(2,5),(1,5)))\n",
    "        inputData=extendData(inputData,out)\n",
    "        response=np.arcsin(inputData[0]/(inputData[1]*inputData[2]))\n",
    "        errors.append(min([fitness(mod, testInput,testResponse) for mod in alignedModels]))\n",
    "        minerr=errors[-1]\n",
    "        if minerr<1e-14:\n",
    "            print(\"Points needed in round\", j,\": \",3+i, \" Time needed: \", time.perf_counter()-roundTime)\n",
    "            found=True\n",
    "            ptsNeeded.append(3+i)\n",
    "            break\n",
    "    if found==False:\n",
    "        print(\"Points needed in round\",j,\": NA (model not found)\")\n",
    "stop=time.perf_counter()-start\n",
    "print(\"Time: \",stop)"
   ]
  },
  {
   "cell_type": "code",
   "execution_count": 19,
   "id": "89da79e6",
   "metadata": {},
   "outputs": [
    {
     "data": {
      "text/plain": [
       "0.0"
      ]
     },
     "execution_count": 19,
     "metadata": {},
     "output_type": "execute_result"
    }
   ],
   "source": [
    "tan(*[0])"
   ]
  },
  {
   "cell_type": "code",
   "execution_count": null,
   "id": "2909548d",
   "metadata": {},
   "outputs": [],
   "source": [
    "ptsNeeded=[]\n",
    "start=time.perf_counter()\n",
    "for j in range(100):\n",
    "    found=False\n",
    "    inputData=np.array([np.random.uniform(1,3,3),np.random.uniform(1,3,3),np.random.uniform(1,3,3),np.random.uniform(1,3,3)])\n",
    "    response=1/4*inputData[0]*(inputData[1]**2*inputData[2]**2)*inputData[3]**2\n",
    "    testInput=np.array([np.random.uniform(1,3,200),np.random.uniform(1,3,200),np.random.uniform(1,3,200),np.random.uniform(1,3,200)])\n",
    "    testResponse=1/4*testInput[0]*(testInput[1]**2*testInput[2]**2)*testInput[3]**2\n",
    "    errors=[]\n",
    "    models=[]\n",
    "    roundTime=time.perf_counter()\n",
    "    for i in range(100):\n",
    "        models1=evolve(inputData,response,initialPop=models,generations=1000,tracking=False,popSize=300,ops=allOps(),timeLimit=120,capTime=True,align=False,elitismRate=10)\n",
    "        models2=evolve(inputData,response,initialPop=models,generations=1000,tracking=False,popSize=300,ops=allOps(),timeLimit=120,capTime=True,align=False,elitismRate=10)\n",
    "        models3=evolve(inputData,response,initialPop=models,generations=1000,tracking=False,popSize=300,ops=allOps(),timeLimit=120,capTime=True,align=False,elitismRate=10)\n",
    "        models4=evolve(inputData,response,initialPop=models,generations=1000,tracking=False,popSize=300,ops=allOps(),timeLimit=120,capTime=True,align=False,elitismRate=10)\n",
    "        models=models1+models2+models3+models4\n",
    "        models=sortModels(models)[:100]+paretoTournament(models)\n",
    "        alignedModels=[alignGPModel(mods,inputData,response) for mods in models]\n",
    "        ensemble=ensembleSelect(alignedModels,inputData,response)\n",
    "        out=maximizeUncertainty(ensemble,4,((1,3),(1,3),(1,3),(1,3)))\n",
    "        inputData=extendData(inputData,out)\n",
    "        response=1/4*inputData[0]*(inputData[1]**2*inputData[2]**2)*inputData[3]**2\n",
    "        errors.append(min([fitness(mod, testInput,testResponse) for mod in alignedModels]))\n",
    "        minerr=errors[-1]\n",
    "        if minerr<1e-14:\n",
    "            print(\"Points needed in round\", j,\": \",3+i, \" Time needed: \", time.perf_counter()-roundTime)\n",
    "            found=True\n",
    "            ptsNeeded.append(3+i)\n",
    "            break\n",
    "    if found==False:\n",
    "        print(\"Points needed in round\",j,\": NA (model not found)\")\n",
    "stop=time.perf_counter()-start\n",
    "print(\"Time: \",stop)\n",
    "print(\"Last Model: \", sortModels(models)[0])"
   ]
  },
  {
   "cell_type": "code",
   "execution_count": 105,
   "id": "4a95d8d1",
   "metadata": {},
   "outputs": [],
   "source": [
    "tMods=copy.deepcopy(models)\n",
    "[modelToListForm(mod) for mod in tMods]\n",
    "paretoModels=[]\n",
    "selection=10\n"
   ]
  },
  {
   "cell_type": "code",
   "execution_count": 106,
   "id": "f847b6ef",
   "metadata": {},
   "outputs": [],
   "source": [
    "\n",
    "front=paretoTournament(tMods)\n",
    "paretoModels=paretoModels+front\n",
    "for i in front:\n",
    "    tMods.remove(i)\n",
    "paretoModels=[modelRestoreForm(mod) for mod in paretoModels]"
   ]
  },
  {
   "cell_type": "code",
   "execution_count": 110,
   "id": "7a2a3846",
   "metadata": {},
   "outputs": [
    {
     "data": {
      "text/plain": [
       "10"
      ]
     },
     "execution_count": 110,
     "metadata": {},
     "output_type": "execute_result"
    }
   ],
   "source": [
    "len(selectModels(models1,selectionSize=10))"
   ]
  },
  {
   "cell_type": "code",
   "execution_count": 89,
   "id": "23e0b06b",
   "metadata": {},
   "outputs": [],
   "source": [
    "models[0][0]=np.array(models[0][0])"
   ]
  },
  {
   "cell_type": "code",
   "execution_count": 70,
   "id": "2ad60233",
   "metadata": {},
   "outputs": [
    {
     "data": {
      "text/plain": [
       "[array([<function add at 0x7fb40abce1f0>, 'pop',\n",
       "        <function sqrd at 0x7fb3b817c9d0>,\n",
       "        <function mult at 0x7fb3b817c790>, 'pop',\n",
       "        <function sqrt at 0x7fb3b817c940>, 'pop',\n",
       "        <function exp at 0x7fb3b817c820>,\n",
       "        <function protectDiv at 0x7fb3e8405280>,\n",
       "        <function sub at 0x7fb3b8170af0>], dtype=object),\n",
       " [<function __main__.variableSelect.<locals>.<lambda>(variables)>,\n",
       "  <function __main__.variableSelect.<locals>.<lambda>(variables)>,\n",
       "  <function __main__.variableSelect.<locals>.<lambda>(variables)>,\n",
       "  <function __main__.variableSelect.<locals>.<lambda>(variables)>,\n",
       "  <function __main__.variableSelect.<locals>.<lambda>(variables)>],\n",
       " [2.267245230636039e-05, 12]]"
      ]
     },
     "execution_count": 70,
     "metadata": {},
     "output_type": "execute_result"
    }
   ],
   "source": [
    "models[1]"
   ]
  },
  {
   "cell_type": "code",
   "execution_count": null,
   "id": "873c912f",
   "metadata": {},
   "outputs": [],
   "source": [
    "    tMods=copy.deepcopy(models)\n",
    "    paretoModels=[]\n",
    "    if selectionSize<=1:\n",
    "        selection=selectionSize*len(models)\n",
    "    else:\n",
    "        selection=selectionSize\n",
    "    \n",
    "    while len(paretoModels)<selection:\n",
    "        front=paretoTournament(models)\n",
    "        paretoModels=paretoModels+front\n",
    "        for i in front:\n",
    "            models.remove(i)"
   ]
  },
  {
   "cell_type": "code",
   "execution_count": 42,
   "id": "c6075184",
   "metadata": {},
   "outputs": [
    {
     "data": {
      "text/plain": [
       "[[1, 2]]"
      ]
     },
     "execution_count": 42,
     "metadata": {},
     "output_type": "execute_result"
    }
   ],
   "source": [
    "testList=[[[1,2,4]],[1,2]]\n",
    "testList.remove([[1,2,4]])\n",
    "testList"
   ]
  },
  {
   "cell_type": "code",
   "execution_count": null,
   "id": "870d8c95",
   "metadata": {},
   "outputs": [],
   "source": [
    "errors"
   ]
  },
  {
   "cell_type": "code",
   "execution_count": 43,
   "id": "ce41eaf9",
   "metadata": {},
   "outputs": [
    {
     "data": {
      "text/plain": [
       "3.0"
      ]
     },
     "execution_count": 43,
     "metadata": {},
     "output_type": "execute_result"
    }
   ],
   "source": [
    "np.median(ptsNeeded)"
   ]
  },
  {
   "cell_type": "code",
   "execution_count": 44,
   "id": "020b9bdf",
   "metadata": {},
   "outputs": [
    {
     "data": {
      "text/plain": [
       "<matplotlib.collections.PathCollection at 0x7f8a4880b760>"
      ]
     },
     "execution_count": 44,
     "metadata": {},
     "output_type": "execute_result"
    },
    {
     "data": {
      "image/png": "[encoded data removed]",
      "text/plain": [
       "<Figure size 432x288 with 1 Axes>"
      ]
     },
     "metadata": {
      "needs_background": "light"
     },
     "output_type": "display_data"
    }
   ],
   "source": [
    "plt.scatter(range(len(ptsNeeded)),ptsNeeded)"
   ]
  },
  {
   "cell_type": "code",
   "execution_count": 12,
   "id": "f79ca540",
   "metadata": {},
   "outputs": [
    {
     "data": {
      "image/png": "[encoded data removed]",
      "text/plain": [
       "<Figure size 432x288 with 1 Axes>"
      ]
     },
     "metadata": {
      "needs_background": "light"
     },
     "output_type": "display_data"
    }
   ],
   "source": [
    "models=evolve(inputData,response,initialPop=models,tracking=True)"
   ]
  },
  {
   "cell_type": "code",
   "execution_count": 371,
   "id": "12872922",
   "metadata": {},
   "outputs": [],
   "source": [
    "ensemble=ensembleSelect(models,inputData,response)"
   ]
  },
  {
   "cell_type": "code",
   "execution_count": 372,
   "id": "1ee2cd63",
   "metadata": {},
   "outputs": [
    {
     "data": {
      "text/plain": [
       "array([1., 2., 1.])"
      ]
     },
     "execution_count": 372,
     "metadata": {},
     "output_type": "execute_result"
    }
   ],
   "source": [
    "out=maximizeUncertainty(ensemble,3,((1,2),(2,5),(1,5)))\n",
    "out"
   ]
  },
  {
   "cell_type": "code",
   "execution_count": 373,
   "id": "e2462cbe",
   "metadata": {},
   "outputs": [
    {
     "data": {
      "text/plain": [
       "array([0.05477329])"
      ]
     },
     "execution_count": 373,
     "metadata": {},
     "output_type": "execute_result"
    }
   ],
   "source": [
    "relativeEnsembleUncertainty(ensemble,out)"
   ]
  },
  {
   "cell_type": "code",
   "execution_count": 374,
   "id": "b4b0798f",
   "metadata": {},
   "outputs": [
    {
     "data": {
      "text/plain": [
       "array([0.24930494, 0.23641433, 0.38243752, 0.52359878, 0.52359878,\n",
       "       0.52359878, 1.57079633, 0.34499334, 0.52359878, 0.35609187,\n",
       "       0.60465804, 0.52359878, 0.54293695, 0.10016742, 0.52359878,\n",
       "       0.10016742, 0.44876586, 0.69388876, 0.10016742, 0.20135792,\n",
       "       0.34506838, 0.52359878])"
      ]
     },
     "execution_count": 374,
     "metadata": {},
     "output_type": "execute_result"
    }
   ],
   "source": [
    "inputData=extendData(inputData,out)\n",
    "response=np.arcsin(inputData[0]/(inputData[1]*inputData[2]))\n",
    "response"
   ]
  },
  {
   "cell_type": "code",
   "execution_count": 26,
   "id": "6ac1502c",
   "metadata": {},
   "outputs": [
    {
     "data": {
      "text/plain": [
       "array([0.28213098, 0.46138993, 0.20322023, 0.52359878, 0.69733875,\n",
       "       0.39062407, 0.20135792, 0.38966733, 0.39507108, 0.20135792,\n",
       "       0.38438965, 1.57079633, 0.20135792, 0.43038835, 0.78307103,\n",
       "       0.53943961, 0.41151685, 0.20135792, 0.6391146 , 0.52359878,\n",
       "       0.68277321, 0.04001067, 0.50659267, 0.20135792, 0.52359878,\n",
       "       0.20135792, 0.60134294, 0.20135792, 0.20135792, 0.43895632,\n",
       "       0.38764135, 0.20135792, 0.48423477, 0.82551345, 0.45067295,\n",
       "       0.20135792, 0.20135792, 0.20135792, 0.52703439, 0.56569178,\n",
       "       0.53808432, 0.54535134, 0.53636632, 0.20135792, 0.20135792,\n",
       "       0.33758907, 0.42090133, 0.42169816, 0.4477996 , 0.49186213,\n",
       "       0.20135792, 0.37794335, 0.46368426, 0.48741067, 0.20135792,\n",
       "       0.42995711, 0.43326109, 0.50160016, 0.47639691, 0.55574343,\n",
       "       0.47321996, 0.44172146, 0.49378238, 0.59012584, 0.04001067,\n",
       "       0.67559582, 0.6342955 , 0.52359878, 0.47624242, 0.52359878,\n",
       "       0.04001067, 0.5673702 , 0.52073037, 0.43766584, 0.33818333,\n",
       "       0.52378722, 0.52359878, 0.45880176, 0.47543028, 1.57079633,\n",
       "       0.50647785, 0.52359878, 0.52359878, 0.04001067, 0.04001067,\n",
       "       0.52322159, 0.51280225, 0.20152212, 0.5247847 , 0.49460006,\n",
       "       0.50614733, 0.53372761, 0.50249643, 0.47099563, 1.57079633,\n",
       "       0.4347201 , 0.58955362, 0.62725244, 0.04001067, 0.56042978,\n",
       "       0.49182172, 0.50468953, 0.62267366])"
      ]
     },
     "execution_count": 26,
     "metadata": {},
     "output_type": "execute_result"
    }
   ],
   "source": [
    "response"
   ]
  },
  {
   "cell_type": "code",
   "execution_count": 375,
   "id": "6ef7fd6a",
   "metadata": {},
   "outputs": [],
   "source": [
    "errors.append(min([fitness(mod, testInput,testResponse) for mod in models]))"
   ]
  },
  {
   "cell_type": "code",
   "execution_count": 22,
   "id": "a604489a",
   "metadata": {},
   "outputs": [
    {
     "data": {
      "text/plain": [
       "<matplotlib.collections.PathCollection at 0x7f8aa05971f0>"
      ]
     },
     "execution_count": 22,
     "metadata": {},
     "output_type": "execute_result"
    },
    {
     "data": {
      "image/png": "[encoded data removed]",
      "text/plain": [
       "<Figure size 432x288 with 1 Axes>"
      ]
     },
     "metadata": {
      "needs_background": "light"
     },
     "output_type": "display_data"
    }
   ],
   "source": [
    "plt.scatter(range(len(errors)),errors)"
   ]
  },
  {
   "cell_type": "code",
   "execution_count": 23,
   "id": "b499ed6d",
   "metadata": {},
   "outputs": [
    {
     "data": {
      "text/plain": [
       "2.220446049250313e-16"
      ]
     },
     "execution_count": 23,
     "metadata": {},
     "output_type": "execute_result"
    }
   ],
   "source": [
    "np.min(errors)"
   ]
  },
  {
   "cell_type": "code",
   "execution_count": 37,
   "id": "1b5ca536",
   "metadata": {},
   "outputs": [],
   "source": [
    "responses=[evaluateGPModel(mod, testInput) for mod in ensemble]"
   ]
  },
  {
   "cell_type": "code",
   "execution_count": 87,
   "id": "75b8cf7c",
   "metadata": {},
   "outputs": [
    {
     "data": {
      "text/plain": [
       "<matplotlib.collections.PathCollection at 0x7fb3a0077070>"
      ]
     },
     "execution_count": 87,
     "metadata": {},
     "output_type": "execute_result"
    },
    {
     "data": {
      "image/png": "[encoded data removed]",
      "text/plain": [
       "<Figure size 432x288 with 1 Axes>"
      ]
     },
     "metadata": {
      "needs_background": "light"
     },
     "output_type": "display_data"
    }
   ],
   "source": [
    "plt.scatter(evaluateModelEnsemble(ensemble,testInput)[0],evaluateModelEnsemble(ensemble,testInput)[1])"
   ]
  },
  {
   "cell_type": "code",
   "execution_count": 9,
   "id": "6660b551",
   "metadata": {},
   "outputs": [
    {
     "data": {
      "text/plain": [
       "array([0, 1, 2, 1, 1, 1, 2, 1, 0, 2, 1, 0, 2, 0, 0, 0, 2, 0, 2, 0, 0, 2,\n",
       "       1, 2, 1, 2, 2, 0, 0, 1, 1, 1, 0, 0, 0, 1, 2, 0, 2, 0, 1, 0, 0, 0,\n",
       "       1, 2, 1, 0, 1, 0, 2, 2, 2, 0, 2, 0, 2, 1, 0, 1, 2, 0, 1, 2, 2, 1,\n",
       "       0, 0, 2, 2, 1, 2, 2, 0, 2, 0, 0, 1, 0, 2, 0, 0, 2, 1, 1, 0, 0, 2,\n",
       "       0, 0, 2, 1, 1, 0, 2, 1, 0, 0, 1, 0], dtype=int32)"
      ]
     },
     "execution_count": 9,
     "metadata": {},
     "output_type": "execute_result"
    }
   ],
   "source": [
    "testInput=np.array([np.random.uniform(1,2,100),np.random.uniform(2,5,100),np.random.uniform(1,5,100)])\n",
    "testResponse=np.arcsin(testInput[0]/(testInput[1]*testInput[2]))\n",
    "KMeans(n_clusters=3).fit_predict(np.transpose(testInput))"
   ]
  },
  {
   "cell_type": "code",
   "execution_count": 15,
   "id": "76fa5a95",
   "metadata": {},
   "outputs": [],
   "source": [
    "inputData=np.array([np.random.uniform(1,3,3)])\n",
    "response=np.exp(-(inputData[0]**2)/2)/np.sqrt(2*np.pi)"
   ]
  },
  {
   "cell_type": "code",
   "execution_count": 14,
   "id": "24ab7e39",
   "metadata": {},
   "outputs": [
    {
     "ename": "NameError",
     "evalue": "name 'inputData' is not defined",
     "output_type": "error",
     "traceback": [
      "\u001b[0;31m---------------------------------------------------------------------------\u001b[0m",
      "\u001b[0;31mNameError\u001b[0m                                 Traceback (most recent call last)",
      "\u001b[0;32m/var/folders/2p/7dh9_xc97631hpy5tktgs__00000gn/T/ipykernel_64034/1617407110.py\u001b[0m in \u001b[0;36m<module>\u001b[0;34m\u001b[0m\n\u001b[1;32m      1\u001b[0m \u001b[0mtestInput\u001b[0m\u001b[0;34m=\u001b[0m\u001b[0mnp\u001b[0m\u001b[0;34m.\u001b[0m\u001b[0marray\u001b[0m\u001b[0;34m(\u001b[0m\u001b[0;34m[\u001b[0m\u001b[0mnp\u001b[0m\u001b[0;34m.\u001b[0m\u001b[0mrandom\u001b[0m\u001b[0;34m.\u001b[0m\u001b[0muniform\u001b[0m\u001b[0;34m(\u001b[0m\u001b[0;36m1\u001b[0m\u001b[0;34m,\u001b[0m\u001b[0;36m3\u001b[0m\u001b[0;34m,\u001b[0m\u001b[0;36m3\u001b[0m\u001b[0;34m)\u001b[0m\u001b[0;34m]\u001b[0m\u001b[0;34m)\u001b[0m\u001b[0;34m\u001b[0m\u001b[0;34m\u001b[0m\u001b[0m\n\u001b[0;32m----> 2\u001b[0;31m \u001b[0mtestResponse\u001b[0m\u001b[0;34m=\u001b[0m\u001b[0mnp\u001b[0m\u001b[0;34m.\u001b[0m\u001b[0mexp\u001b[0m\u001b[0;34m(\u001b[0m\u001b[0;34m-\u001b[0m\u001b[0;34m(\u001b[0m\u001b[0minputData\u001b[0m\u001b[0;34m[\u001b[0m\u001b[0;36m0\u001b[0m\u001b[0;34m]\u001b[0m\u001b[0;34m**\u001b[0m\u001b[0;36m2\u001b[0m\u001b[0;34m)\u001b[0m\u001b[0;34m/\u001b[0m\u001b[0;36m2\u001b[0m\u001b[0;34m)\u001b[0m\u001b[0;34m/\u001b[0m\u001b[0mnp\u001b[0m\u001b[0;34m.\u001b[0m\u001b[0msqrt\u001b[0m\u001b[0;34m(\u001b[0m\u001b[0;36m2\u001b[0m\u001b[0;34m*\u001b[0m\u001b[0mnp\u001b[0m\u001b[0;34m.\u001b[0m\u001b[0mpi\u001b[0m\u001b[0;34m)\u001b[0m\u001b[0;34m\u001b[0m\u001b[0;34m\u001b[0m\u001b[0m\n\u001b[0m",
      "\u001b[0;31mNameError\u001b[0m: name 'inputData' is not defined"
     ]
    }
   ],
   "source": [
    "testInput=np.array([np.random.uniform(1,3,3)])\n",
    "testResponse=np.exp(-(inputData[0]**2)/2)/np.sqrt(2*np.pi)"
   ]
  },
  {
   "cell_type": "code",
   "execution_count": 599,
   "id": "afc1dd29",
   "metadata": {},
   "outputs": [
    {
     "data": {
      "text/plain": [
       "[array([<function arccos at 0x7fa3f098a3a0>,\n",
       "        <function sub at 0x7fa3f098a430>, <function sub at 0x7fa3f098a430>,\n",
       "        'pop', <function sin at 0x7fa3f098a790>,\n",
       "        <function exp at 0x7fa3f098a9d0>], dtype=object),\n",
       " [2.718281828459045, 3.141592653589793, 3],\n",
       " []]"
      ]
     },
     "execution_count": 599,
     "metadata": {},
     "output_type": "execute_result"
    }
   ],
   "source": [
    "randomMods[10]"
   ]
  },
  {
   "cell_type": "code",
   "execution_count": 600,
   "id": "4b0ee101",
   "metadata": {},
   "outputs": [],
   "source": [
    "randomMods=initializeGPModels(3,ops=allOps())"
   ]
  },
  {
   "cell_type": "code",
   "execution_count": 620,
   "id": "13f60c45",
   "metadata": {},
   "outputs": [
    {
     "name": "stdout",
     "output_type": "stream",
     "text": [
      "120.29486166709103\n"
     ]
    },
    {
     "data": {
      "image/png": "[encoded data removed]",
      "text/plain": [
       "<Figure size 432x288 with 1 Axes>"
      ]
     },
     "metadata": {
      "needs_background": "light"
     },
     "output_type": "display_data"
    }
   ],
   "source": [
    "begin=time.perf_counter()\n",
    "evolvedMods=evolve(inputData,response,popSize=300,tracking=True,ops=allOps(),capTime=True,timeLimit=120,generations=100000)\n",
    "print(time.perf_counter()-begin)"
   ]
  },
  {
   "cell_type": "code",
   "execution_count": 622,
   "id": "71716643",
   "metadata": {},
   "outputs": [
    {
     "data": {
      "text/plain": [
       "0.1623108282614847"
      ]
     },
     "execution_count": 622,
     "metadata": {},
     "output_type": "execute_result"
    }
   ],
   "source": [
    "np.sqrt(np.mean(np.abs(evaluateGPModel(paretoTournament(evolvedMods)[0],testInput)-testResponse)**2))"
   ]
  },
  {
   "cell_type": "code",
   "execution_count": 607,
   "id": "0c3b847e",
   "metadata": {},
   "outputs": [
    {
     "data": {
      "text/plain": [
       "[array(['pop', 'pop', <function add at 0x7fa3f098a160>,\n",
       "        <function sin at 0x7fa3f098a790>, <function exp at 0x7fa3f098a9d0>,\n",
       "        'pop', <function sub at 0x7fa3f098a430>,\n",
       "        <function cos at 0x7fa3f098adc0>,\n",
       "        <function mult at 0x7fa3f098a280>,\n",
       "        <function mult at 0x7fa3f098a280>,\n",
       "        <function add at 0x7fa3f098a160>], dtype=object),\n",
       " [<function __main__.variableSelect.<locals>.<lambda>(variables)>,\n",
       "  -2,\n",
       "  12.538640202104032,\n",
       "  <function __main__.variableSelect.<locals>.<lambda>(variables)>,\n",
       "  1.2217735706095523,\n",
       "  -1.7307847566895709],\n",
       " [0.000310597503500154, 14]]"
      ]
     },
     "execution_count": 607,
     "metadata": {},
     "output_type": "execute_result"
    }
   ],
   "source": [
    "paretoTournament(evolvedMods)[0]"
   ]
  },
  {
   "cell_type": "code",
   "execution_count": 608,
   "id": "a5efc8a8",
   "metadata": {},
   "outputs": [
    {
     "data": {
      "text/plain": [
       "[[0.000310597503500154, 14],\n",
       " [0.0006426945113916505, 12],\n",
       " [0.0007531381141679949, 11],\n",
       " [0.0027844386624548134, 10],\n",
       " [0.0034518314136208206, 9],\n",
       " [0.023660027565680752, 8],\n",
       " [0.04832608311755926, 7],\n",
       " [0.09060939754432895, 6],\n",
       " [0.2975714360125694, 5],\n",
       " [1, 1]]"
      ]
     },
     "execution_count": 608,
     "metadata": {},
     "output_type": "execute_result"
    }
   ],
   "source": [
    "[i[2] for i in paretoTournament(evolvedMods)]"
   ]
  },
  {
   "cell_type": "markdown",
   "id": "99f3fe1b",
   "metadata": {},
   "source": [
    "## Testing"
   ]
  },
  {
   "cell_type": "code",
   "execution_count": null,
   "id": "4ba9b00d",
   "metadata": {},
   "outputs": [
    {
     "name": "stdout",
     "output_type": "stream",
     "text": [
      "0 : 0.147010617942277\n",
      "1 : 2.1308167081879446e-17\n",
      "2 : 3.5476336089131648e-15\n",
      "3 : 0.1397940878540211\n",
      "4 : 0.13686418723526597\n",
      "5 : 1.2967586400260168e-14\n",
      "6 : 3.5408938311402802e-15\n",
      "7 : 7.26818255248192\n",
      "8 : 3.55605307834834e-15\n",
      "9 : 0.11898047495712154\n",
      "10 : 6.29158678387186e-15\n",
      "11 : 1.5662545344429946e-17\n",
      "12 : 6.66917324319287e-15\n",
      "13 : 0.12786300318693705\n",
      "14 : 0.12930685968577185\n",
      "15 : nan\n",
      "16 : 2.539104268996504e-17\n",
      "17 : 2.236111718612324e-17\n",
      "18 : 3.5550091419094926e-15\n",
      "19 : 2.4576813845745888e-17\n",
      "20 : 2.4907633033585074e-17\n",
      "21 : 2.319085890971129e-17\n",
      "22 : 3.5515377007964704e-15\n",
      "23 : 2.6477131637640696e-17\n",
      "24 : 3.0860530739108946e-17\n",
      "25 : 2.2798253085302506e-17\n",
      "26 : 0.9960785016061636\n",
      "27 : 0.14801473770071744\n",
      "28 : nan\n",
      "29 : 0.11164979820566409\n",
      "30 : 3.5539793948954526e-15\n",
      "31 : 0.0\n",
      "32 : 3.5463552756606122e-15\n",
      "33 : 3.553066365813665e-15\n",
      "34 : 1.8735013540549518e-17\n",
      "35 : 1.5578319064642537e-16\n",
      "36 : 0.07179464646607299\n",
      "37 : 2.53692736706835e-16\n"
     ]
    }
   ],
   "source": [
    "errors=[]\n",
    "for i in range(100):\n",
    "    inputData=np.array([np.random.uniform(1,2,3),np.random.uniform(2,5,3),np.random.uniform(1,5,3)])\n",
    "    response=np.arcsin(inputData[0]/(inputData[1]*inputData[2]))\n",
    "    testInput=np.array([np.random.uniform(1,2,200),np.random.uniform(2,5,200),np.random.uniform(1,5,200)])\n",
    "    testResponse=np.arcsin(testInput[0]/(testInput[1]*testInput[2]))\n",
    "    evolvedMods=evolve(inputData,response,popSize=300,tracking=False,ops=allOps(),capTime=True,timeLimit=120,generations=100000)\n",
    "    evolvedMods2=evolve(inputData,response,popSize=300,tracking=False,ops=allOps(),capTime=True,timeLimit=120,generations=100000)\n",
    "    evolvedMods=sortModels(evolvedMods+evolvedMods2)\n",
    "    error=np.sqrt(np.mean(np.abs(evaluateGPModel(paretoTournament(evolvedMods)[0],testInput)-testResponse)**2))\n",
    "    print(i,\":\",error)\n",
    "    errors.append(error)"
   ]
  },
  {
   "cell_type": "code",
   "execution_count": 21,
   "id": "1d0ff744",
   "metadata": {},
   "outputs": [
    {
     "name": "stdout",
     "output_type": "stream",
     "text": [
      "error\n"
     ]
    }
   ],
   "source": [
    "try:\n",
    "    raise(np.linalg.LinAlgError(\"No\"))\n",
    "except np.linalg.LinAlgError:\n",
    "    print(\"error\")"
   ]
  },
  {
   "cell_type": "code",
   "execution_count": 55,
   "id": "8d0e9527",
   "metadata": {},
   "outputs": [
    {
     "data": {
      "text/plain": [
       "array([1., 0.])"
      ]
     },
     "execution_count": 55,
     "metadata": {},
     "output_type": "execute_result"
    }
   ],
   "source": [
    "np.round(np.polyfit(np.array([1,2,3]),np.array([1,2,3]),deg=1,rcond=1e-9),decimals=14)"
   ]
  },
  {
   "cell_type": "code",
   "execution_count": null,
   "id": "707f93de",
   "metadata": {},
   "outputs": [],
   "source": [
    "plt.plot(errors)"
   ]
  },
  {
   "cell_type": "code",
   "execution_count": 12,
   "id": "edc18a49",
   "metadata": {},
   "outputs": [
    {
     "data": {
      "text/plain": [
       "True"
      ]
     },
     "execution_count": 12,
     "metadata": {},
     "output_type": "execute_result"
    }
   ],
   "source": [
    "all(np.isfinite(np.array([0,0])))"
   ]
  },
  {
   "cell_type": "code",
   "execution_count": 649,
   "id": "a8da5f3d",
   "metadata": {},
   "outputs": [],
   "source": [
    "er=[i for i in errors if np.isnan(i)==False]"
   ]
  },
  {
   "cell_type": "code",
   "execution_count": 650,
   "id": "c8ab1b65",
   "metadata": {},
   "outputs": [
    {
     "data": {
      "text/plain": [
       "0.10085811750824164"
      ]
     },
     "execution_count": 650,
     "metadata": {},
     "output_type": "execute_result"
    }
   ],
   "source": [
    "np.median(er)"
   ]
  },
  {
   "cell_type": "code",
   "execution_count": 651,
   "id": "d9667683",
   "metadata": {},
   "outputs": [
    {
     "data": {
      "text/plain": [
       "4.0365043452864036e-17"
      ]
     },
     "execution_count": 651,
     "metadata": {},
     "output_type": "execute_result"
    }
   ],
   "source": [
    "np.min(er)"
   ]
  },
  {
   "cell_type": "code",
   "execution_count": 371,
   "id": "1ffb6a0c",
   "metadata": {},
   "outputs": [],
   "source": [
    "def paretoFront(fitValues): #Returns Boolean list of Pareto front elements\n",
    "    onFront = np.ones(fitValues.shape[0], dtype = bool)\n",
    "    for i, j in enumerate(fitValues):\n",
    "        if onFront[i]:\n",
    "            onFront[onFront] = np.any(fitValues[onFront]<j, axis=1)  \n",
    "            onFront[i] = True  \n",
    "    return onFront\n",
    "def paretoTournament(pop): # selects the Pareto front of a model set\n",
    "    fitnessValues=np.array([mod[2] for mod in pop])\n",
    "    return pop[paretoFront(fitnessValues)]"
   ]
  },
  {
   "cell_type": "code",
   "execution_count": 440,
   "id": "3563d650",
   "metadata": {},
   "outputs": [
    {
     "name": "stdout",
     "output_type": "stream",
     "text": [
      "0 [1 2]\n",
      "[ True  True  True]\n",
      "[ True False  True]\n",
      "1 [2 3]\n",
      "2 [2 1]\n",
      "[ True  True]\n",
      "[ True False  True]\n"
     ]
    }
   ],
   "source": [
    "fitValues=np.array([[1,2],[2,3],[2,1]])\n",
    "onFront = np.ones(fitValues.shape[0], dtype=bool)\n",
    "for i,j in enumerate(fitValues):\n",
    "    print(i,j)\n",
    "    if onFront[i]:\n",
    "        print(onFront[onFront])\n",
    "        onFront[onFront]=np.any(fitValues[onFront]<j,axis=1)\n",
    "        onFront[i]= True\n",
    "        print(onFront)"
   ]
  }
 ],
 "metadata": {
  "kernelspec": {
   "display_name": "Python 3 (ipykernel)",
   "language": "python",
   "name": "python3"
  },
  "language_info": {
   "codemirror_mode": {
    "name": "ipython",
    "version": 3
   },
   "file_extension": ".py",
   "mimetype": "text/x-python",
   "name": "python",
   "nbconvert_exporter": "python",
   "pygments_lexer": "ipython3",
   "version": "3.8.12"
  }
 },
 "nbformat": 4,
 "nbformat_minor": 5
}
