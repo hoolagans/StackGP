{
 "cells": [
  {
   "cell_type": "markdown",
   "id": "c822f7f3",
   "metadata": {},
   "source": [
    "# StackGP System in Python\n",
    "## By: Nathan Haut\n",
    "\n",
    "### Implementation Notes\n",
    "\n",
    "This implementation evolves models of the form model = [operator Stack, Variable Constant Stack, ..., [QualityMetrics]].\n"
   ]
  },
  {
   "cell_type": "code",
   "execution_count": 1,
   "id": "b09dd8a1",
   "metadata": {},
   "outputs": [],
   "source": [
    "import random\n",
    "import matplotlib.pyplot as plt\n",
    "import numpy as np\n",
    "import math\n",
    "import copy\n",
    "from scipy.stats import pearsonr # for computing correlation\n",
    "from functools import reduce #for flattening lists\n",
    "from operator import concat  #for flattening lists\n",
    "import warnings\n",
    "import time\n",
    "warnings.filterwarnings('ignore', '.*invalid value.*' )\n",
    "warnings.filterwarnings('ignore', '.*overflow.*' )\n",
    "warnings.filterwarnings('ignore', '.*divide by.*' )\n",
    "warnings.filterwarnings('ignore', '.*is constant.*' )\n",
    "warnings.filterwarnings('ignore', '.*nearly constant.*' )\n",
    "warnings.filterwarnings('ignore', '.*Polyfit may be.*' )\n",
    "def protectDiv(a,b):\n",
    "    \n",
    "    if (type(b)==int or type(b)==float or type(b)==np.float64) and b==0:\n",
    "        return a/math.nan\n",
    "    if (type(b)==np.ndarray) and (0 in b):\n",
    "        return a/np.where(b==0,math.nan,b)\n",
    "    return a/b\n",
    "def add(a,b):\n",
    "    return a+b\n",
    "def sub(a,b):\n",
    "    return a-b\n",
    "def mult(a,b):\n",
    "    return a*b\n",
    "def exp(a):\n",
    "    return np.exp(a)\n",
    "# def sine(a,b):\n",
    "#     return np.sin(a)\n",
    "def power(a,b):\n",
    "    return a**b\n",
    "def sqrt(a):\n",
    "    return np.sqrt(a)\n",
    "def sqrd(a):\n",
    "    return a**2\n",
    "def inv(a):\n",
    "    return np.array(a).astype(float)**(-1)\n",
    "def sin(a):\n",
    "    return np.sin(a)\n",
    "def cos(a):\n",
    "    return np.cos(a)\n",
    "def tan(a):\n",
    "    return np.tan(a)\n",
    "def arccos(a):\n",
    "    return np.arccos(a)\n",
    "def arcsin(a):\n",
    "    return np.arcsin(a)\n",
    "def arctan(a):\n",
    "    return np.arctan(a)\n",
    "def tanh(a):\n",
    "    return np.tanh(a)\n",
    "def log(a):\n",
    "    np.log(a)\n",
    "\n",
    "\n",
    "\n",
    "\n",
    "\n",
    "def defaultOps():\n",
    "    return [protectDiv,add,sub,mult,exp,sqrd,sqrt,inv,\"pop\",\"pop\",\"pop\",\"pop\",\"pop\",\"pop\"]\n",
    "def allOps():\n",
    "    return [protectDiv,add,sub,mult,exp,sqrd,sqrt,inv,cos,sin,tan,arccos,arcsin,arctan,tanh,log,\"pop\",\"pop\",\"pop\",\"pop\",\"pop\",\"pop\",\"pop\",\"pop\",\"pop\",\"pop\"]\n",
    "def randomInt(a=-3,b=3):\n",
    "    return random.randint(a,b)\n",
    "def defaultConst():\n",
    "    return [np.pi, np.e, randomInt,ranReal ]\n",
    "def ranReal(a=20,b=-10):\n",
    "    return random.random()*a-b"
   ]
  },
  {
   "cell_type": "code",
   "execution_count": 2,
   "id": "71449c83-0dc2-45ef-9cf0-d971172b9e85",
   "metadata": {},
   "outputs": [],
   "source": [
    "import inspect\n",
    "def getArity(func): #Returns the arity of a function: used for model evaluations\n",
    "    if func==\"pop\":\n",
    "        return 1\n",
    "    return len(inspect.signature(func).parameters)\n",
    "\n",
    "getArity.__doc__ = \"getArity(func) takes a function and returns the function arity\"\n",
    "\n",
    "def modelArity(model): #Returns the total arity of a model\n",
    "    return 1+sum([getArity(i)-1 for i in model[0]])\n",
    "\n",
    "modelArity.__doc__ = \"modelArity(model) returns the total arity of a model\"\n",
    "\n",
    "def listArity(data): #Returns arity of evaluating a list of operators\n",
    "    if len(data)==0:\n",
    "        return 0\n",
    "    return 1+sum([getArity(i)-1 for i in data])\n",
    "\n",
    "listArity.__doc__ = \"listArity(list) returns the arity of evaluating a list of operators\"\n",
    "\n",
    "def buildEmptyModel(): # Generates an empty model\n",
    "    return [[],[],[]]\n",
    "\n",
    "buildEmptyModel.__doc__ = \"buildEmptyModel() takes no inputs and generates an empty GP model\"\n",
    "\n",
    "def variableSelect(num): #Function that creates a function to select a specific variable\n",
    "    return lambda variables: variables[num]\n",
    "\n",
    "variableSelect.__doc__ = \"variableSelect(n) is a function that creates a function to select the nth variable\"\n"
   ]
  },
  {
   "cell_type": "code",
   "execution_count": 3,
   "id": "649ffb92",
   "metadata": {},
   "outputs": [],
   "source": [
    "def generateRandomModel(variables,ops,const,maxLength):  #Generates a random GP model\n",
    "    prog = buildEmptyModel()                             #Generate an empty model with correct structure\n",
    "    varChoices=[variableSelect(i) for i in range(variables)]+const                           #All variable and constants choices\n",
    "    prog[0]=np.random.choice(ops,random.randint(1,maxLength)) #Choose random operators\n",
    "    countVars=modelArity(prog)    #Count how many variables/constants are needed\n",
    "    prog[1]=np.random.choice(varChoices,countVars)       #Choose random variables/constants\n",
    "    prog[1]=[i() if (callable(i) and i.__name__!='<lambda>' )else i for i in prog[1]] #If function then evaluate\n",
    "    return prog\n",
    "\n",
    "generateRandomModel.__doc__ = \"generateRandomModel() takes as input the variables, operators, constants, and max program length and returns a random program\"\n",
    "\n",
    "def initializeGPModels(variables,ops=defaultOps(),const=defaultConst(),numberOfModels=100,maxLength=10): # generate random linear program\n",
    "    prog=[[],[],[]]\n",
    "    # prog stores [Operators, VarConst, QualityMetrics]\n",
    "    \n",
    "    models=[generateRandomModel(variables,ops,const,maxLength) for i in range(numberOfModels)] #Generate models\n",
    "    \n",
    "    return models\n",
    "\n",
    "initializeGPModels.__doc__ = \"initializeGPModels(countOfVariables, operators, constants, numberOfModels=100, maxLength=10) returns a set of randomly generated models\"\n",
    "\n"
   ]
  },
  {
   "cell_type": "code",
   "execution_count": 79,
   "id": "869756cb-4b4d-42be-8146-0789e9211507",
   "metadata": {},
   "outputs": [],
   "source": [
    "def reverseList(data): #Returns a list reversed\n",
    "    return [i for i in reversed(data)]\n",
    "reverseList.__doc__ = \"reverseList(data) returns the data list reversed\"\n",
    "\n",
    "def varReplace(data,variables): #Replaces variable references with data during model evaluation\n",
    "    return [i(variables) if callable(i) else i for i in data]\n",
    "varReplace.__doc__ = \"varReplace(data,variables) replaces references to variables in data with actual values\"\n",
    "\n",
    "def inputLen(data): #Returns the number of data records in a data set\n",
    "    el1=data[0]\n",
    "    if type(el1)==list or type(el1)==np.ndarray:\n",
    "        return len(el1)\n",
    "    else:\n",
    "        return 1\n",
    "inputLen.__doc__ = \"inputLen(data) determines the number of data records in a data set\"\n",
    "\n",
    "def varCount(data): #Returns the number of variables in a data set\n",
    "    return len(data)\n",
    "varCount.__doc__ = \"varCount(data) determines the number of variables in a data set\"\n",
    "\n",
    "def evaluateGPModel(model,inputData): #Evaluates a model numerically\n",
    "    response=evModHelper(model[1],model[0],[],np.array(inputData).astype(float))[2][0]\n",
    "    if not type(response)==np.ndarray and inputLen(inputData)>1:\n",
    "        response=np.array([response for i in range(inputLen(inputData))])\n",
    "    return response\n",
    "evaluateGPModel.__doc__ = \"evaluateGPModel(model,data) numerically evaluates a model using the data stored in inputData\"\n",
    "\n",
    "def evModHelper(varStack,opStack,tempStack,data): #Recursive helper function for evaluateGPModel\n",
    "    stack1=varStack\n",
    "    stack2=opStack\n",
    "    stack3=tempStack\n",
    "    \n",
    "    if len(stack2)==0:\n",
    "        return [stack3,stack2,stack1]\n",
    "    op=stack2[0]\n",
    "    stack2=stack2[1:]\n",
    "    \n",
    "    if callable(op):\n",
    "        \n",
    "        patt=getArity(op)\n",
    "        while patt>len(stack3):\n",
    "            stack3=[stack1[0]]+stack3\n",
    "            stack1=stack1[1:]\n",
    "        temp=op(*varReplace(reverseList(stack3[:patt]),data))\n",
    "        stack3=stack3[patt:]\n",
    "        stack3=[temp]+stack3\n",
    "        \n",
    "    else:\n",
    "        if len(stack1)>0:\n",
    "            stack3=varReplace([stack1[0]],data)+stack3\n",
    "            stack1=stack1[1:]\n",
    "    if len(stack2)>0:\n",
    "        stack1,stack2,stack3=evModHelper(stack1,stack2,stack3,data)\n",
    "        \n",
    "    return [stack1,stack2,stack3]\n",
    "evModHelper.__doc__ = \"evModHelper(varStack,opStack,tempStack,data) is a helper function for evaluateGPModel\"\n",
    "\n",
    "def fitness(prog,data,response): # Fitness function using correlation\n",
    "    predicted=evaluateGPModel(prog,np.array(data))\n",
    "    if type(predicted)!=list and type(predicted)!=np.ndarray:\n",
    "        predicted=np.array([predicted for i in range(inputLen(data))])\n",
    "    if np.isnan(predicted).any() or np.isinf(predicted).any():\n",
    "        return math.nan\n",
    "    fit=1-pearsonr(predicted,np.array(response))[0]**2  # 1-R^2\n",
    "    if math.isnan(fit):\n",
    "        return 1 # If nan return 1 as fitness\n",
    "    return fit   # Else return actual fitness 1-R^2\n",
    "\n",
    "fitness.__doc__ = \"fitness(program,data,response) returns the 1-R^2 value of a model\"\n",
    "\n",
    "def stackGPModelComplexity(model,*args):\n",
    "    return len(model[0])+len(model[1])-model[0].tolist().count(\"pop\")\n",
    "\n",
    "stackGPModelComplexity.__doc__ = \"stackGPModelComplexity(model) returns the complexity of the model\"\n",
    "\n",
    "def setModelQuality(model,inputData,response,modelEvaluationMetrics=[fitness,stackGPModelComplexity]):\n",
    "    model[2]=[i(model,inputData,response) for i in modelEvaluationMetrics]\n",
    "    \n",
    "setModelQuality.__doc__ = \"setModelQuality(model, inputdata, response, metrics=[r2,size]) is an inplace operator that sets a models quality\"\n",
    "\n",
    "def stackPass(model,pt):\n",
    "    i=0\n",
    "    t=0\n",
    "    p=0\n",
    "    s=model[0]\n",
    "    if i <pt:\n",
    "        t+=1\n",
    "    while i<pt:\n",
    "        if s[i]==\"pop\":\n",
    "            t+=1\n",
    "            p+=1\n",
    "        else:\n",
    "            p+=max(0,getArity(s[i])-t)\n",
    "            t=max(1,t-getArity(s[i])+1)\n",
    "        i+=1\n",
    "    stack1=model[1][p:]\n",
    "    stack2=reverseList(model[1][:p])[:t+1]\n",
    "    return [stack1,stack2]\n",
    "\n",
    "def stackGrab(stack1, stack2, num):\n",
    "    tStack1=copy.deepcopy(stack1)\n",
    "    tStack2=copy.deepcopy(stack2)\n",
    "    newStack=[]\n",
    "    if len(stack2)<num:\n",
    "        newStack=stack2+stack1[:(num-len(stack2))]\n",
    "        tStack1=tStack1[num-len(tStack2):]\n",
    "        tStack2=[]\n",
    "    else:\n",
    "        newStack=stack2[:num]\n",
    "        tStack2=tStack2[num:]\n",
    "    return [newStack,tStack1,tStack2]\n",
    "\n",
    "def fragmentVariables(model,pts):\n",
    "    stack1,stack2=stackPass(model,pts[0])\n",
    "    opStack=model[0]\n",
    "    newStack=[]\n",
    "    i=pts[0]\n",
    "    while i<=pts[1]:\n",
    "        if opStack[i]==\"pop\" and len(stack1)>0:\n",
    "            stack2=[stack1[0]]+stack2\n",
    "            stack1=stack1[1:]\n",
    "        else:\n",
    "            if len(newStack)==0 and pts[0]==0:\n",
    "                tStack,stack1,stack2=stackGrab(stack1,stack2,getArity(opStack[i]))\n",
    "            else:\n",
    "                tStack,stack1,stack2=stackGrab(stack1,stack2,getArity(opStack[i])-1)\n",
    "            newStack=newStack+tStack\n",
    "        i+=1\n",
    "    return newStack\n",
    "                                            \n",
    "\n",
    "def recombination2pt(model1,model2): #2 point recombination\n",
    "    pts1=np.sort(random.sample(range(0,len(model1[0])+1),2))\n",
    "    pts2=np.sort(random.sample(range(0,len(model2[0])+1),2))\n",
    "    #pts1=[4,5]\n",
    "    #pts2=[2,4]\n",
    "    #pts1=[0,3]\n",
    "    #pts2=[1,3]\n",
    "    #print(pts1,pts2)\n",
    "    child1=buildEmptyModel()\n",
    "    child2=buildEmptyModel()\n",
    "    \n",
    "    parent1=copy.deepcopy(model1)\n",
    "    parent2=copy.deepcopy(model2)\n",
    "    parent1[0]=parent1[0].tolist()\n",
    "    parent2[0]=parent2[0].tolist()\n",
    "    \n",
    "    child1[0]=np.array(parent1[0][0:pts1[0]]+parent2[0][pts2[0]:pts2[1]]+parent1[0][pts1[1]:],dtype=object)\n",
    "    child2[0]=np.array(parent2[0][0:pts2[0]]+parent1[0][pts1[0]:pts1[1]]+parent2[0][pts2[1]:],dtype=object)\n",
    "        \n",
    "    varPts1=[listArity(parent1[0][:(pts1[0])])+0,listArity(parent2[0][:(pts2[0])])+0,listArity(parent2[0][pts2[0]:pts2[1]]),listArity(parent1[0][pts1[0]:pts1[1]])]\n",
    "    if pts1[0]==0:\n",
    "        varPts1[0]+=1\n",
    "    if pts2[0]==0:\n",
    "        varPts1[1]+=1\n",
    "    child1[1]=parent1[1][:varPts1[0]]+parent2[1][varPts1[1]:(varPts1[1]+varPts1[2]-1)]+parent1[1][(varPts1[0]+varPts1[3]-1):]\n",
    "    \n",
    "    varPts2=[listArity(parent2[0][:(pts2[0])])+0,listArity(parent1[0][:(pts1[0])])+0,listArity(parent1[0][pts1[0]:pts1[1]]),listArity(parent2[0][pts2[0]:pts2[1]])]\n",
    "    if pts1[0]==0:\n",
    "        varPts2[1]+=1\n",
    "    if pts2[0]==0:\n",
    "        varPts2[0]+=1\n",
    "    child2[1]=parent2[1][:varPts2[0]]+parent1[1][varPts2[1]:(varPts2[1]+varPts2[2]-1)]+parent2[1][(varPts2[0]+varPts2[3]-1):]\n",
    "    #print(varPts1,varPts2)\n",
    "    \n",
    "    return [child1,child2]\n",
    "\n",
    "recombination2pt.__doc__ = \"recombination2pt(model1,model2) does 2 point crossover and returns two children models\"\n",
    "\n",
    "def mutate(model,variables,ops=defaultOps(),const=defaultConst(),maxLength=10):\n",
    "    newModel=copy.deepcopy(model)\n",
    "    \n",
    "    mutationType=random.randint(0,4)\n",
    "    varChoices=[variableSelect(i) for i in range(variables)]+const\n",
    "    opChoice=0\n",
    "    varChoice=0\n",
    "    \n",
    "    tmp=0\n",
    "    \n",
    "    if mutationType==0:\n",
    "        opChoice=random.randint(0,len(newModel[0])-1)\n",
    "        if len(newModel[0])>0:\n",
    "            newModel[0][opChoice]=np.random.choice([i for i in ops if getArity(i)==getArity(newModel[0][opChoice])])\n",
    "               \n",
    "    elif mutationType==1:\n",
    "        varChoice=np.random.choice(varChoices)\n",
    "        if callable(varChoice) and varChoice.__name__!='<lambda>':\n",
    "            varChoice=varChoice()\n",
    "        newModel[1][random.randint(0,len(newModel[1])-1)]=varChoice\n",
    "        \n",
    "    elif mutationType==2:\n",
    "        if len(newModel[0])>1:\n",
    "            opChoice=random.randint(1,len(newModel[0])-1)\n",
    "            newModel[0]=newModel[0][:opChoice]\n",
    "            newModel[1]=newModel[1][:listArity(newModel[0])]\n",
    "            \n",
    "    elif mutationType==3:\n",
    "        opChoice=np.random.choice([i for i in ops if getArity(i)==1])\n",
    "        newModel[0]=np.insert(newModel[0],random.randint(0,len(newModel[0])),opChoice)\n",
    "        \n",
    "    elif mutationType==4:\n",
    "        newModel=recombination2pt(newModel,generateRandomModel(variables,ops,const,maxLength))[0]\n",
    "            \n",
    "    newModel[0]=np.array(newModel[0],dtype=object)\n",
    "    return newModel\n",
    "    \n",
    "mutate.__doc__ = \"mutate(model,variableCount,ops,constants,maxLength) mutates a model\"\n",
    "\n",
    "def paretoTournament(pop,data,response): # selects the Pareto front of a model set\n",
    "    pFront=[]\n",
    "    fitnesses=np.array([fitness(i,data,response) for i in pop])\n",
    "    complexities=np.array([stackGPModelComplexity(i) for i in pop])\n",
    "    fitSort=np.argsort(fitnesses)\n",
    "    cSort=np.argsort(complexities)\n",
    "    popFitSort=np.array(pop,dtype=object)[fitSort]\n",
    "    popCSort=np.array(pop,dtype=object)[cSort]\n",
    "    popFitCArgs=np.argsort([len(i) for i in popFitSort])\n",
    "    i=0\n",
    "    while len(popCSort)>0:\n",
    "        if popFitCArgs[i]<len(popCSort):\n",
    "            pFront.append(copy.deepcopy(popFitSort.tolist()[i]))\n",
    "            popCSort=np.array(popCSort)[:popFitCArgs[i]]\n",
    "        i+=1\n",
    "    [setModelQuality(i,data,response) for i in pFront]\n",
    "    return pFront\n",
    "\n",
    "def tournamentModelSelection(models, inputData,responseData,popSize=100,tourneySize=5):\n",
    "    selectedModels=[]\n",
    "    selectionSize=popSize\n",
    "    while len(selectedModels)<popSize:\n",
    "        tournament=random.sample(models,tourneySize)\n",
    "        winners=paretoTournament(tournament,inputData,responseData)\n",
    "        selectedModels=selectedModels+winners\n",
    "    \n",
    "    return selectedModels\n",
    "\n",
    "paretoTournament.__doc__ = \"paretoTournament(models, inputData, responseData) returns the Pareto front of a model set\"\n",
    "\n",
    "def modelSameQ(model1,model2): #Checks if two models are the same\n",
    "    return len(model1[0])==len(model2[0]) and len(model1[1]) == len(model2[1]) and all(model1[0]==model2[0]) and model1[1]==model2[1]\n",
    "\n",
    "modelSameQ.__doc__ = \"modelSameQ(model1,model2) checks if model1 and model2 are the same and returns True if so, else False\"\n",
    "\n",
    "\n",
    "def deleteDuplicateModels(models): #Removes any models that are the same, does not consider simplified form\n",
    "    uniqueMods = [models[0]]\n",
    "     \n",
    "    for mod in models:\n",
    "        test=False\n",
    "        for checkMod in uniqueMods:\n",
    "            if modelSameQ(mod,checkMod):\n",
    "                test=True\n",
    "        if not test:\n",
    "            uniqueMods.append(mod)\n",
    "    \n",
    "    return uniqueMods\n",
    "\n",
    "deleteDuplicateModels.__doc__ = \"deleteDuplicateModels(models) deletes models that have the same form without simplifying\"\n",
    "\n",
    "def removeIndeterminateModels(models): #Removes models from the population that evaluate to nonreal values\n",
    "    return [i for i in models if not any(np.isnan(i[2])) ]\n",
    "\n",
    "removeIndeterminateModels.__doc__ = \"removeIndeterminateModels(models) removes models that have a fitness that results from inf or nan values\"\n",
    "\n",
    "def sortModels(models):\n",
    "    return sorted(models, key=lambda m:m[2])\n",
    "\n",
    "def stackVarUsage(opStack): #Counts how many variables are used by the operator stack\n",
    "    pos=getArity(opStack[0])\n",
    "    for j in range(1,len(opStack)):\n",
    "        pos+=getArity(opStack[j])-1\n",
    "        if opStack[j]=='pop':\n",
    "            pos+=1\n",
    "    return pos\n",
    "\n",
    "def trimModel(mod): #Removes extra pop operators that do nothing\n",
    "    model=copy.deepcopy(mod)\n",
    "    i=1\n",
    "    while stackVarUsage(model[0][:i])<len(model[1]):\n",
    "        i+=1   \n",
    "    model[0]=np.array(model[0][:i].tolist()+[j for j in model[0][i:] if not j=='pop'],dtype=object)\n",
    "    return model\n",
    "\n",
    "def alignGPModel(model, data, response): #Aligns a model\n",
    "    prediction=evaluateGPModel(model,data)\n",
    "    if (not all(np.isfinite(np.array(prediction)))) or np.all(prediction==0):\n",
    "        return model\n",
    "    align=np.polyfit(prediction,response,1)\n",
    "    newModel=trimModel(model)\n",
    "    newModel[0]=np.array(newModel[0].tolist()+[mult,add])\n",
    "    newModel[1]=newModel[1]+align.tolist()\n",
    "    setModelQuality(newModel,data,response)\n",
    "    return newModel\n",
    "\n",
    "def evolve(inputData, responseData, generations=100, ops=defaultOps(), const=defaultConst(), variableNames=[], mutationRate=79, crossoverRate=11, spawnRate=10, extinction=False,extinctionRate=40,elitismRate=50,popSize=100,maxComplexity=100,align=True,initialPop=[],timeLimit=300,capTime=False,tourneySize=5):\n",
    "    \n",
    "    fullInput,fullResponse=copy.deepcopy(inputData),copy.deepcopy(responseData)\n",
    "    inData=copy.deepcopy(fullInput)\n",
    "    resData=copy.deepcopy(fullResponse)\n",
    "    variableCount=varCount(inData)\n",
    "    models=initializeGPModels(variableCount,ops,const,popSize)\n",
    "    startTime=time.perf_counter()\n",
    "    \n",
    "    for i in range(generations):\n",
    "        if capTime and time.perf_counter()-startTime>timeLimit:\n",
    "            break\n",
    "        \n",
    "        paretoModels=paretoTournament(models,inData,resData)\n",
    "        if extinction and i%extinctionRate:\n",
    "            models=initializeGPModels(variableCount,ops,const,popSize)\n",
    "        models=tournamentModelSelection(models,inData,resData,popSize,tourneySize)\n",
    "        \n",
    "        crossoverPairs=random.sample(models,round(crossoverRate/100*popSize))\n",
    "        toMutate=random.sample(models,round(mutationRate/100*popSize))\n",
    "        \n",
    "        childModels=paretoModels\n",
    "        \n",
    "        for j in range(round(len(crossoverPairs)/2)-1):\n",
    "            childModels=childModels+recombination2pt(crossoverPairs[j],crossoverPairs[j+round(len(crossoverPairs)/2)])\n",
    "        \n",
    "        for j in toMutate:\n",
    "            childModels=childModels+[mutate(j,variableCount,ops,const)]\n",
    "        \n",
    "        childModels=childModels+initializeGPModels(variableCount,ops,const,round(spawnRate/100*popSize))\n",
    "        \n",
    "        childModels=deleteDuplicateModels(childModels)\n",
    "        \n",
    "        for mods in childModels:\n",
    "            setModelQuality(mods,inData,resData)\n",
    "        childModels=removeIndeterminateModels(childModels)\n",
    "        \n",
    "        if len(childModels)<popSize:\n",
    "            childModels=childModels+initializeGPModels(variableCount,ops,const,popSize-len(childModels))\n",
    "        \n",
    "        models=copy.deepcopy(childModels)\n",
    "    \n",
    "    \n",
    "    for mods in models:\n",
    "        setModelQuality(mods,fullInput,fullResponse)\n",
    "    print(type(models))\n",
    "    print(len(models))\n",
    "    models=[trimModel(mod) for mod in models]\n",
    "    models=deleteDuplicateModels(models)\n",
    "    models=removeIndeterminateModels(models)\n",
    "    print(len(models))\n",
    "    models=sortModels(models)\n",
    "    if align:\n",
    "        models=[alignGPModel(mods,fullInput,fullResponse) for mods in models]\n",
    "    \n",
    "    return models\n",
    "    "
   ]
  },
  {
   "cell_type": "code",
   "execution_count": 12,
   "id": "9c9ac3d4-0336-44ea-bf27-4fb25f50bd3e",
   "metadata": {},
   "outputs": [],
   "source": [
    "inputData=np.array([[1,2,3,4],[6,5,4,3],[2,3,2,3]])\n",
    "response=inputData[0]*inputData[1]/inputData[2]+inputData[1]"
   ]
  },
  {
   "cell_type": "code",
   "execution_count": 13,
   "id": "d5671296-5a2a-4fcd-9ca4-a1bafe536783",
   "metadata": {},
   "outputs": [
    {
     "data": {
      "text/plain": [
       "4"
      ]
     },
     "execution_count": 13,
     "metadata": {},
     "output_type": "execute_result"
    }
   ],
   "source": [
    "inputLen(inputData)"
   ]
  },
  {
   "cell_type": "code",
   "execution_count": 78,
   "id": "39ab3a58-c60c-445f-a482-b691f592964d",
   "metadata": {},
   "outputs": [
    {
     "name": "stdout",
     "output_type": "stream",
     "text": [
      "<class 'list'>\n",
      "100\n",
      "100\n"
     ]
    }
   ],
   "source": [
    "evolvedMods=evolve(inputData,response)"
   ]
  },
  {
   "cell_type": "code",
   "execution_count": 204,
   "id": "e7ac1a94-1ecf-4da7-aece-a5f52f152045",
   "metadata": {},
   "outputs": [
    {
     "data": {
      "text/plain": [
       "array([1.91098129, 6.68780767, 7.17857395, 8.11122535])"
      ]
     },
     "execution_count": 204,
     "metadata": {},
     "output_type": "execute_result"
    }
   ],
   "source": [
    "evaluateGPModel(evolvedMods[0],inputData)"
   ]
  },
  {
   "cell_type": "code",
   "execution_count": 205,
   "id": "4c6871d9-6f67-4021-ac80-2ccee427e086",
   "metadata": {},
   "outputs": [
    {
     "data": {
      "text/plain": [
       "array([ 9.        ,  8.33333333, 10.        ,  7.        ])"
      ]
     },
     "execution_count": 205,
     "metadata": {},
     "output_type": "execute_result"
    }
   ],
   "source": [
    "response"
   ]
  },
  {
   "cell_type": "code",
   "execution_count": 55,
   "id": "5252481f-1e41-4488-887a-d8f653be870d",
   "metadata": {},
   "outputs": [
    {
     "data": {
      "text/plain": [
       "[list,\n",
       " list,\n",
       " list,\n",
       " list,\n",
       " list,\n",
       " list,\n",
       " list,\n",
       " list,\n",
       " list,\n",
       " list,\n",
       " list,\n",
       " list,\n",
       " list,\n",
       " list,\n",
       " list,\n",
       " list,\n",
       " list,\n",
       " list,\n",
       " list,\n",
       " list,\n",
       " list,\n",
       " list,\n",
       " list,\n",
       " list,\n",
       " list,\n",
       " list,\n",
       " list,\n",
       " list,\n",
       " list,\n",
       " list,\n",
       " list,\n",
       " list,\n",
       " list,\n",
       " list,\n",
       " list,\n",
       " list,\n",
       " list,\n",
       " list,\n",
       " list,\n",
       " list,\n",
       " list,\n",
       " list,\n",
       " list,\n",
       " list,\n",
       " list,\n",
       " list,\n",
       " list,\n",
       " list,\n",
       " list,\n",
       " list,\n",
       " list,\n",
       " list,\n",
       " list,\n",
       " list,\n",
       " list,\n",
       " list,\n",
       " list,\n",
       " list,\n",
       " list,\n",
       " list,\n",
       " list,\n",
       " list,\n",
       " list,\n",
       " list,\n",
       " list,\n",
       " list,\n",
       " list,\n",
       " list,\n",
       " list,\n",
       " list,\n",
       " list,\n",
       " list,\n",
       " list,\n",
       " list,\n",
       " list,\n",
       " list,\n",
       " list,\n",
       " list,\n",
       " list,\n",
       " list,\n",
       " list,\n",
       " list,\n",
       " list,\n",
       " list,\n",
       " list,\n",
       " list,\n",
       " list,\n",
       " list,\n",
       " list,\n",
       " list,\n",
       " list,\n",
       " list,\n",
       " list,\n",
       " list,\n",
       " list,\n",
       " list,\n",
       " list,\n",
       " list]"
      ]
     },
     "execution_count": 55,
     "metadata": {},
     "output_type": "execute_result"
    }
   ],
   "source": [
    "[type(i[1]) for i in evolvedMods]"
   ]
  },
  {
   "cell_type": "code",
   "execution_count": 52,
   "id": "df45f1eb-66c7-41ea-af89-7c54dfc48af3",
   "metadata": {},
   "outputs": [
    {
     "data": {
      "text/plain": [
       "[array(['pop', <function exp at 0x7fa4114f1700>,\n",
       "        <function exp at 0x7fa4114f1700>, 'pop',\n",
       "        <function sub at 0x7fa4114f15e0>, 'pop',\n",
       "        <function mult at 0x7fa4114f1670>, 'pop', 'pop', 'pop',\n",
       "        <function sqrt at 0x7fa4114f1820>, 'pop', 'pop', 'pop', 'pop',\n",
       "        'pop', <function sub at 0x7fa4114f15e0>,\n",
       "        <function mult at 0x7fa4114f1670>, 'pop',\n",
       "        <function sqrd at 0x7fa4114f18b0>, 'pop',\n",
       "        <function sub at 0x7fa4114f15e0>,\n",
       "        <function sqrd at 0x7fa4114f18b0>, 'pop',\n",
       "        <function sqrt at 0x7fa4114f1820>, 'pop', 'pop', 'pop',\n",
       "        <function sqrt at 0x7fa4114f1820>, 'pop', 'pop',\n",
       "        <function sqrd at 0x7fa4114f18b0>,\n",
       "        <function protectDiv at 0x7fa410c6ce50>], dtype=object),\n",
       " [0,\n",
       "  <function __main__.variableSelect.<locals>.<lambda>(variables)>,\n",
       "  3.141592653589793,\n",
       "  <function __main__.variableSelect.<locals>.<lambda>(variables)>,\n",
       "  2.718281828459045,\n",
       "  <function __main__.variableSelect.<locals>.<lambda>(variables)>,\n",
       "  <function __main__.variableSelect.<locals>.<lambda>(variables)>],\n",
       " [5.432426908247301e-05, 21]]"
      ]
     },
     "execution_count": 52,
     "metadata": {},
     "output_type": "execute_result"
    }
   ],
   "source": [
    "evolvedMods[1]"
   ]
  },
  {
   "cell_type": "code",
   "execution_count": 67,
   "id": "c6f0b27d-e5fd-4c12-82be-5a02aec712c8",
   "metadata": {},
   "outputs": [
    {
     "data": {
      "text/plain": [
       "95"
      ]
     },
     "execution_count": 67,
     "metadata": {},
     "output_type": "execute_result"
    }
   ],
   "source": [
    "len(evolvedMods)"
   ]
  },
  {
   "cell_type": "code",
   "execution_count": 59,
   "id": "9efcb956-aceb-4262-b27b-8170407a8ce5",
   "metadata": {},
   "outputs": [],
   "source": [
    "eMods=[alignGPModel(mods,inputData,response) for mods in evolvedMods]"
   ]
  },
  {
   "cell_type": "code",
   "execution_count": 68,
   "id": "15476e61-e2f3-477e-b196-a02c282514cf",
   "metadata": {},
   "outputs": [],
   "source": [
    "evolvedMods=sortModels(evolvedMods)"
   ]
  },
  {
   "cell_type": "code",
   "execution_count": 60,
   "id": "702668a9-42ae-433c-a1bb-1c2bfdcfefbf",
   "metadata": {},
   "outputs": [
    {
     "data": {
      "text/plain": [
       "98"
      ]
     },
     "execution_count": 60,
     "metadata": {},
     "output_type": "execute_result"
    }
   ],
   "source": [
    "len(eMods)"
   ]
  },
  {
   "cell_type": "code",
   "execution_count": 61,
   "id": "b02e0217-916e-44ea-bd0a-f1ad60dc5be9",
   "metadata": {},
   "outputs": [
    {
     "data": {
      "text/plain": [
       "94"
      ]
     },
     "execution_count": 61,
     "metadata": {},
     "output_type": "execute_result"
    }
   ],
   "source": [
    "len(deleteDuplicateModels(eMods))"
   ]
  },
  {
   "cell_type": "code",
   "execution_count": 69,
   "id": "4cda0f32-9bbb-4652-8fed-63138b259808",
   "metadata": {},
   "outputs": [],
   "source": [
    "evolvedMods=deleteDuplicateModels(evolvedMods)\n",
    "evolvedMods=removeIndeterminateModels(evolvedMods)"
   ]
  },
  {
   "cell_type": "code",
   "execution_count": 70,
   "id": "242a8b14-02d7-4e40-82b0-2124fe811a2f",
   "metadata": {},
   "outputs": [
    {
     "data": {
      "text/plain": [
       "95"
      ]
     },
     "execution_count": 70,
     "metadata": {},
     "output_type": "execute_result"
    }
   ],
   "source": [
    "len(evolvedMods)"
   ]
  },
  {
   "cell_type": "code",
   "execution_count": 28,
   "id": "dc2029ed-c012-43c5-80b7-eaeec4800f97",
   "metadata": {},
   "outputs": [
    {
     "data": {
      "text/plain": [
       "[[array([<function sub at 0x7fa4114f15e0>,\n",
       "         <function protectDiv at 0x7fa410c6ce50>, 'pop', 'pop',\n",
       "         <function sqrd at 0x7fa4114f18b0>,\n",
       "         <function sqrt at 0x7fa4114f1820>,\n",
       "         <function sqrt at 0x7fa4114f1820>,\n",
       "         <function inv at 0x7fa4114f1940>,\n",
       "         <function sqrt at 0x7fa4114f1820>,\n",
       "         <function add at 0x7fa43059c3a0>,\n",
       "         <function sqrd at 0x7fa4114f18b0>,\n",
       "         <function sqrd at 0x7fa4114f18b0>,\n",
       "         <function protectDiv at 0x7fa410c6ce50>,\n",
       "         <function mult at 0x7fa4114f1670>,\n",
       "         <function add at 0x7fa43059c3a0>,\n",
       "         <function mult at 0x7fa4114f1670>,\n",
       "         <function add at 0x7fa43059c3a0>], dtype=object),\n",
       "  [2.718281828459045,\n",
       "   <function __main__.variableSelect.<locals>.<lambda>(variables)>,\n",
       "   <function __main__.variableSelect.<locals>.<lambda>(variables)>,\n",
       "   -1,\n",
       "   <function __main__.variableSelect.<locals>.<lambda>(variables)>,\n",
       "   0.05697755907280776,\n",
       "   8.604145400648934,\n",
       "   0.9999999999999998,\n",
       "   8.881784197001252e-16],\n",
       "  [2.0283274320020972e-05, 24]]]"
      ]
     },
     "execution_count": 28,
     "metadata": {},
     "output_type": "execute_result"
    }
   ],
   "source": [
    "models=[evolvedMods[0],evolvedMods[0]]\n",
    "deleteDuplicateModels(models)"
   ]
  },
  {
   "cell_type": "code",
   "execution_count": 5,
   "id": "ee2817ab",
   "metadata": {},
   "outputs": [],
   "source": [
    "varConst=data\n",
    "varConst[len(varConst):]=[-2,-1,1,2]\n",
    "population=[randomProg(varConst) for i in range(100)]"
   ]
  },
  {
   "cell_type": "code",
   "execution_count": 169,
   "id": "f1de72dd",
   "metadata": {},
   "outputs": [
    {
     "data": {
      "text/plain": [
       "[1,\n",
       " 0.42916289534355356,\n",
       " 1,\n",
       " 0.42916289534355356,\n",
       " 1,\n",
       " 1,\n",
       " 1,\n",
       " 1,\n",
       " 1,\n",
       " 1,\n",
       " 0.4661603613460591,\n",
       " 1,\n",
       " 1,\n",
       " 1,\n",
       " 1,\n",
       " 0.42916289534355356,\n",
       " 1,\n",
       " 0.9384702569967172,\n",
       " 0.42916289534355356,\n",
       " 0.42916289534355356,\n",
       " 1,\n",
       " 0.42916289534355356,\n",
       " 1,\n",
       " 1,\n",
       " 0.42916289534355356,\n",
       " 1,\n",
       " 0.42916289534355356,\n",
       " 1.0,\n",
       " 1,\n",
       " 1,\n",
       " 0.42916289534355345,\n",
       " 1,\n",
       " 1,\n",
       " 1,\n",
       " 1,\n",
       " 1,\n",
       " 1,\n",
       " 1,\n",
       " 1,\n",
       " 0.42916289534355356,\n",
       " 1,\n",
       " 0.42916289534355356,\n",
       " 0.42916289534355356,\n",
       " 0.42916289534355356,\n",
       " 0.42916289534355356,\n",
       " 1,\n",
       " 1,\n",
       " 1,\n",
       " 0.42916289534355356,\n",
       " 1,\n",
       " 0.42916289534355356,\n",
       " 1,\n",
       " 1,\n",
       " 0.9384702569967172,\n",
       " 1,\n",
       " 0.42916289534355356,\n",
       " 1,\n",
       " 0.42916289534355356,\n",
       " 1,\n",
       " 1,\n",
       " 1,\n",
       " 1,\n",
       " 1,\n",
       " 0.9384702569967172,\n",
       " 1,\n",
       " 1,\n",
       " 0.9894315264306945,\n",
       " 1,\n",
       " 1,\n",
       " 1,\n",
       " 0.42916289534355356,\n",
       " 1,\n",
       " 0.42916289534355356,\n",
       " 0.42916289534355356,\n",
       " 1,\n",
       " 1,\n",
       " 1,\n",
       " 1,\n",
       " 1,\n",
       " 1,\n",
       " 1,\n",
       " 1,\n",
       " 1,\n",
       " 0.9384702569967172,\n",
       " 1,\n",
       " 0.42916289534355356,\n",
       " 1,\n",
       " 0.9384702569967172,\n",
       " 0.4661603613460591,\n",
       " 1,\n",
       " 0.42916289534355356,\n",
       " 1,\n",
       " 1,\n",
       " 1,\n",
       " 0.42916289534355356,\n",
       " 1,\n",
       " 1,\n",
       " 0.42916289534355356,\n",
       " 1,\n",
       " 1]"
      ]
     },
     "execution_count": 169,
     "metadata": {},
     "output_type": "execute_result"
    }
   ],
   "source": [
    "[fitness(i,varConst,response) for i in population]"
   ]
  },
  {
   "cell_type": "code",
   "execution_count": 4,
   "id": "188e82f6",
   "metadata": {},
   "outputs": [
    {
     "name": "stderr",
     "output_type": "stream",
     "text": [
      "/Users/nathanhaut/opt/anaconda3/lib/python3.8/site-packages/scipy/stats/stats.py:4023: PearsonRConstantInputWarning: An input array is constant; the correlation coefficient is not defined.\n",
      "  warnings.warn(PearsonRConstantInputWarning())\n",
      "/Users/nathanhaut/opt/anaconda3/lib/python3.8/site-packages/scipy/stats/stats.py:4053: PearsonRNearConstantInputWarning: An input array is nearly constant; the computed correlation coefficient may be inaccurate.\n",
      "  warnings.warn(PearsonRNearConstantInputWarning())\n"
     ]
    },
    {
     "data": {
      "image/png": "[encoded data removed]",
      "text/plain": [
       "<Figure size 432x288 with 1 Axes>"
      ]
     },
     "metadata": {
      "needs_background": "light"
     },
     "output_type": "display_data"
    }
   ],
   "source": [
    "best,trash=paretoEvolve(data,response)"
   ]
  },
  {
   "cell_type": "code",
   "execution_count": 15,
   "id": "c236da50",
   "metadata": {},
   "outputs": [
    {
     "data": {
      "text/plain": [
       "[array([0.        , 0.12822827, 0.25645654, 0.38468481, 0.51291309,\n",
       "        0.64114136, 0.76936963, 0.8975979 , 1.02582617, 1.15405444,\n",
       "        1.28228272, 1.41051099, 1.53873926, 1.66696753, 1.7951958 ,\n",
       "        1.92342407, 2.05165235, 2.17988062, 2.30810889, 2.43633716,\n",
       "        2.56456543, 2.6927937 , 2.82102197, 2.94925025, 3.07747852,\n",
       "        3.20570679, 3.33393506, 3.46216333, 3.5903916 , 3.71861988,\n",
       "        3.84684815, 3.97507642, 4.10330469, 4.23153296, 4.35976123,\n",
       "        4.48798951, 4.61621778, 4.74444605, 4.87267432, 5.00090259,\n",
       "        5.12913086, 5.25735913, 5.38558741, 5.51381568, 5.64204395,\n",
       "        5.77027222, 5.89850049, 6.02672876, 6.15495704, 6.28318531]),\n",
       " -2,\n",
       " -1,\n",
       " 1,\n",
       " 2]"
      ]
     },
     "execution_count": 15,
     "metadata": {},
     "output_type": "execute_result"
    }
   ],
   "source": [
    "varConst"
   ]
  },
  {
   "cell_type": "code",
   "execution_count": 3,
   "id": "7768b5f4",
   "metadata": {},
   "outputs": [
    {
     "ename": "NameError",
     "evalue": "name 'best' is not defined",
     "output_type": "error",
     "traceback": [
      "\u001b[0;31m---------------------------------------------------------------------------\u001b[0m",
      "\u001b[0;31mNameError\u001b[0m                                 Traceback (most recent call last)",
      "\u001b[0;32m/var/folders/2p/7dh9_xc97631hpy5tktgs__00000gn/T/ipykernel_40421/468596670.py\u001b[0m in \u001b[0;36m<module>\u001b[0;34m\u001b[0m\n\u001b[1;32m      1\u001b[0m \u001b[0mvarConst\u001b[0m\u001b[0;34m=\u001b[0m\u001b[0;34m[\u001b[0m\u001b[0mdata\u001b[0m\u001b[0;34m[\u001b[0m\u001b[0;36m0\u001b[0m\u001b[0;34m]\u001b[0m\u001b[0;34m,\u001b[0m\u001b[0;34m-\u001b[0m\u001b[0;36m2\u001b[0m\u001b[0;34m,\u001b[0m\u001b[0;34m-\u001b[0m\u001b[0;36m1\u001b[0m\u001b[0;34m,\u001b[0m\u001b[0;36m1\u001b[0m\u001b[0;34m,\u001b[0m\u001b[0;36m2\u001b[0m\u001b[0;34m]\u001b[0m\u001b[0;34m\u001b[0m\u001b[0;34m\u001b[0m\u001b[0m\n\u001b[0;32m----> 2\u001b[0;31m \u001b[0mevalProg\u001b[0m\u001b[0;34m(\u001b[0m\u001b[0mbest\u001b[0m\u001b[0;34m,\u001b[0m\u001b[0mvarConst\u001b[0m\u001b[0;34m)\u001b[0m\u001b[0;34m\u001b[0m\u001b[0;34m\u001b[0m\u001b[0m\n\u001b[0m",
      "\u001b[0;31mNameError\u001b[0m: name 'best' is not defined"
     ]
    }
   ],
   "source": [
    "varConst=[data[0],-2,-1,1,2]\n",
    "evalProg(best,varConst)"
   ]
  },
  {
   "cell_type": "code",
   "execution_count": 14,
   "id": "65efedd0",
   "metadata": {},
   "outputs": [
    {
     "data": {
      "text/plain": [
       "<matplotlib.collections.PathCollection at 0x7fe5011d2130>"
      ]
     },
     "execution_count": 14,
     "metadata": {},
     "output_type": "execute_result"
    },
    {
     "data": {
      "image/png": "[encoded data removed]",
      "text/plain": [
       "<Figure size 432x288 with 1 Axes>"
      ]
     },
     "metadata": {
      "needs_background": "light"
     },
     "output_type": "display_data"
    }
   ],
   "source": [
    "align=alignModel(best,varConst,response)\n",
    "plt.scatter(data[0],response)\n",
    "plt.scatter(data[0],alignedEvalProg(best,varConst,align))"
   ]
  },
  {
   "cell_type": "code",
   "execution_count": 132,
   "id": "885ebb9d",
   "metadata": {},
   "outputs": [
    {
     "data": {
      "text/plain": [
       "[[[0, 2, 8, 5],\n",
       "  [1, 0, 6, 11],\n",
       "  [1, 2, 9, 10],\n",
       "  [1, 2, 10, 4],\n",
       "  [1, 0, 10, 11],\n",
       "  [1, 3, 3, 10],\n",
       "  [1, 3, 12, 5],\n",
       "  [0, 0, 9, 4],\n",
       "  [1, 1, 8, 5],\n",
       "  [1, 0, 9, 0],\n",
       "  [1, 1, 12, 0],\n",
       "  [1, 1, 0, 8],\n",
       "  [0, 2, 6, 12]],\n",
       " [[1, 1, 4, 1],\n",
       "  [1, 0, 3, 12],\n",
       "  [1, 3, 3, 8],\n",
       "  [0, 0, 6, 6],\n",
       "  [1, 0, 6, 12],\n",
       "  [1, 3, 3, 7],\n",
       "  [1, 0, 8, 1],\n",
       "  [1, 2, 9, 7],\n",
       "  [1, 1, 12, 9],\n",
       "  [1, 3, 12, 6],\n",
       "  [1, 0, 11, 5],\n",
       "  [1, 3, 6, 3],\n",
       "  [0, 3, 1, 10],\n",
       "  [0, 2, 4, 2],\n",
       "  [0, 2, 8, 0],\n",
       "  [0, 3, 3, 4],\n",
       "  [1, 1, 12, 12],\n",
       "  [0, 3, 10, 11],\n",
       "  [0, 2, 4, 1],\n",
       "  [0, 3, 4, 10],\n",
       "  [1, 3, 5, 11],\n",
       "  [1, 3, 3, 11],\n",
       "  [1, 3, 3, 0],\n",
       "  [1, 1, 12, 6],\n",
       "  [1, 3, 5, 9],\n",
       "  [0, 2, 0, 6],\n",
       "  [0, 1, 12, 5],\n",
       "  [1, 3, 12, 4],\n",
       "  [1, 3, 3, 12],\n",
       "  [1, 3, 4, 2],\n",
       "  [0, 0, 8, 3],\n",
       "  [1, 1, 10, 2],\n",
       "  [1, 1, 9, 1],\n",
       "  [1, 2, 0, 4],\n",
       "  [1, 2, 3, 2],\n",
       "  [0, 0, 7, 10],\n",
       "  [0, 2, 0, 10],\n",
       "  [0, 2, 11, 3],\n",
       "  [0, 3, 6, 10],\n",
       "  [0, 2, 8, 0],\n",
       "  [0, 1, 9, 11],\n",
       "  [1, 3, 11, 5],\n",
       "  [1, 2, 9, 6],\n",
       "  [1, 1, 4, 0],\n",
       "  [0, 1, 10, 9],\n",
       "  [0, 2, 2, 12],\n",
       "  [0, 0, 6, 10],\n",
       "  [1, 3, 7, 5],\n",
       "  [1, 1, 3, 8],\n",
       "  [0, 1, 4, 4],\n",
       "  [1, 0, 12, 0]],\n",
       " [[0, 2, 10, 1],\n",
       "  [1, 1, 6, 2],\n",
       "  [0, 2, 11, 0],\n",
       "  [1, 2, 8, 11],\n",
       "  [0, 3, 12, 7],\n",
       "  [0, 0, 1, 4],\n",
       "  [1, 2, 8, 10],\n",
       "  [1, 2, 5, 6],\n",
       "  [0, 1, 0, 8],\n",
       "  [1, 3, 7, 4],\n",
       "  [0, 3, 12, 7],\n",
       "  [1, 1, 2, 9],\n",
       "  [0, 1, 4, 4],\n",
       "  [0, 3, 9, 5],\n",
       "  [1, 0, 0, 8],\n",
       "  [0, 1, 12, 11],\n",
       "  [1, 1, 1, 1],\n",
       "  [0, 0, 3, 6],\n",
       "  [0, 0, 1, 10],\n",
       "  [0, 0, 12, 3],\n",
       "  [1, 2, 2, 11],\n",
       "  [1, 0, 1, 7],\n",
       "  [1, 2, 0, 10],\n",
       "  [0, 1, 4, 2],\n",
       "  [0, 0, 1, 1],\n",
       "  [1, 1, 7, 1],\n",
       "  [0, 0, 7, 9],\n",
       "  [0, 0, 9, 4],\n",
       "  [1, 2, 10, 6],\n",
       "  [0, 3, 3, 5],\n",
       "  [1, 1, 5, 2],\n",
       "  [1, 3, 3, 11],\n",
       "  [1, 0, 4, 12],\n",
       "  [1, 2, 2, 2],\n",
       "  [1, 3, 12, 0],\n",
       "  [1, 1, 11, 8],\n",
       "  [0, 3, 9, 4],\n",
       "  [1, 1, 8, 11],\n",
       "  [0, 2, 4, 4],\n",
       "  [0, 2, 0, 5],\n",
       "  [0, 2, 6, 3],\n",
       "  [0, 0, 11, 11],\n",
       "  [0, 2, 12, 11],\n",
       "  [0, 3, 3, 6],\n",
       "  [1, 2, 10, 4],\n",
       "  [0, 0, 11, 6]]]"
      ]
     },
     "execution_count": 132,
     "metadata": {},
     "output_type": "execute_result"
    }
   ],
   "source": [
    "paretoTournament(population,varConst,response)"
   ]
  },
  {
   "cell_type": "code",
   "execution_count": 74,
   "id": "92ce5504",
   "metadata": {},
   "outputs": [
    {
     "data": {
      "image/png": "[encoded data removed]",
      "text/plain": [
       "<Figure size 432x288 with 1 Axes>"
      ]
     },
     "metadata": {
      "needs_background": "light"
     },
     "output_type": "display_data"
    }
   ],
   "source": [
    "best,pop=evolve(data,response)"
   ]
  },
  {
   "cell_type": "code",
   "execution_count": 77,
   "id": "3f840a40",
   "metadata": {},
   "outputs": [
    {
     "name": "stdout",
     "output_type": "stream",
     "text": [
      "0.18704928151673905\n",
      "26\n"
     ]
    }
   ],
   "source": [
    "print(fitness(best,data,response))\n",
    "print(len(best))"
   ]
  },
  {
   "cell_type": "code",
   "execution_count": 76,
   "id": "cd749234",
   "metadata": {},
   "outputs": [
    {
     "data": {
      "text/plain": [
       "<matplotlib.collections.PathCollection at 0x7f9c21715970>"
      ]
     },
     "execution_count": 76,
     "metadata": {},
     "output_type": "execute_result"
    },
    {
     "data": {
      "image/png": "[encoded data removed]",
      "text/plain": [
       "<Figure size 432x288 with 1 Axes>"
      ]
     },
     "metadata": {
      "needs_background": "light"
     },
     "output_type": "display_data"
    }
   ],
   "source": [
    "align=alignModel(best,data,response)\n",
    "plt.scatter(data,response)\n",
    "plt.scatter(data,alignedEvalProg(best,data,align))"
   ]
  },
  {
   "cell_type": "markdown",
   "id": "8c706d77",
   "metadata": {},
   "source": [
    "## Evolve using Pareto tournaments"
   ]
  },
  {
   "cell_type": "code",
   "execution_count": 16,
   "id": "30587c6c",
   "metadata": {},
   "outputs": [
    {
     "data": {
      "image/png": "[encoded data removed]",
      "text/plain": [
       "<Figure size 432x288 with 1 Axes>"
      ]
     },
     "metadata": {
      "needs_background": "light"
     },
     "output_type": "display_data"
    },
    {
     "name": "stdout",
     "output_type": "stream",
     "text": [
      "0.27469284795522186\n"
     ]
    }
   ],
   "source": [
    "best,pop=paretoEvolve(data,response)\n",
    "print(fitness(best,varConst,response))"
   ]
  },
  {
   "cell_type": "code",
   "execution_count": 17,
   "id": "496f5602",
   "metadata": {},
   "outputs": [
    {
     "data": {
      "text/plain": [
       "[array([0.        , 0.12822827, 0.25645654, 0.38468481, 0.51291309,\n",
       "        0.64114136, 0.76936963, 0.8975979 , 1.02582617, 1.15405444,\n",
       "        1.28228272, 1.41051099, 1.53873926, 1.66696753, 1.7951958 ,\n",
       "        1.92342407, 2.05165235, 2.17988062, 2.30810889, 2.43633716,\n",
       "        2.56456543, 2.6927937 , 2.82102197, 2.94925025, 3.07747852,\n",
       "        3.20570679, 3.33393506, 3.46216333, 3.5903916 , 3.71861988,\n",
       "        3.84684815, 3.97507642, 4.10330469, 4.23153296, 4.35976123,\n",
       "        4.48798951, 4.61621778, 4.74444605, 4.87267432, 5.00090259,\n",
       "        5.12913086, 5.25735913, 5.38558741, 5.51381568, 5.64204395,\n",
       "        5.77027222, 5.89850049, 6.02672876, 6.15495704, 6.28318531]),\n",
       " -2,\n",
       " -1,\n",
       " 1,\n",
       " 2]"
      ]
     },
     "execution_count": 17,
     "metadata": {},
     "output_type": "execute_result"
    }
   ],
   "source": [
    "varConst"
   ]
  },
  {
   "cell_type": "code",
   "execution_count": 18,
   "id": "5163c8d1",
   "metadata": {},
   "outputs": [
    {
     "name": "stdout",
     "output_type": "stream",
     "text": [
      "0.27469284795522186\n",
      "35\n"
     ]
    }
   ],
   "source": [
    "print(fitness(best,varConst,response))\n",
    "print(len(best))"
   ]
  },
  {
   "cell_type": "code",
   "execution_count": 21,
   "id": "d99a540c",
   "metadata": {},
   "outputs": [
    {
     "data": {
      "text/plain": [
       "<matplotlib.collections.PathCollection at 0x7fe50096ff10>"
      ]
     },
     "execution_count": 21,
     "metadata": {},
     "output_type": "execute_result"
    },
    {
     "data": {
      "image/png": "[encoded data removed]",
      "text/plain": [
       "<Figure size 432x288 with 1 Axes>"
      ]
     },
     "metadata": {
      "needs_background": "light"
     },
     "output_type": "display_data"
    }
   ],
   "source": [
    "align=alignModel(best,varConst,response)\n",
    "plt.scatter(data,response)\n",
    "plt.scatter(data,alignedEvalProg(best,varConst,align))"
   ]
  },
  {
   "cell_type": "code",
   "execution_count": 23,
   "id": "615ed268",
   "metadata": {},
   "outputs": [
    {
     "data": {
      "image/png": "[encoded data removed]",
      "text/plain": [
       "<Figure size 432x288 with 1 Axes>"
      ]
     },
     "metadata": {
      "needs_background": "light"
     },
     "output_type": "display_data"
    },
    {
     "ename": "IndexError",
     "evalue": "list index out of range",
     "output_type": "error",
     "traceback": [
      "\u001b[0;31m---------------------------------------------------------------------------\u001b[0m",
      "\u001b[0;31mIndexError\u001b[0m                                Traceback (most recent call last)",
      "\u001b[0;32m/var/folders/2p/7dh9_xc97631hpy5tktgs__00000gn/T/ipykernel_27100/901354772.py\u001b[0m in \u001b[0;36m<module>\u001b[0;34m\u001b[0m\n\u001b[1;32m      1\u001b[0m \u001b[0mbest\u001b[0m\u001b[0;34m,\u001b[0m\u001b[0mpop\u001b[0m\u001b[0;34m=\u001b[0m\u001b[0mparetoEvolve\u001b[0m\u001b[0;34m(\u001b[0m\u001b[0mdata\u001b[0m\u001b[0;34m,\u001b[0m\u001b[0mresponse\u001b[0m\u001b[0;34m,\u001b[0m\u001b[0mgenerations\u001b[0m\u001b[0;34m=\u001b[0m\u001b[0;36m600\u001b[0m\u001b[0;34m)\u001b[0m\u001b[0;34m\u001b[0m\u001b[0;34m\u001b[0m\u001b[0m\n\u001b[0;32m----> 2\u001b[0;31m \u001b[0mprint\u001b[0m\u001b[0;34m(\u001b[0m\u001b[0mfitness\u001b[0m\u001b[0;34m(\u001b[0m\u001b[0mbest\u001b[0m\u001b[0;34m,\u001b[0m\u001b[0mdata\u001b[0m\u001b[0;34m,\u001b[0m\u001b[0mresponse\u001b[0m\u001b[0;34m)\u001b[0m\u001b[0;34m)\u001b[0m\u001b[0;34m\u001b[0m\u001b[0;34m\u001b[0m\u001b[0m\n\u001b[0m",
      "\u001b[0;32m/var/folders/2p/7dh9_xc97631hpy5tktgs__00000gn/T/ipykernel_27100/2616833655.py\u001b[0m in \u001b[0;36mfitness\u001b[0;34m(prog, data, response)\u001b[0m\n\u001b[1;32m     61\u001b[0m \u001b[0;34m\u001b[0m\u001b[0m\n\u001b[1;32m     62\u001b[0m \u001b[0;32mdef\u001b[0m \u001b[0mfitness\u001b[0m\u001b[0;34m(\u001b[0m\u001b[0mprog\u001b[0m\u001b[0;34m,\u001b[0m\u001b[0mdata\u001b[0m\u001b[0;34m,\u001b[0m\u001b[0mresponse\u001b[0m\u001b[0;34m)\u001b[0m\u001b[0;34m:\u001b[0m \u001b[0;31m# Fitness function using correlation\u001b[0m\u001b[0;34m\u001b[0m\u001b[0;34m\u001b[0m\u001b[0m\n\u001b[0;32m---> 63\u001b[0;31m     \u001b[0mfit\u001b[0m\u001b[0;34m=\u001b[0m\u001b[0;36m1\u001b[0m\u001b[0;34m-\u001b[0m\u001b[0mpearsonr\u001b[0m\u001b[0;34m(\u001b[0m\u001b[0mevalProg\u001b[0m\u001b[0;34m(\u001b[0m\u001b[0mprog\u001b[0m\u001b[0;34m,\u001b[0m\u001b[0mdata\u001b[0m\u001b[0;34m)\u001b[0m\u001b[0;34m,\u001b[0m\u001b[0mresponse\u001b[0m\u001b[0;34m)\u001b[0m\u001b[0;34m[\u001b[0m\u001b[0;36m0\u001b[0m\u001b[0;34m]\u001b[0m\u001b[0;34m**\u001b[0m\u001b[0;36m2\u001b[0m  \u001b[0;31m# 1-R^2\u001b[0m\u001b[0;34m\u001b[0m\u001b[0;34m\u001b[0m\u001b[0m\n\u001b[0m\u001b[1;32m     64\u001b[0m     \u001b[0;32mif\u001b[0m \u001b[0mmath\u001b[0m\u001b[0;34m.\u001b[0m\u001b[0misnan\u001b[0m\u001b[0;34m(\u001b[0m\u001b[0mfit\u001b[0m\u001b[0;34m)\u001b[0m\u001b[0;34m:\u001b[0m\u001b[0;34m\u001b[0m\u001b[0;34m\u001b[0m\u001b[0m\n\u001b[1;32m     65\u001b[0m         \u001b[0;32mreturn\u001b[0m \u001b[0;36m1\u001b[0m \u001b[0;31m# If nan return 1 as fitness\u001b[0m\u001b[0;34m\u001b[0m\u001b[0;34m\u001b[0m\u001b[0m\n",
      "\u001b[0;32m/var/folders/2p/7dh9_xc97631hpy5tktgs__00000gn/T/ipykernel_27100/2616833655.py\u001b[0m in \u001b[0;36mevalProg\u001b[0;34m(prog, data)\u001b[0m\n\u001b[1;32m     54\u001b[0m                     \u001b[0mtmp\u001b[0m \u001b[0;34m=\u001b[0m \u001b[0mops\u001b[0m\u001b[0;34m[\u001b[0m\u001b[0mi\u001b[0m\u001b[0;34m[\u001b[0m\u001b[0;36m1\u001b[0m\u001b[0;34m]\u001b[0m\u001b[0;34m]\u001b[0m\u001b[0;34m(\u001b[0m\u001b[0mtmp\u001b[0m\u001b[0;34m,\u001b[0m\u001b[0mtmp\u001b[0m\u001b[0;34m)\u001b[0m\u001b[0;34m\u001b[0m\u001b[0;34m\u001b[0m\u001b[0m\n\u001b[1;32m     55\u001b[0m                 \u001b[0;32melse\u001b[0m\u001b[0;34m:\u001b[0m\u001b[0;34m\u001b[0m\u001b[0;34m\u001b[0m\u001b[0m\n\u001b[0;32m---> 56\u001b[0;31m                     \u001b[0mtmp\u001b[0m \u001b[0;34m=\u001b[0m \u001b[0mops\u001b[0m\u001b[0;34m[\u001b[0m\u001b[0mi\u001b[0m\u001b[0;34m[\u001b[0m\u001b[0;36m1\u001b[0m\u001b[0;34m]\u001b[0m\u001b[0;34m]\u001b[0m\u001b[0;34m(\u001b[0m\u001b[0mvarConst\u001b[0m\u001b[0;34m[\u001b[0m\u001b[0mi\u001b[0m\u001b[0;34m[\u001b[0m\u001b[0;36m2\u001b[0m\u001b[0;34m]\u001b[0m\u001b[0;34m]\u001b[0m\u001b[0;34m,\u001b[0m\u001b[0mvarConst\u001b[0m\u001b[0;34m[\u001b[0m\u001b[0mi\u001b[0m\u001b[0;34m[\u001b[0m\u001b[0;36m3\u001b[0m\u001b[0;34m]\u001b[0m\u001b[0;34m]\u001b[0m\u001b[0;34m)\u001b[0m\u001b[0;34m\u001b[0m\u001b[0;34m\u001b[0m\u001b[0m\n\u001b[0m\u001b[1;32m     57\u001b[0m             \u001b[0;31m#print(tmp)\u001b[0m\u001b[0;34m\u001b[0m\u001b[0;34m\u001b[0m\u001b[0;34m\u001b[0m\u001b[0m\n\u001b[1;32m     58\u001b[0m         \u001b[0;32mif\u001b[0m \u001b[0mtype\u001b[0m\u001b[0;34m(\u001b[0m\u001b[0mtmp\u001b[0m\u001b[0;34m)\u001b[0m\u001b[0;34m==\u001b[0m\u001b[0mfloat\u001b[0m \u001b[0;32mor\u001b[0m \u001b[0mtype\u001b[0m\u001b[0;34m(\u001b[0m\u001b[0mtmp\u001b[0m\u001b[0;34m)\u001b[0m\u001b[0;34m==\u001b[0m\u001b[0mint\u001b[0m\u001b[0;34m:\u001b[0m\u001b[0;34m\u001b[0m\u001b[0;34m\u001b[0m\u001b[0m\n",
      "\u001b[0;31mIndexError\u001b[0m: list index out of range"
     ]
    }
   ],
   "source": [
    "best,pop=paretoEvolve(data,response,generations=600)"
   ]
  },
  {
   "cell_type": "code",
   "execution_count": 25,
   "id": "7aa74734",
   "metadata": {},
   "outputs": [
    {
     "name": "stdout",
     "output_type": "stream",
     "text": [
      "0.31222372924729336\n"
     ]
    },
    {
     "data": {
      "text/plain": [
       "<matplotlib.collections.PathCollection at 0x7fe510d9b280>"
      ]
     },
     "execution_count": 25,
     "metadata": {},
     "output_type": "execute_result"
    },
    {
     "data": {
      "image/png": "[encoded data removed]",
      "text/plain": [
       "<Figure size 432x288 with 1 Axes>"
      ]
     },
     "metadata": {
      "needs_background": "light"
     },
     "output_type": "display_data"
    }
   ],
   "source": [
    "print(fitness(best,varConst,response))\n",
    "align=alignModel(best,varConst,response)\n",
    "plt.scatter(data,response)\n",
    "plt.scatter(data,alignedEvalProg(best,varConst,align))"
   ]
  },
  {
   "cell_type": "code",
   "execution_count": null,
   "id": "ce7134f6",
   "metadata": {},
   "outputs": [],
   "source": [
    "len(best)"
   ]
  },
  {
   "cell_type": "code",
   "execution_count": 39,
   "id": "4ee21b4a",
   "metadata": {},
   "outputs": [
    {
     "data": {
      "image/png": "[encoded data removed]",
      "text/plain": [
       "<Figure size 432x288 with 1 Axes>"
      ]
     },
     "metadata": {
      "needs_background": "light"
     },
     "output_type": "display_data"
    },
    {
     "name": "stdout",
     "output_type": "stream",
     "text": [
      "0.03918306124265747\n"
     ]
    },
    {
     "data": {
      "text/plain": [
       "<matplotlib.collections.PathCollection at 0x7f9c11257f10>"
      ]
     },
     "execution_count": 39,
     "metadata": {},
     "output_type": "execute_result"
    },
    {
     "data": {
      "image/png": "[encoded data removed]",
      "text/plain": [
       "<Figure size 432x288 with 1 Axes>"
      ]
     },
     "metadata": {
      "needs_background": "light"
     },
     "output_type": "display_data"
    }
   ],
   "source": [
    "best,pop=paretoEvolve(data,response,generations=1200)\n",
    "print(fitness(best,varConst,response))\n",
    "align=alignModel(best,varConst,response)\n",
    "plt.scatter(data,response)\n",
    "plt.scatter(data,alignedEvalProg(best,varConst,align))"
   ]
  },
  {
   "cell_type": "code",
   "execution_count": 54,
   "id": "e1095731",
   "metadata": {},
   "outputs": [
    {
     "data": {
      "image/png": "[encoded data removed]",
      "text/plain": [
       "<Figure size 432x288 with 1 Axes>"
      ]
     },
     "metadata": {
      "needs_background": "light"
     },
     "output_type": "display_data"
    },
    {
     "name": "stdout",
     "output_type": "stream",
     "text": [
      "0.1512887072650766\n"
     ]
    },
    {
     "data": {
      "text/plain": [
       "<matplotlib.collections.PathCollection at 0x7f9c11b80190>"
      ]
     },
     "execution_count": 54,
     "metadata": {},
     "output_type": "execute_result"
    },
    {
     "data": {
      "image/png": "[encoded data removed]",
      "text/plain": [
       "<Figure size 432x288 with 1 Axes>"
      ]
     },
     "metadata": {
      "needs_background": "light"
     },
     "output_type": "display_data"
    }
   ],
   "source": [
    "best,pop=paretoEvolve(data,response,generations=2000)\n",
    "print(fitness(best,varConst,response))\n",
    "align=alignModel(best,varConst,response)\n",
    "plt.scatter(data,response)\n",
    "plt.scatter(data,alignedEvalProg(best,varConst,align))"
   ]
  },
  {
   "cell_type": "markdown",
   "id": "20922f83",
   "metadata": {},
   "source": [
    "## 2 Variable Problems"
   ]
  },
  {
   "cell_type": "code",
   "execution_count": 3,
   "id": "84a8974f",
   "metadata": {},
   "outputs": [],
   "source": [
    "data=[np.linspace(-4.98855,-62.0033,50),np.linspace(-35.2159,-77.8499,50),np.linspace(61.6466,-81.7417,50),np.linspace(25.7519,-89.7831,50),np.linspace(-71.2552,-92.1165,50),np.linspace(98.2881,76.7794,50),np.linspace(12.3118,-59.6275,50),np.linspace(27.441,-58.1894,50),np.linspace(74.8038,-9.53367,50),np.linspace(-71.2121,-97.6116,50),np.linspace(-6.05205,1.19606,50),np.linspace(10.3939,21.0286,50),np.linspace(-58.0995,18.7283,50),np.linspace(43.5429,-51.5061,50),np.linspace(30.3093,-45.0866,50),np.linspace(-73.6376,10.0935,50),np.linspace(-14.705,-94.9309,50),np.linspace(-8.73351,64.3492,50),np.linspace(-29.5301,34.0576,50),np.linspace(-99.9332,-50.9552,50),np.linspace(-71.3998,-16.1525,50),np.linspace(-47.7467,-93.6815,50),np.linspace(-16.7259,55.4985,50),np.linspace(11.951,-12.1252,50),np.linspace(-5.50228,-65.2755,50),np.linspace(32.7053,-46.3588,50),np.linspace(72.2501,-72.8581,50),np.linspace(95.225,-32.7453,50),np.linspace(30.1933,10.3258,50),np.linspace(53.9494,58.0914,50),np.linspace(44.6746,23.1943,50),np.linspace(40.299,45.5977,50),np.linspace(76.514,0.90986,50),np.linspace(97.2868,-48.4395,50),np.linspace(49.4418,22.5081,50),np.linspace(77.1796,-8.16409,50),np.linspace(25.5188,66.678,50),np.linspace(68.6443,79.5436,50),np.linspace(10.5295,26.0651,50),np.linspace(84.3267,0.857262,50),np.linspace(32.761,-82.6561,50),np.linspace(39.1207,14.8221,50),np.linspace(-16.7103,46.2982,50),np.linspace(82.4914,57.636,50),np.linspace(-61.8365,-15.4132,50),np.linspace(-58.4585,94.5686,50),np.linspace(-8.09376,-89.1223,50),np.linspace(51.8036,-77.6242,50),np.linspace(-1.36246,68.6977,50),np.linspace(48.1884,86.2951,50),np.linspace(-44.0958,72.1412,50),np.linspace(34.24,-30.2747,50),np.linspace(-27.2211,-23.9313,50),np.linspace(-27.1271,-6.07211,50),np.linspace(-79.4505,10.4568,50),np.linspace(-35.5549,12.2003,50),np.linspace(59.8827,83.6902,50),np.linspace(-45.4037,88.8708,50),np.linspace(59.5554,16.0376,50),np.linspace(-84.9545,-23.5107,50),np.linspace(59.2968,-43.5126,50),np.linspace(57.3777,43.4278,50),np.linspace(11.2829,-99.0912,50),np.linspace(48.8211,-92.8678,50),np.linspace(94.7488,-87.9666,50),np.linspace(-51.6994,51.325,50),np.linspace(-26.9748,-21.9465,50),np.linspace(22.2136,-63.5886,50),np.linspace(-88.7735,-60.2759,50),np.linspace(-27.3579,-38.2693,50),np.linspace(-16.9044,1.41234,50),np.linspace(24.0197,-23.8247,50),np.linspace(-51.3522,-96.0076,50),np.linspace(22.7716,4.93855,50),np.linspace(13.8495,0.655103,50),np.linspace(79.2692,-8.32269,50),np.linspace(80.9756,-47.8681,50),np.linspace(-51.1411,63.0108,50),np.linspace(64.2629,11.2569,50),np.linspace(18.0617,67.2005,50),np.linspace(-82.8896,28.3226,50),np.linspace(-79.4616,73.255,50),np.linspace(-63.5722,3.4325,50),np.linspace(97.6641,12.3589,50),np.linspace(75.0106,-83.6659,50),np.linspace(34.47,48.2079,50),np.linspace(45.1058,38.3343,50),np.linspace(77.5641,-18.7487,50),np.linspace(-86.761,72.0589,50),np.linspace(58.0815,27.8542,50),np.linspace(-40.7211,47.788,50),np.linspace(10.4265,-77.5653,50),np.linspace(29.8995,-27.0876,50),np.linspace(-92.2554,52.793,50),np.linspace(64.8302,61.6727,50),np.linspace(49.8019,-99.442,50),np.linspace(24.772,-94.7964,50),np.linspace(31.3705,-45.4271,50),np.linspace(-41.821,16.2672,50),np.linspace(60.8102,-28.1735,50),np.linspace(-40.7175,-97.5372,50)]\n",
    "response=((data[35])**4 *((data[77])**2-1. *(data[8]))**2 *data[82])/((data[23])**2 *(data[79])**4 *(data[8])**2 *(data[14]+data[56]+data[8])**2 *(3.14159 -1. *data[93])**2)\n",
    "varConst=copy.deepcopy(data)\n",
    "varConst[len(varConst):]=[-2,-1,1,2]"
   ]
  },
  {
   "cell_type": "code",
   "execution_count": 4,
   "id": "4b2d3354",
   "metadata": {},
   "outputs": [
    {
     "name": "stderr",
     "output_type": "stream",
     "text": [
      "/Users/nathanhaut/opt/anaconda3/lib/python3.8/site-packages/scipy/stats/stats.py:4023: PearsonRConstantInputWarning: An input array is constant; the correlation coefficient is not defined.\n",
      "  warnings.warn(PearsonRConstantInputWarning())\n"
     ]
    },
    {
     "data": {
      "image/png": "[encoded data removed]",
      "text/plain": [
       "<Figure size 432x288 with 1 Axes>"
      ]
     },
     "metadata": {
      "needs_background": "light"
     },
     "output_type": "display_data"
    }
   ],
   "source": [
    "best,pop=paretoEvolve(data,response)"
   ]
  },
  {
   "cell_type": "code",
   "execution_count": 5,
   "id": "948af5c5",
   "metadata": {},
   "outputs": [
    {
     "data": {
      "text/plain": [
       "0.8990214382960182"
      ]
     },
     "execution_count": 5,
     "metadata": {},
     "output_type": "execute_result"
    }
   ],
   "source": [
    "fitness(best,varConst,response)"
   ]
  },
  {
   "cell_type": "code",
   "execution_count": 6,
   "id": "d0abb1cc",
   "metadata": {},
   "outputs": [
    {
     "data": {
      "text/plain": [
       "<matplotlib.collections.PathCollection at 0x7fab4a2f77f0>"
      ]
     },
     "execution_count": 6,
     "metadata": {},
     "output_type": "execute_result"
    },
    {
     "data": {
      "image/png": "[encoded data removed]",
      "text/plain": [
       "<Figure size 432x288 with 1 Axes>"
      ]
     },
     "metadata": {
      "needs_background": "light"
     },
     "output_type": "display_data"
    }
   ],
   "source": [
    "align=alignModel(best,varConst,response)\n",
    "plt.scatter(range(len(data[0])),response)\n",
    "plt.scatter(range(len(data[0])),alignedEvalProg(best,varConst,align))"
   ]
  },
  {
   "cell_type": "code",
   "execution_count": 7,
   "id": "80efa55d",
   "metadata": {},
   "outputs": [
    {
     "data": {
      "text/plain": [
       "12"
      ]
     },
     "execution_count": 7,
     "metadata": {},
     "output_type": "execute_result"
    }
   ],
   "source": [
    "len(best)"
   ]
  },
  {
   "cell_type": "code",
   "execution_count": 120,
   "id": "c168319f",
   "metadata": {},
   "outputs": [
    {
     "data": {
      "text/plain": [
       "array([-6.90951126e-04, -5.15733114e-04, -3.87334550e-04, -2.92203621e-04,\n",
       "       -2.21048520e-04, -1.67393800e-04, -1.26660070e-04, -9.55656238e-05,\n",
       "       -7.17303700e-05, -5.34093433e-05, -3.93107284e-05, -2.84699016e-05,\n",
       "       -2.01611777e-05, -1.38353127e-05, -9.07485742e-06, -5.56207949e-06,\n",
       "       -3.05591282e-06, -1.37559037e-06, -3.89506404e-07, -8.65776531e-09,\n",
       "       -1.85090207e-07, -9.18283165e-07, -2.28240458e-06, -4.56081422e-06,\n",
       "       -1.08891745e-05, -8.05981906e-06, -1.47267668e-05, -2.37649444e-05,\n",
       "       -3.89074415e-05, -6.87093934e-05, -1.43906968e-04, -4.60154684e-04,\n",
       "       -1.27360529e-02, -1.01215623e-03, -1.73232442e-04, -6.20750710e-05,\n",
       "       -2.85386341e-05, -1.46779549e-05, -7.93929238e-06, -4.35199232e-06,\n",
       "       -2.35172699e-06, -1.22636687e-06, -6.23020434e-07, -4.76974203e-07,\n",
       "       -7.73139859e-10, -1.30858615e-09, -5.77320148e-09,  2.04261822e-08,\n",
       "        1.36411800e-07,  4.25447137e-07])"
      ]
     },
     "execution_count": 120,
     "metadata": {},
     "output_type": "execute_result"
    }
   ],
   "source": [
    "response"
   ]
  },
  {
   "cell_type": "code",
   "execution_count": 98,
   "id": "b369f18d",
   "metadata": {},
   "outputs": [
    {
     "data": {
      "text/plain": [
       "array([104.93131059,  99.88136372,  94.62608396,  89.34080404,\n",
       "        84.12659812,  79.04583113,  74.13907052,  69.43384423,\n",
       "        64.94949004,  60.69999068,  56.69570744,  52.9444813 ,\n",
       "        49.4523553 ,  46.22406195,  43.26336021,  40.57327359,\n",
       "        38.15626165,  36.01434558,  34.14920174,  32.56223218,\n",
       "        31.25461853,  30.22736369,  29.4813244 ,  29.0172369 ,\n",
       "        28.83573742,  28.93737861,  29.3226428 ,  29.99195287,\n",
       "        30.94568112,  32.1841566 ,  33.70767124,  35.51648493,\n",
       "        37.61082979,  39.9909138 ,  42.65692383,  45.60902829,\n",
       "        48.84737932,  52.37211473,  56.18335964,  60.28122791,\n",
       "        64.66582337,  69.33724092,  74.29556745,  79.54088268,\n",
       "        85.07325988,  90.89276652,  96.9994648 , 103.39341219,\n",
       "       110.07466187, 117.04326309])"
      ]
     },
     "execution_count": 98,
     "metadata": {},
     "output_type": "execute_result"
    }
   ],
   "source": [
    "alignedEvalProg(best,varConst,align)"
   ]
  },
  {
   "cell_type": "code",
   "execution_count": 105,
   "id": "845ff19a",
   "metadata": {},
   "outputs": [
    {
     "data": {
      "text/plain": [
       "<matplotlib.collections.PathCollection at 0x7fe4f03b1bb0>"
      ]
     },
     "execution_count": 105,
     "metadata": {},
     "output_type": "execute_result"
    },
    {
     "data": {
      "image/png": "[encoded data removed]",
      "text/plain": [
       "<Figure size 432x288 with 1 Axes>"
      ]
     },
     "metadata": {
      "needs_background": "light"
     },
     "output_type": "display_data"
    }
   ],
   "source": [
    "align=alignModel(best,varConst,response)\n",
    "plt.scatter(range(len(data[0])),response)\n",
    "plt.scatter(range(len(data[0])),.007*evalProg(best,varConst))"
   ]
  },
  {
   "cell_type": "code",
   "execution_count": 101,
   "id": "00fe6bf9",
   "metadata": {},
   "outputs": [
    {
     "data": {
      "text/plain": [
       "array([7.84655289e-03, 2.88511338e+01])"
      ]
     },
     "execution_count": 101,
     "metadata": {},
     "output_type": "execute_result"
    }
   ],
   "source": [
    "align"
   ]
  },
  {
   "cell_type": "code",
   "execution_count": null,
   "id": "d280c6e3",
   "metadata": {},
   "outputs": [],
   "source": []
  }
 ],
 "metadata": {
  "kernelspec": {
   "display_name": "Python 3 (ipykernel)",
   "language": "python",
   "name": "python3"
  },
  "language_info": {
   "codemirror_mode": {
    "name": "ipython",
    "version": 3
   },
   "file_extension": ".py",
   "mimetype": "text/x-python",
   "name": "python",
   "nbconvert_exporter": "python",
   "pygments_lexer": "ipython3",
   "version": "3.8.12"
  }
 },
 "nbformat": 4,
 "nbformat_minor": 5
}
