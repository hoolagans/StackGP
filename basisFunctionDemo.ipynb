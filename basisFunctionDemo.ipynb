{
 "cells": [
  {
   "cell_type": "code",
   "execution_count": 2,
   "metadata": {},
   "outputs": [],
   "source": [
    "import numpy as np\n",
    "from StackGP import *\n",
    "import pandas as pd"
   ]
  },
  {
   "cell_type": "code",
   "execution_count": 3,
   "metadata": {},
   "outputs": [],
   "source": [
    "data=pd.read_csv(\"/Users/nathanhaut/Downloads/pmlb/datasets/195_auto_price/195_auto_price.csv\")\n",
    "vars=data.columns\n",
    "inputData=np.array(data.T)[:-1]\n",
    "response=np.array(data.T)[-1]"
   ]
  },
  {
   "cell_type": "code",
   "execution_count": 4,
   "metadata": {},
   "outputs": [],
   "source": [
    "func=basisFunctionComplexityDiff(2,5)"
   ]
  },
  {
   "cell_type": "code",
   "execution_count": 5,
   "metadata": {},
   "outputs": [],
   "source": [
    "models=evolve(inputData,response,modelEvaluationMetrics=[fitness,func],tourneySize=20,generations=10,align=False)"
   ]
  },
  {
   "cell_type": "code",
   "execution_count": 6,
   "metadata": {},
   "outputs": [
    {
     "data": {
      "image/png": "[encoded data removed]",
      "text/plain": [
       "<Figure size 640x480 with 1 Axes>"
      ]
     },
     "metadata": {},
     "output_type": "display_data"
    }
   ],
   "source": [
    "plotModels(models)"
   ]
  },
  {
   "cell_type": "code",
   "execution_count": 12,
   "metadata": {},
   "outputs": [
    {
     "data": {
      "text/plain": [
       "[[array([<function sub at 0x16b8cab80>, <function sqrd at 0x16b8cae50>,\n",
       "         'pop', <function mult at 0x16b8cac10>,\n",
       "         <function sqrd at 0x16b8cae50>, <function add at 0x16b8caaf0>],\n",
       "        dtype=object),\n",
       "  [4.158778424138223,\n",
       "   <function StackGP.variableSelect.<locals>.<lambda>(variables)>,\n",
       "   <function StackGP.variableSelect.<locals>.<lambda>(variables)>,\n",
       "   <function StackGP.variableSelect.<locals>.<lambda>(variables)>],\n",
       "  [0.14662633203973996, 4]],\n",
       " [array([<function sub at 0x16b8cab80>, <function sqrd at 0x16b8cae50>,\n",
       "         'pop', <function mult at 0x16b8cac10>,\n",
       "         <function sqrd at 0x16b8cae50>], dtype=object),\n",
       "  [3.8792419701374445,\n",
       "   <function StackGP.variableSelect.<locals>.<lambda>(variables)>,\n",
       "   <function StackGP.variableSelect.<locals>.<lambda>(variables)>],\n",
       "  [0.1466520047894655, 3]],\n",
       " [array([<function mult at 0x16b8cac10>, <function sqrd at 0x16b8cae50>,\n",
       "         'pop', <function mult at 0x16b8cac10>,\n",
       "         <function sqrd at 0x16b8cae50>, <function add at 0x16b8caaf0>],\n",
       "        dtype=object),\n",
       "  [-0.9461125672023996,\n",
       "   <function StackGP.variableSelect.<locals>.<lambda>(variables)>,\n",
       "   <function StackGP.variableSelect.<locals>.<lambda>(variables)>,\n",
       "   <function StackGP.variableSelect.<locals>.<lambda>(variables)>],\n",
       "  [0.14705267954499746, 0]]]"
      ]
     },
     "execution_count": 12,
     "metadata": {},
     "output_type": "execute_result"
    }
   ],
   "source": [
    "paretoTournament(models)"
   ]
  },
  {
   "cell_type": "code",
   "execution_count": 56,
   "metadata": {},
   "outputs": [
    {
     "data": {
      "text/plain": [
       "[symboling,\n",
       " normalized@losses,\n",
       " wheel@base,\n",
       " length,\n",
       " width,\n",
       " height,\n",
       " curb@weight,\n",
       " engine@size,\n",
       " bore,\n",
       " stroke,\n",
       " compression@ratio,\n",
       " horsepower,\n",
       " peak@rpm,\n",
       " city@mpg,\n",
       " highway@mpg,\n",
       " target]"
      ]
     },
     "execution_count": 56,
     "metadata": {},
     "output_type": "execute_result"
    }
   ],
   "source": [
    "symbols([i.replace('-','@') for i in vars.tolist()])"
   ]
  },
  {
   "cell_type": "code",
   "execution_count": 55,
   "metadata": {},
   "outputs": [
    {
     "data": {
      "text/plain": [
       "['symboling',\n",
       " 'normalized-losses',\n",
       " 'wheel-base',\n",
       " 'length',\n",
       " 'width',\n",
       " 'height',\n",
       " 'curb-weight',\n",
       " 'engine-size',\n",
       " 'bore',\n",
       " 'stroke',\n",
       " 'compression-ratio',\n",
       " 'horsepower',\n",
       " 'peak-rpm',\n",
       " 'city-mpg',\n",
       " 'highway-mpg',\n",
       " 'target']"
      ]
     },
     "execution_count": 55,
     "metadata": {},
     "output_type": "execute_result"
    }
   ],
   "source": [
    "vars.tolist()"
   ]
  },
  {
   "cell_type": "code",
   "execution_count": 57,
   "metadata": {},
   "outputs": [
    {
     "data": {
      "text/latex": [
       "$\\displaystyle 0.801255908413157 curb@weight^{2} width^{4} + peak@rpm$"
      ],
      "text/plain": [
       "0.801255908413157*curb@weight**2*width**4 + peak@rpm"
      ]
     },
     "execution_count": 57,
     "metadata": {},
     "output_type": "execute_result"
    }
   ],
   "source": [
    "printGPModel(paretoTournament(models)[-1],symbols([i.replace('-','@') for i in vars.tolist()[:-1]]))"
   ]
  },
  {
   "cell_type": "code",
   "execution_count": 52,
   "metadata": {},
   "outputs": [
    {
     "data": {
      "text/plain": [
       "[array([<function mult at 0x16b8cac10>, <function sqrd at 0x16b8cae50>,\n",
       "        'pop', <function mult at 0x16b8cac10>,\n",
       "        <function sqrd at 0x16b8cae50>, <function add at 0x16b8caaf0>],\n",
       "       dtype=object),\n",
       " [-0.9461125672023996,\n",
       "  <function StackGP.variableSelect.<locals>.<lambda>(variables)>,\n",
       "  <function StackGP.variableSelect.<locals>.<lambda>(variables)>,\n",
       "  <function StackGP.variableSelect.<locals>.<lambda>(variables)>],\n",
       " [0.14705267954499746, 0]]"
      ]
     },
     "execution_count": 52,
     "metadata": {},
     "output_type": "execute_result"
    }
   ],
   "source": [
    "paretoTournament(models)[-1]"
   ]
  },
  {
   "cell_type": "code",
   "execution_count": 35,
   "metadata": {},
   "outputs": [
    {
     "data": {
      "text/latex": [
       "$\\displaystyle x-y12 + 0.801255908413157 x-y4^{4} x-y6^{2}$"
      ],
      "text/plain": [
       "x-y12 + 0.801255908413157*x-y4**4*x-y6**2"
      ]
     },
     "execution_count": 35,
     "metadata": {},
     "output_type": "execute_result"
    }
   ],
   "source": [
    "printGPModel(paretoTournament(models)[-1],symbols(['x-y'+str(i) for i in range(14)]))"
   ]
  },
  {
   "cell_type": "code",
   "execution_count": 51,
   "metadata": {},
   "outputs": [
    {
     "data": {
      "text/latex": [
       "$\\displaystyle 299.132174957302 curbweight^{2} \\left(1 - 0.240455224590913 width\\right)^{4} + peakrpm$"
      ],
      "text/plain": [
       "299.132174957302*curbweight**2*(1 - 0.240455224590913*width)**4 + peakrpm"
      ]
     },
     "execution_count": 51,
     "metadata": {},
     "output_type": "execute_result"
    }
   ],
   "source": [
    "printGPModel(paretoTournament(models)[0]).replace(symbols('x4'),symbols(vars.tolist()[4].replace('-',''))).replace(symbols('x12'),symbols(vars.tolist()[12].replace('-',''))).replace(symbols('x6'),symbols(vars.tolist()[6].replace('-','')))"
   ]
  },
  {
   "cell_type": "code",
   "execution_count": 49,
   "metadata": {},
   "outputs": [
    {
     "data": {
      "text/latex": [
       "$\\displaystyle x_{12} + 299.132174957302 x_{6}^{2} \\left(1 - 0.240455224590913 x_{4}\\right)^{4}$"
      ],
      "text/plain": [
       "x12 + 299.132174957302*x6**2*(1 - 0.240455224590913*x4)**4"
      ]
     },
     "execution_count": 49,
     "metadata": {},
     "output_type": "execute_result"
    }
   ],
   "source": [
    "printGPModel(paretoTournament(models)[0])"
   ]
  },
  {
   "cell_type": "code",
   "execution_count": 110,
   "metadata": {},
   "outputs": [],
   "source": [
    "models=initializeGPModels(15,maxLength=100)\n",
    "[setModelQuality(mod,inputData,response,modelEvaluationMetrics=[fitness,func]) for mod in models];"
   ]
  },
  {
   "cell_type": "code",
   "execution_count": 123,
   "metadata": {},
   "outputs": [
    {
     "data": {
      "text/plain": [
       "5"
      ]
     },
     "execution_count": 123,
     "metadata": {},
     "output_type": "execute_result"
    }
   ],
   "source": [
    "i+=1\n",
    "func(models[i])"
   ]
  },
  {
   "cell_type": "code",
   "execution_count": 127,
   "metadata": {},
   "outputs": [
    {
     "data": {
      "text/latex": [
       "$\\displaystyle \\frac{x_{4}^{2}}{\\sqrt{\\frac{1}{1.43685313379129 \\cdot 10^{-26} x_{11}^{8} e^{- 4 x_{2}} e^{- 4 x_{6}^{2}} e^{\\frac{0.0410639290187373 x_{10}}{0.0102659822546843 x_{1}^{2} x_{10}^{2} + 0.0410639290187373 x_{1}^{2} x_{10} x_{14} - 0.0205319645093687 x_{1}^{2} x_{10} x_{4} - 0.0205319645093687 x_{1}^{2} x_{10} x_{6} + 0.0205319645093687 x_{1}^{2} x_{10} x_{8} - \\frac{0.0205319645093687 x_{1}^{2} x_{10} x_{9}}{x_{11}^{2}} + \\frac{0.0205319645093687 x_{1}^{2} x_{10}}{x_{11}^{2} \\sqrt[8]{e^{x_{12}}}} + 0.0410639290187373 x_{1}^{2} x_{14}^{2} - 0.0410639290187373 x_{1}^{2} x_{14} x_{4} - 0.0410639290187373 x_{1}^{2} x_{14} x_{6} + 0.0410639290187373 x_{1}^{2} x_{14} x_{8} + 0.0102659822546843 x_{1}^{2} x_{4}^{2} + 0.0205319645093687 x_{1}^{2} x_{4} x_{6} - 0.0205319645093687 x_{1}^{2} x_{4} x_{8} + 0.0102659822546843 x_{1}^{2} x_{6}^{2} - 0.0205319645093687 x_{1}^{2} x_{6} x_{8} + 0.0102659822546843 x_{1}^{2} x_{8}^{2} - \\frac{0.0410639290187373 x_{1}^{2} x_{14} x_{9}}{x_{11}^{2}} + \\frac{0.0410639290187373 x_{1}^{2} x_{14}}{x_{11}^{2} \\sqrt[8]{e^{x_{12}}}} + \\frac{0.0205319645093687 x_{1}^{2} x_{4} x_{9}}{x_{11}^{2}} - \\frac{0.0205319645093687 x_{1}^{2} x_{4}}{x_{11}^{2} \\sqrt[8]{e^{x_{12}}}} + \\frac{0.0205319645093687 x_{1}^{2} x_{6} x_{9}}{x_{11}^{2}} - \\frac{0.0205319645093687 x_{1}^{2} x_{6}}{x_{11}^{2} \\sqrt[8]{e^{x_{12}}}} - \\frac{0.0205319645093687 x_{1}^{2} x_{8} x_{9}}{x_{11}^{2}} + \\frac{0.0205319645093687 x_{1}^{2} x_{8}}{x_{11}^{2} \\sqrt[8]{e^{x_{12}}}} + \\frac{0.0102659822546843 x_{1}^{2} x_{9}^{2}}{x_{11}^{4}} - \\frac{0.0205319645093687 x_{1}^{2} x_{9}}{x_{11}^{4} \\sqrt[8]{e^{x_{12}}}} + \\frac{0.0102659822546843 x_{1}^{2}}{x_{11}^{4} \\sqrt[4]{e^{x_{12}}}} - 0.202642367284676 x_{1} x_{10}^{2} - 0.810569469138702 x_{1} x_{10} x_{14} + 0.405284734569351 x_{1} x_{10} x_{4} + 0.405284734569351 x_{1} x_{10} x_{6} - 0.405284734569351 x_{1} x_{10} x_{8} + \\frac{0.405284734569351 x_{1} x_{10} x_{9}}{x_{11}^{2}} - \\frac{0.405284734569351 x_{1} x_{10}}{x_{11}^{2} \\sqrt[8]{e^{x_{12}}}} - 0.810569469138702 x_{1} x_{14}^{2} + 0.810569469138702 x_{1} x_{14} x_{4} + 0.810569469138702 x_{1} x_{14} x_{6} - 0.810569469138702 x_{1} x_{14} x_{8} - 0.202642367284676 x_{1} x_{4}^{2} - 0.405284734569351 x_{1} x_{4} x_{6} + 0.405284734569351 x_{1} x_{4} x_{8} - 0.202642367284676 x_{1} x_{6}^{2} + 0.405284734569351 x_{1} x_{6} x_{8} - 0.202642367284676 x_{1} x_{8}^{2} + \\frac{0.810569469138702 x_{1} x_{14} x_{9}}{x_{11}^{2}} - \\frac{0.810569469138702 x_{1} x_{14}}{x_{11}^{2} \\sqrt[8]{e^{x_{12}}}} - \\frac{0.405284734569351 x_{1} x_{4} x_{9}}{x_{11}^{2}} + \\frac{0.405284734569351 x_{1} x_{4}}{x_{11}^{2} \\sqrt[8]{e^{x_{12}}}} - \\frac{0.405284734569351 x_{1} x_{6} x_{9}}{x_{11}^{2}} + \\frac{0.405284734569351 x_{1} x_{6}}{x_{11}^{2} \\sqrt[8]{e^{x_{12}}}} + \\frac{0.405284734569351 x_{1} x_{8} x_{9}}{x_{11}^{2}} - \\frac{0.405284734569351 x_{1} x_{8}}{x_{11}^{2} \\sqrt[8]{e^{x_{12}}}} - \\frac{0.202642367284676 x_{1} x_{9}^{2}}{x_{11}^{4}} + \\frac{0.405284734569351 x_{1} x_{9}}{x_{11}^{4} \\sqrt[8]{e^{x_{12}}}} - \\frac{0.202642367284676 x_{1}}{x_{11}^{4} \\sqrt[4]{e^{x_{12}}}} + x_{10}^{2} + 4 x_{10} x_{14} - 2 x_{10} x_{4} - 2 x_{10} x_{6} + 2 x_{10} x_{8} - \\frac{2 x_{10} x_{9}}{x_{11}^{2}} + \\frac{2 x_{10}}{x_{11}^{2} \\sqrt[8]{e^{x_{12}}}} + 4 x_{14}^{2} - 4 x_{14} x_{4} - 4 x_{14} x_{6} + 4 x_{14} x_{8} + x_{4}^{2} + 2 x_{4} x_{6} - 2 x_{4} x_{8} + x_{6}^{2} - 2 x_{6} x_{8} + x_{8}^{2} - \\frac{4 x_{14} x_{9}}{x_{11}^{2}} + \\frac{4 x_{14}}{x_{11}^{2} \\sqrt[8]{e^{x_{12}}}} + \\frac{2 x_{4} x_{9}}{x_{11}^{2}} - \\frac{2 x_{4}}{x_{11}^{2} \\sqrt[8]{e^{x_{12}}}} + \\frac{2 x_{6} x_{9}}{x_{11}^{2}} - \\frac{2 x_{6}}{x_{11}^{2} \\sqrt[8]{e^{x_{12}}}} - \\frac{2 x_{8} x_{9}}{x_{11}^{2}} + \\frac{2 x_{8}}{x_{11}^{2} \\sqrt[8]{e^{x_{12}}}} + \\frac{x_{9}^{2}}{x_{11}^{4}} - \\frac{2 x_{9}}{x_{11}^{4} \\sqrt[8]{e^{x_{12}}}} + \\frac{1}{x_{11}^{4} \\sqrt[4]{e^{x_{12}}}}}} e^{4 e^{x_{1}^{2}} e^{\\frac{\\sqrt{x_{10}}}{x_{13}}}} + 2.39737617723318 \\cdot 10^{-13} x_{11}^{4} \\sqrt{x_{8}} e^{- 2 x_{2}} e^{- 2 x_{6}^{2}} e^{\\frac{0.0205319645093687 x_{10}}{0.0102659822546843 x_{1}^{2} x_{10}^{2} + 0.0410639290187373 x_{1}^{2} x_{10} x_{14} - 0.0205319645093687 x_{1}^{2} x_{10} x_{4} - 0.0205319645093687 x_{1}^{2} x_{10} x_{6} + 0.0205319645093687 x_{1}^{2} x_{10} x_{8} - \\frac{0.0205319645093687 x_{1}^{2} x_{10} x_{9}}{x_{11}^{2}} + \\frac{0.0205319645093687 x_{1}^{2} x_{10}}{x_{11}^{2} \\sqrt[8]{e^{x_{12}}}} + 0.0410639290187373 x_{1}^{2} x_{14}^{2} - 0.0410639290187373 x_{1}^{2} x_{14} x_{4} - 0.0410639290187373 x_{1}^{2} x_{14} x_{6} + 0.0410639290187373 x_{1}^{2} x_{14} x_{8} + 0.0102659822546843 x_{1}^{2} x_{4}^{2} + 0.0205319645093687 x_{1}^{2} x_{4} x_{6} - 0.0205319645093687 x_{1}^{2} x_{4} x_{8} + 0.0102659822546843 x_{1}^{2} x_{6}^{2} - 0.0205319645093687 x_{1}^{2} x_{6} x_{8} + 0.0102659822546843 x_{1}^{2} x_{8}^{2} - \\frac{0.0410639290187373 x_{1}^{2} x_{14} x_{9}}{x_{11}^{2}} + \\frac{0.0410639290187373 x_{1}^{2} x_{14}}{x_{11}^{2} \\sqrt[8]{e^{x_{12}}}} + \\frac{0.0205319645093687 x_{1}^{2} x_{4} x_{9}}{x_{11}^{2}} - \\frac{0.0205319645093687 x_{1}^{2} x_{4}}{x_{11}^{2} \\sqrt[8]{e^{x_{12}}}} + \\frac{0.0205319645093687 x_{1}^{2} x_{6} x_{9}}{x_{11}^{2}} - \\frac{0.0205319645093687 x_{1}^{2} x_{6}}{x_{11}^{2} \\sqrt[8]{e^{x_{12}}}} - \\frac{0.0205319645093687 x_{1}^{2} x_{8} x_{9}}{x_{11}^{2}} + \\frac{0.0205319645093687 x_{1}^{2} x_{8}}{x_{11}^{2} \\sqrt[8]{e^{x_{12}}}} + \\frac{0.0102659822546843 x_{1}^{2} x_{9}^{2}}{x_{11}^{4}} - \\frac{0.0205319645093687 x_{1}^{2} x_{9}}{x_{11}^{4} \\sqrt[8]{e^{x_{12}}}} + \\frac{0.0102659822546843 x_{1}^{2}}{x_{11}^{4} \\sqrt[4]{e^{x_{12}}}} - 0.202642367284676 x_{1} x_{10}^{2} - 0.810569469138702 x_{1} x_{10} x_{14} + 0.405284734569351 x_{1} x_{10} x_{4} + 0.405284734569351 x_{1} x_{10} x_{6} - 0.405284734569351 x_{1} x_{10} x_{8} + \\frac{0.405284734569351 x_{1} x_{10} x_{9}}{x_{11}^{2}} - \\frac{0.405284734569351 x_{1} x_{10}}{x_{11}^{2} \\sqrt[8]{e^{x_{12}}}} - 0.810569469138702 x_{1} x_{14}^{2} + 0.810569469138702 x_{1} x_{14} x_{4} + 0.810569469138702 x_{1} x_{14} x_{6} - 0.810569469138702 x_{1} x_{14} x_{8} - 0.202642367284676 x_{1} x_{4}^{2} - 0.405284734569351 x_{1} x_{4} x_{6} + 0.405284734569351 x_{1} x_{4} x_{8} - 0.202642367284676 x_{1} x_{6}^{2} + 0.405284734569351 x_{1} x_{6} x_{8} - 0.202642367284676 x_{1} x_{8}^{2} + \\frac{0.810569469138702 x_{1} x_{14} x_{9}}{x_{11}^{2}} - \\frac{0.810569469138702 x_{1} x_{14}}{x_{11}^{2} \\sqrt[8]{e^{x_{12}}}} - \\frac{0.405284734569351 x_{1} x_{4} x_{9}}{x_{11}^{2}} + \\frac{0.405284734569351 x_{1} x_{4}}{x_{11}^{2} \\sqrt[8]{e^{x_{12}}}} - \\frac{0.405284734569351 x_{1} x_{6} x_{9}}{x_{11}^{2}} + \\frac{0.405284734569351 x_{1} x_{6}}{x_{11}^{2} \\sqrt[8]{e^{x_{12}}}} + \\frac{0.405284734569351 x_{1} x_{8} x_{9}}{x_{11}^{2}} - \\frac{0.405284734569351 x_{1} x_{8}}{x_{11}^{2} \\sqrt[8]{e^{x_{12}}}} - \\frac{0.202642367284676 x_{1} x_{9}^{2}}{x_{11}^{4}} + \\frac{0.405284734569351 x_{1} x_{9}}{x_{11}^{4} \\sqrt[8]{e^{x_{12}}}} - \\frac{0.202642367284676 x_{1}}{x_{11}^{4} \\sqrt[4]{e^{x_{12}}}} + x_{10}^{2} + 4 x_{10} x_{14} - 2 x_{10} x_{4} - 2 x_{10} x_{6} + 2 x_{10} x_{8} - \\frac{2 x_{10} x_{9}}{x_{11}^{2}} + \\frac{2 x_{10}}{x_{11}^{2} \\sqrt[8]{e^{x_{12}}}} + 4 x_{14}^{2} - 4 x_{14} x_{4} - 4 x_{14} x_{6} + 4 x_{14} x_{8} + x_{4}^{2} + 2 x_{4} x_{6} - 2 x_{4} x_{8} + x_{6}^{2} - 2 x_{6} x_{8} + x_{8}^{2} - \\frac{4 x_{14} x_{9}}{x_{11}^{2}} + \\frac{4 x_{14}}{x_{11}^{2} \\sqrt[8]{e^{x_{12}}}} + \\frac{2 x_{4} x_{9}}{x_{11}^{2}} - \\frac{2 x_{4}}{x_{11}^{2} \\sqrt[8]{e^{x_{12}}}} + \\frac{2 x_{6} x_{9}}{x_{11}^{2}} - \\frac{2 x_{6}}{x_{11}^{2} \\sqrt[8]{e^{x_{12}}}} - \\frac{2 x_{8} x_{9}}{x_{11}^{2}} + \\frac{2 x_{8}}{x_{11}^{2} \\sqrt[8]{e^{x_{12}}}} + \\frac{x_{9}^{2}}{x_{11}^{4}} - \\frac{2 x_{9}}{x_{11}^{4} \\sqrt[8]{e^{x_{12}}}} + \\frac{1}{x_{11}^{4} \\sqrt[4]{e^{x_{12}}}}}} e^{2 e^{x_{1}^{2}} e^{\\frac{\\sqrt{x_{10}}}{x_{13}}}} + x_{8}}}}$"
      ],
      "text/plain": [
       "x4**2/sqrt(1/(1.43685313379129e-26*x11**8*exp(-4*x2)*exp(-4*x6**2)*exp(0.0410639290187373*x10/(0.0102659822546843*x1**2*x10**2 + 0.0410639290187373*x1**2*x10*x14 - 0.0205319645093687*x1**2*x10*x4 - 0.0205319645093687*x1**2*x10*x6 + 0.0205319645093687*x1**2*x10*x8 - 0.0205319645093687*x1**2*x10*x9/x11**2 + 0.0205319645093687*x1**2*x10/(x11**2*exp(x12)**(1/8)) + 0.0410639290187373*x1**2*x14**2 - 0.0410639290187373*x1**2*x14*x4 - 0.0410639290187373*x1**2*x14*x6 + 0.0410639290187373*x1**2*x14*x8 + 0.0102659822546843*x1**2*x4**2 + 0.0205319645093687*x1**2*x4*x6 - 0.0205319645093687*x1**2*x4*x8 + 0.0102659822546843*x1**2*x6**2 - 0.0205319645093687*x1**2*x6*x8 + 0.0102659822546843*x1**2*x8**2 - 0.0410639290187373*x1**2*x14*x9/x11**2 + 0.0410639290187373*x1**2*x14/(x11**2*exp(x12)**(1/8)) + 0.0205319645093687*x1**2*x4*x9/x11**2 - 0.0205319645093687*x1**2*x4/(x11**2*exp(x12)**(1/8)) + 0.0205319645093687*x1**2*x6*x9/x11**2 - 0.0205319645093687*x1**2*x6/(x11**2*exp(x12)**(1/8)) - 0.0205319645093687*x1**2*x8*x9/x11**2 + 0.0205319645093687*x1**2*x8/(x11**2*exp(x12)**(1/8)) + 0.0102659822546843*x1**2*x9**2/x11**4 - 0.0205319645093687*x1**2*x9/(x11**4*exp(x12)**(1/8)) + 0.0102659822546843*x1**2/(x11**4*exp(x12)**(1/4)) - 0.202642367284676*x1*x10**2 - 0.810569469138702*x1*x10*x14 + 0.405284734569351*x1*x10*x4 + 0.405284734569351*x1*x10*x6 - 0.405284734569351*x1*x10*x8 + 0.405284734569351*x1*x10*x9/x11**2 - 0.405284734569351*x1*x10/(x11**2*exp(x12)**(1/8)) - 0.810569469138702*x1*x14**2 + 0.810569469138702*x1*x14*x4 + 0.810569469138702*x1*x14*x6 - 0.810569469138702*x1*x14*x8 - 0.202642367284676*x1*x4**2 - 0.405284734569351*x1*x4*x6 + 0.405284734569351*x1*x4*x8 - 0.202642367284676*x1*x6**2 + 0.405284734569351*x1*x6*x8 - 0.202642367284676*x1*x8**2 + 0.810569469138702*x1*x14*x9/x11**2 - 0.810569469138702*x1*x14/(x11**2*exp(x12)**(1/8)) - 0.405284734569351*x1*x4*x9/x11**2 + 0.405284734569351*x1*x4/(x11**2*exp(x12)**(1/8)) - 0.405284734569351*x1*x6*x9/x11**2 + 0.405284734569351*x1*x6/(x11**2*exp(x12)**(1/8)) + 0.405284734569351*x1*x8*x9/x11**2 - 0.405284734569351*x1*x8/(x11**2*exp(x12)**(1/8)) - 0.202642367284676*x1*x9**2/x11**4 + 0.405284734569351*x1*x9/(x11**4*exp(x12)**(1/8)) - 0.202642367284676*x1/(x11**4*exp(x12)**(1/4)) + x10**2 + 4*x10*x14 - 2*x10*x4 - 2*x10*x6 + 2*x10*x8 - 2*x10*x9/x11**2 + 2*x10/(x11**2*exp(x12)**(1/8)) + 4*x14**2 - 4*x14*x4 - 4*x14*x6 + 4*x14*x8 + x4**2 + 2*x4*x6 - 2*x4*x8 + x6**2 - 2*x6*x8 + x8**2 - 4*x14*x9/x11**2 + 4*x14/(x11**2*exp(x12)**(1/8)) + 2*x4*x9/x11**2 - 2*x4/(x11**2*exp(x12)**(1/8)) + 2*x6*x9/x11**2 - 2*x6/(x11**2*exp(x12)**(1/8)) - 2*x8*x9/x11**2 + 2*x8/(x11**2*exp(x12)**(1/8)) + x9**2/x11**4 - 2*x9/(x11**4*exp(x12)**(1/8)) + 1/(x11**4*exp(x12)**(1/4))))*exp(4*exp(x1**2)*exp(sqrt(x10)/x13)) + 2.39737617723318e-13*x11**4*sqrt(x8)*exp(-2*x2)*exp(-2*x6**2)*exp(0.0205319645093687*x10/(0.0102659822546843*x1**2*x10**2 + 0.0410639290187373*x1**2*x10*x14 - 0.0205319645093687*x1**2*x10*x4 - 0.0205319645093687*x1**2*x10*x6 + 0.0205319645093687*x1**2*x10*x8 - 0.0205319645093687*x1**2*x10*x9/x11**2 + 0.0205319645093687*x1**2*x10/(x11**2*exp(x12)**(1/8)) + 0.0410639290187373*x1**2*x14**2 - 0.0410639290187373*x1**2*x14*x4 - 0.0410639290187373*x1**2*x14*x6 + 0.0410639290187373*x1**2*x14*x8 + 0.0102659822546843*x1**2*x4**2 + 0.0205319645093687*x1**2*x4*x6 - 0.0205319645093687*x1**2*x4*x8 + 0.0102659822546843*x1**2*x6**2 - 0.0205319645093687*x1**2*x6*x8 + 0.0102659822546843*x1**2*x8**2 - 0.0410639290187373*x1**2*x14*x9/x11**2 + 0.0410639290187373*x1**2*x14/(x11**2*exp(x12)**(1/8)) + 0.0205319645093687*x1**2*x4*x9/x11**2 - 0.0205319645093687*x1**2*x4/(x11**2*exp(x12)**(1/8)) + 0.0205319645093687*x1**2*x6*x9/x11**2 - 0.0205319645093687*x1**2*x6/(x11**2*exp(x12)**(1/8)) - 0.0205319645093687*x1**2*x8*x9/x11**2 + 0.0205319645093687*x1**2*x8/(x11**2*exp(x12)**(1/8)) + 0.0102659822546843*x1**2*x9**2/x11**4 - 0.0205319645093687*x1**2*x9/(x11**4*exp(x12)**(1/8)) + 0.0102659822546843*x1**2/(x11**4*exp(x12)**(1/4)) - 0.202642367284676*x1*x10**2 - 0.810569469138702*x1*x10*x14 + 0.405284734569351*x1*x10*x4 + 0.405284734569351*x1*x10*x6 - 0.405284734569351*x1*x10*x8 + 0.405284734569351*x1*x10*x9/x11**2 - 0.405284734569351*x1*x10/(x11**2*exp(x12)**(1/8)) - 0.810569469138702*x1*x14**2 + 0.810569469138702*x1*x14*x4 + 0.810569469138702*x1*x14*x6 - 0.810569469138702*x1*x14*x8 - 0.202642367284676*x1*x4**2 - 0.405284734569351*x1*x4*x6 + 0.405284734569351*x1*x4*x8 - 0.202642367284676*x1*x6**2 + 0.405284734569351*x1*x6*x8 - 0.202642367284676*x1*x8**2 + 0.810569469138702*x1*x14*x9/x11**2 - 0.810569469138702*x1*x14/(x11**2*exp(x12)**(1/8)) - 0.405284734569351*x1*x4*x9/x11**2 + 0.405284734569351*x1*x4/(x11**2*exp(x12)**(1/8)) - 0.405284734569351*x1*x6*x9/x11**2 + 0.405284734569351*x1*x6/(x11**2*exp(x12)**(1/8)) + 0.405284734569351*x1*x8*x9/x11**2 - 0.405284734569351*x1*x8/(x11**2*exp(x12)**(1/8)) - 0.202642367284676*x1*x9**2/x11**4 + 0.405284734569351*x1*x9/(x11**4*exp(x12)**(1/8)) - 0.202642367284676*x1/(x11**4*exp(x12)**(1/4)) + x10**2 + 4*x10*x14 - 2*x10*x4 - 2*x10*x6 + 2*x10*x8 - 2*x10*x9/x11**2 + 2*x10/(x11**2*exp(x12)**(1/8)) + 4*x14**2 - 4*x14*x4 - 4*x14*x6 + 4*x14*x8 + x4**2 + 2*x4*x6 - 2*x4*x8 + x6**2 - 2*x6*x8 + x8**2 - 4*x14*x9/x11**2 + 4*x14/(x11**2*exp(x12)**(1/8)) + 2*x4*x9/x11**2 - 2*x4/(x11**2*exp(x12)**(1/8)) + 2*x6*x9/x11**2 - 2*x6/(x11**2*exp(x12)**(1/8)) - 2*x8*x9/x11**2 + 2*x8/(x11**2*exp(x12)**(1/8)) + x9**2/x11**4 - 2*x9/(x11**4*exp(x12)**(1/8)) + 1/(x11**4*exp(x12)**(1/4))))*exp(2*exp(x1**2)*exp(sqrt(x10)/x13)) + x8))"
      ]
     },
     "execution_count": 127,
     "metadata": {},
     "output_type": "execute_result"
    }
   ],
   "source": [
    "sym.expand(printGPModel(models[i]))"
   ]
  },
  {
   "cell_type": "code",
   "execution_count": 1,
   "metadata": {},
   "outputs": [
    {
     "ename": "NameError",
     "evalue": "name 'models' is not defined",
     "output_type": "error",
     "traceback": [
      "\u001b[0;31m---------------------------------------------------------------------------\u001b[0m",
      "\u001b[0;31mNameError\u001b[0m                                 Traceback (most recent call last)",
      "Cell \u001b[0;32mIn[1], line 1\u001b[0m\n\u001b[0;32m----> 1\u001b[0m \u001b[43mmodels\u001b[49m\n",
      "\u001b[0;31mNameError\u001b[0m: name 'models' is not defined"
     ]
    }
   ],
   "source": [
    "models"
   ]
  },
  {
   "cell_type": "code",
   "execution_count": null,
   "metadata": {},
   "outputs": [
    {
     "data": {
      "image/png": "[encoded data removed]",
      "text/plain": [
       "<Figure size 640x480 with 1 Axes>"
      ]
     },
     "metadata": {},
     "output_type": "display_data"
    }
   ],
   "source": [
    "plotModels(models)"
   ]
  },
  {
   "cell_type": "code",
   "execution_count": null,
   "metadata": {},
   "outputs": [
    {
     "data": {
      "text/latex": [
       "$\\displaystyle x_{4}^{6} \\left(x_{11} + x_{6} - 1\\right)^{2}$"
      ],
      "text/plain": [
       "x4**6*(x11 + x6 - 1)**2"
      ]
     },
     "execution_count": 12,
     "metadata": {},
     "output_type": "execute_result"
    }
   ],
   "source": [
    "printGPModel(models[0])"
   ]
  },
  {
   "cell_type": "code",
   "execution_count": null,
   "metadata": {},
   "outputs": [
    {
     "data": {
      "text/plain": [
       "6"
      ]
     },
     "execution_count": 13,
     "metadata": {},
     "output_type": "execute_result"
    }
   ],
   "source": [
    "basisFunctionComplexity(models[0])"
   ]
  },
  {
   "cell_type": "code",
   "execution_count": null,
   "metadata": {},
   "outputs": [],
   "source": []
  },
  {
   "cell_type": "code",
   "execution_count": 130,
   "metadata": {},
   "outputs": [],
   "source": [
    "eq1=printGPModel(models[1])"
   ]
  },
  {
   "cell_type": "code",
   "execution_count": 135,
   "metadata": {},
   "outputs": [
    {
     "name": "stdout",
     "output_type": "stream",
     "text": [
      "terms:  ['(x2', 'x8)*exp((-x13*x2', '1)/x2)']\n",
      "Number of basis terms in eq1: 3\n"
     ]
    }
   ],
   "source": [
    "import re\n",
    "from sympy import simplify\n",
    "\n",
    "def count_basis_terms(equation):\n",
    "    # Step 1: Simplify the equation to get rid of trivial operations\n",
    "    simplified_eq = simplify(equation)\n",
    "    \n",
    "    # Step 2: Split the equation into terms by identifying '+' or '-' not within parentheses\n",
    "    terms = re.split(r'(?<![\\(\\^])[\\+\\-]', str(simplified_eq))\n",
    "    \n",
    "    # Step 3: Filter out empty strings and whitespace\n",
    "    terms = [term.strip() for term in terms if term.strip()]\n",
    "    print(\"terms: \",terms)\n",
    "    # Return the count of basis terms\n",
    "    return len(terms)\n",
    "\n",
    "# Examples\n",
    "#eq1 = \"(x^2 + y)*(z+b)\"\n",
    "#eq2 = \"x^(a+2x) + y^(x-z)\"\n",
    "\n",
    "count1 = count_basis_terms(eq1)\n",
    "#count2 = count_basis_terms(eq2)\n",
    "\n",
    "print(f\"Number of basis terms in eq1: {count1}\")\n",
    "#print(f\"Number of basis terms in eq2: {count2}\")\n"
   ]
  },
  {
   "cell_type": "code",
   "execution_count": 158,
   "metadata": {},
   "outputs": [
    {
     "data": {
      "text/latex": [
       "$\\displaystyle e^{e^{x_{1} + x_{2}} - \\frac{1}{\\left(x_{4} - e^{x_{5} \\left(x_{4} - x_{8}\\right) e^{- x_{12} \\left(x_{7} + \\left(\\frac{x_{4}}{x_{11} x_{3}} - \\frac{0.101321183642338 x_{14}^{4}}{x_{11}^{4} \\sqrt[4]{e^{e^{\\sqrt[4]{x_{3}}}}}}\\right)^{2}\\right)}}\\right)^{2}}}$"
      ],
      "text/plain": [
       "exp(exp(x1 + x2) - 1/(x4 - exp(x5*(x4 - x8)*exp(-x12*(x7 + (x4/(x11*x3) - 0.101321183642338*x14**4/(x11**4*exp(exp(x3**(1/4)))**(1/4)))**2))))**2)"
      ]
     },
     "execution_count": 158,
     "metadata": {},
     "output_type": "execute_result"
    }
   ],
   "source": [
    "o+=1\n",
    "eq=printGPModel(models[o])\n",
    "eq"
   ]
  },
  {
   "cell_type": "code",
   "execution_count": 163,
   "metadata": {},
   "outputs": [
    {
     "data": {
      "text/plain": [
       "1000"
      ]
     },
     "execution_count": 163,
     "metadata": {},
     "output_type": "execute_result"
    }
   ],
   "source": [
    "count_basis_terms(eq)"
   ]
  },
  {
   "cell_type": "code",
   "execution_count": null,
   "metadata": {},
   "outputs": [],
   "source": [
    "import signal\n",
    "from contextlib import contextmanager\n",
    "\n",
    "class TimeoutException(Exception): pass\n",
    "\n",
    "@contextmanager\n",
    "def time_limit(seconds):\n",
    "    def signal_handler(signum, frame):\n",
    "        raise TimeoutException(\"Timed out!\")\n",
    "    signal.signal(signal.SIGALRM, signal_handler)\n",
    "    signal.alarm(seconds)\n",
    "    try:\n",
    "        yield\n",
    "    finally:\n",
    "        signal.alarm(0)"
   ]
  },
  {
   "cell_type": "code",
   "execution_count": 161,
   "metadata": {},
   "outputs": [],
   "source": [
    "from sympy import symbols, simplify, expand\n",
    "\n",
    "def count_basis_terms(equation):\n",
    "    try:\n",
    "        with time_limit(2):\n",
    "            # Step 1: Simplify the equation to standardize the expression\n",
    "            simplified_eq = simplify(equation)\n",
    "        \n",
    "            # Step 2: Expand the expression to identify additive terms clearly\n",
    "            expanded_eq = expand(simplified_eq)\n",
    "            \n",
    "            # Step 3: Separate the terms of the expression\n",
    "            terms = expanded_eq.as_ordered_terms()\n",
    "            print(terms)\n",
    "            # Return the count of basis terms\n",
    "    except TimeoutException as e:\n",
    "        return 1000\n",
    "    return len(terms)\n"
   ]
  },
  {
   "cell_type": "code",
   "execution_count": 160,
   "metadata": {},
   "outputs": [
    {
     "name": "stdout",
     "output_type": "stream",
     "text": [
      "Timed out!\n"
     ]
    }
   ],
   "source": [
    "\n",
    "\n",
    "\n",
    "try:\n",
    "    with time_limit(10):\n",
    "        print(count_basis_terms(eq))\n",
    "except TimeoutException as e:\n",
    "    print(\"Timed out!\")"
   ]
  },
  {
   "cell_type": "code",
   "execution_count": 162,
   "metadata": {},
   "outputs": [
    {
     "data": {
      "text/plain": [
       "1000"
      ]
     },
     "execution_count": 162,
     "metadata": {},
     "output_type": "execute_result"
    }
   ],
   "source": [
    "count_basis_terms(eq)"
   ]
  },
  {
   "cell_type": "code",
   "execution_count": null,
   "metadata": {},
   "outputs": [],
   "source": []
  }
 ],
 "metadata": {
  "kernelspec": {
   "display_name": "Python 3",
   "language": "python",
   "name": "python3"
  },
  "language_info": {
   "codemirror_mode": {
    "name": "ipython",
    "version": 3
   },
   "file_extension": ".py",
   "mimetype": "text/x-python",
   "name": "python",
   "nbconvert_exporter": "python",
   "pygments_lexer": "ipython3",
   "version": "3.9.13"
  }
 },
 "nbformat": 4,
 "nbformat_minor": 2
}
